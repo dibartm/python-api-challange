{
 "cells": [
  {
   "cell_type": "markdown",
   "metadata": {},
   "source": [
    "# WeatherPy\n",
    "\n",
    "---\n",
    "\n",
    "## Starter Code to Generate Random Geographic Coordinates and a List of Cities"
   ]
  },
  {
   "cell_type": "code",
   "execution_count": 8,
   "metadata": {},
   "outputs": [
    {
     "name": "stdout",
     "output_type": "stream",
     "text": [
      "731bbce085bac4305ebea659abc09712\n"
     ]
    }
   ],
   "source": [
    "import api_keys\n",
    "print(api_keys.weather_api_key)\n",
    "import numpy as np\n",
    "from citipy import citipy\n",
    "import requests as rq\n",
    "import pandas as pd\n",
    "import matplotlib.pyplot as plt\n",
    "from sklearn.linear_model import LinearRegression"
   ]
  },
  {
   "cell_type": "code",
   "execution_count": 9,
   "metadata": {
    "scrolled": true
   },
   "outputs": [
    {
     "name": "stdout",
     "output_type": "stream",
     "text": [
      "<citipy.citipy.City object at 0x7fba2f6ebbe0> cherskiy ru\n",
      "<citipy.citipy.City object at 0x7fba2f1cc9a0> vanimo pg\n",
      "[{'city': 'vanimo', 'lat': -2.6847646, 'lon': 141.3009131}]\n",
      "<citipy.citipy.City object at 0x7fba2bbdfcd0> albany au\n",
      "[{'city': 'vanimo', 'lat': -2.6847646, 'lon': 141.3009131}, {'city': 'albany', 'lat': -35.0247822, 'lon': 117.883608}]\n",
      "<citipy.citipy.City object at 0x7fba2bbba080> mar del plata ar\n",
      "[{'city': 'vanimo', 'lat': -2.6847646, 'lon': 141.3009131}, {'city': 'albany', 'lat': -35.0247822, 'lon': 117.883608}, {'city': 'mar del plata', 'lat': -37.9977225, 'lon': -57.5482703}]\n",
      "<citipy.citipy.City object at 0x7fba2e158160> saint george bm\n",
      "[{'city': 'vanimo', 'lat': -2.6847646, 'lon': 141.3009131}, {'city': 'albany', 'lat': -35.0247822, 'lon': 117.883608}, {'city': 'mar del plata', 'lat': -37.9977225, 'lon': -57.5482703}, {'city': 'saint george', 'lat': 32.3763819, 'lon': -64.68926342528714}]\n",
      "<citipy.citipy.City object at 0x7fba2f91e3b0> jiddah sa\n",
      "[{'city': 'vanimo', 'lat': -2.6847646, 'lon': 141.3009131}, {'city': 'albany', 'lat': -35.0247822, 'lon': 117.883608}, {'city': 'mar del plata', 'lat': -37.9977225, 'lon': -57.5482703}, {'city': 'saint george', 'lat': 32.3763819, 'lon': -64.68926342528714}, {'city': 'jiddah', 'lat': 21.5810088, 'lon': 39.1653612}]\n",
      "<citipy.citipy.City object at 0x7fba2edaaef0> butaritari ki\n",
      "[{'city': 'vanimo', 'lat': -2.6847646, 'lon': 141.3009131}, {'city': 'albany', 'lat': -35.0247822, 'lon': 117.883608}, {'city': 'mar del plata', 'lat': -37.9977225, 'lon': -57.5482703}, {'city': 'saint george', 'lat': 32.3763819, 'lon': -64.68926342528714}, {'city': 'jiddah', 'lat': 21.5810088, 'lon': 39.1653612}, {'city': 'butaritari', 'lat': 2.9205375, 'lon': 172.91886331442205}]\n",
      "<citipy.citipy.City object at 0x7fba2e370460> lebu cl\n",
      "[{'city': 'vanimo', 'lat': -2.6847646, 'lon': 141.3009131}, {'city': 'albany', 'lat': -35.0247822, 'lon': 117.883608}, {'city': 'mar del plata', 'lat': -37.9977225, 'lon': -57.5482703}, {'city': 'saint george', 'lat': 32.3763819, 'lon': -64.68926342528714}, {'city': 'jiddah', 'lat': 21.5810088, 'lon': 39.1653612}, {'city': 'butaritari', 'lat': 2.9205375, 'lon': 172.91886331442205}, {'city': 'lebu', 'lat': -37.6099644, 'lon': -73.6559477}]\n",
      "<citipy.citipy.City object at 0x7fba2eef4d90> minas uy\n",
      "[{'city': 'vanimo', 'lat': -2.6847646, 'lon': 141.3009131}, {'city': 'albany', 'lat': -35.0247822, 'lon': 117.883608}, {'city': 'mar del plata', 'lat': -37.9977225, 'lon': -57.5482703}, {'city': 'saint george', 'lat': 32.3763819, 'lon': -64.68926342528714}, {'city': 'jiddah', 'lat': 21.5810088, 'lon': 39.1653612}, {'city': 'butaritari', 'lat': 2.9205375, 'lon': 172.91886331442205}, {'city': 'lebu', 'lat': -37.6099644, 'lon': -73.6559477}, {'city': 'minas', 'lat': -34.3773987, 'lon': -55.2382144}]\n",
      "<citipy.citipy.City object at 0x7fba2f864af0> sentyabrskiy ru\n",
      "<citipy.citipy.City object at 0x7fba2ef64a30> toliary mg\n",
      "<citipy.citipy.City object at 0x7fba2fb68d00> hilo us\n",
      "[{'city': 'vanimo', 'lat': -2.6847646, 'lon': 141.3009131}, {'city': 'albany', 'lat': -35.0247822, 'lon': 117.883608}, {'city': 'mar del plata', 'lat': -37.9977225, 'lon': -57.5482703}, {'city': 'saint george', 'lat': 32.3763819, 'lon': -64.68926342528714}, {'city': 'jiddah', 'lat': 21.5810088, 'lon': 39.1653612}, {'city': 'butaritari', 'lat': 2.9205375, 'lon': 172.91886331442205}, {'city': 'lebu', 'lat': -37.6099644, 'lon': -73.6559477}, {'city': 'minas', 'lat': -34.3773987, 'lon': -55.2382144}, {'city': 'hilo', 'lat': 19.7073734, 'lon': -155.08158}]\n",
      "<citipy.citipy.City object at 0x7fba2edaaef0> butaritari ki\n",
      "[{'city': 'vanimo', 'lat': -2.6847646, 'lon': 141.3009131}, {'city': 'albany', 'lat': -35.0247822, 'lon': 117.883608}, {'city': 'mar del plata', 'lat': -37.9977225, 'lon': -57.5482703}, {'city': 'saint george', 'lat': 32.3763819, 'lon': -64.68926342528714}, {'city': 'jiddah', 'lat': 21.5810088, 'lon': 39.1653612}, {'city': 'butaritari', 'lat': 2.9205375, 'lon': 172.91886331442205}, {'city': 'lebu', 'lat': -37.6099644, 'lon': -73.6559477}, {'city': 'minas', 'lat': -34.3773987, 'lon': -55.2382144}, {'city': 'hilo', 'lat': 19.7073734, 'lon': -155.08158}, {'city': 'butaritari', 'lat': 2.9205375, 'lon': 172.91886331442205}]\n",
      "<citipy.citipy.City object at 0x7fba2f7a4640> leningradskiy ru\n",
      "[{'city': 'vanimo', 'lat': -2.6847646, 'lon': 141.3009131}, {'city': 'albany', 'lat': -35.0247822, 'lon': 117.883608}, {'city': 'mar del plata', 'lat': -37.9977225, 'lon': -57.5482703}, {'city': 'saint george', 'lat': 32.3763819, 'lon': -64.68926342528714}, {'city': 'jiddah', 'lat': 21.5810088, 'lon': 39.1653612}, {'city': 'butaritari', 'lat': 2.9205375, 'lon': 172.91886331442205}, {'city': 'lebu', 'lat': -37.6099644, 'lon': -73.6559477}, {'city': 'minas', 'lat': -34.3773987, 'lon': -55.2382144}, {'city': 'hilo', 'lat': 19.7073734, 'lon': -155.08158}, {'city': 'butaritari', 'lat': 2.9205375, 'lon': 172.91886331442205}, {'city': 'leningradskiy', 'lat': 54.129108, 'lon': 79.236702}]\n",
      "<citipy.citipy.City object at 0x7fba2f151060> vardo no\n",
      "[{'city': 'vanimo', 'lat': -2.6847646, 'lon': 141.3009131}, {'city': 'albany', 'lat': -35.0247822, 'lon': 117.883608}, {'city': 'mar del plata', 'lat': -37.9977225, 'lon': -57.5482703}, {'city': 'saint george', 'lat': 32.3763819, 'lon': -64.68926342528714}, {'city': 'jiddah', 'lat': 21.5810088, 'lon': 39.1653612}, {'city': 'butaritari', 'lat': 2.9205375, 'lon': 172.91886331442205}, {'city': 'lebu', 'lat': -37.6099644, 'lon': -73.6559477}, {'city': 'minas', 'lat': -34.3773987, 'lon': -55.2382144}, {'city': 'hilo', 'lat': 19.7073734, 'lon': -155.08158}, {'city': 'butaritari', 'lat': 2.9205375, 'lon': 172.91886331442205}, {'city': 'leningradskiy', 'lat': 54.129108, 'lon': 79.236702}, {'city': 'vardo', 'lat': 70.3308174, 'lon': 30.961751972265887}]\n",
      "<citipy.citipy.City object at 0x7fba2f1c2170> atuona pf\n",
      "<citipy.citipy.City object at 0x7fba2e872920> illoqqortoormiut gl\n",
      "[{'city': 'vanimo', 'lat': -2.6847646, 'lon': 141.3009131}, {'city': 'albany', 'lat': -35.0247822, 'lon': 117.883608}, {'city': 'mar del plata', 'lat': -37.9977225, 'lon': -57.5482703}, {'city': 'saint george', 'lat': 32.3763819, 'lon': -64.68926342528714}, {'city': 'jiddah', 'lat': 21.5810088, 'lon': 39.1653612}, {'city': 'butaritari', 'lat': 2.9205375, 'lon': 172.91886331442205}, {'city': 'lebu', 'lat': -37.6099644, 'lon': -73.6559477}, {'city': 'minas', 'lat': -34.3773987, 'lon': -55.2382144}, {'city': 'hilo', 'lat': 19.7073734, 'lon': -155.08158}, {'city': 'butaritari', 'lat': 2.9205375, 'lon': 172.91886331442205}, {'city': 'leningradskiy', 'lat': 54.129108, 'lon': 79.236702}, {'city': 'vardo', 'lat': 70.3308174, 'lon': 30.961751972265887}, {'city': 'illoqqortoormiut', 'lat': 70.4850588, 'lon': -21.9641992}]\n",
      "<citipy.citipy.City object at 0x7fba2f9758a0> odweyne so\n",
      "[{'city': 'vanimo', 'lat': -2.6847646, 'lon': 141.3009131}, {'city': 'albany', 'lat': -35.0247822, 'lon': 117.883608}, {'city': 'mar del plata', 'lat': -37.9977225, 'lon': -57.5482703}, {'city': 'saint george', 'lat': 32.3763819, 'lon': -64.68926342528714}, {'city': 'jiddah', 'lat': 21.5810088, 'lon': 39.1653612}, {'city': 'butaritari', 'lat': 2.9205375, 'lon': 172.91886331442205}, {'city': 'lebu', 'lat': -37.6099644, 'lon': -73.6559477}, {'city': 'minas', 'lat': -34.3773987, 'lon': -55.2382144}, {'city': 'hilo', 'lat': 19.7073734, 'lon': -155.08158}, {'city': 'butaritari', 'lat': 2.9205375, 'lon': 172.91886331442205}, {'city': 'leningradskiy', 'lat': 54.129108, 'lon': 79.236702}, {'city': 'vardo', 'lat': 70.3308174, 'lon': 30.961751972265887}, {'city': 'illoqqortoormiut', 'lat': 70.4850588, 'lon': -21.9641992}, {'city': 'odweyne', 'lat': 9.40701, 'lon': 45.06358}]\n",
      "<citipy.citipy.City object at 0x7fba2fa106a0> chake chake tz\n",
      "[{'city': 'vanimo', 'lat': -2.6847646, 'lon': 141.3009131}, {'city': 'albany', 'lat': -35.0247822, 'lon': 117.883608}, {'city': 'mar del plata', 'lat': -37.9977225, 'lon': -57.5482703}, {'city': 'saint george', 'lat': 32.3763819, 'lon': -64.68926342528714}, {'city': 'jiddah', 'lat': 21.5810088, 'lon': 39.1653612}, {'city': 'butaritari', 'lat': 2.9205375, 'lon': 172.91886331442205}, {'city': 'lebu', 'lat': -37.6099644, 'lon': -73.6559477}, {'city': 'minas', 'lat': -34.3773987, 'lon': -55.2382144}, {'city': 'hilo', 'lat': 19.7073734, 'lon': -155.08158}, {'city': 'butaritari', 'lat': 2.9205375, 'lon': 172.91886331442205}, {'city': 'leningradskiy', 'lat': 54.129108, 'lon': 79.236702}, {'city': 'vardo', 'lat': 70.3308174, 'lon': 30.961751972265887}, {'city': 'illoqqortoormiut', 'lat': 70.4850588, 'lon': -21.9641992}, {'city': 'odweyne', 'lat': 9.40701, 'lon': 45.06358}, {'city': 'chake chake', 'lat': -5.2440346, 'lon': 39.7685075}]\n",
      "<citipy.citipy.City object at 0x7fba2fee9270> bredasdorp za\n"
     ]
    },
    {
     "name": "stdout",
     "output_type": "stream",
     "text": [
      "[{'city': 'vanimo', 'lat': -2.6847646, 'lon': 141.3009131}, {'city': 'albany', 'lat': -35.0247822, 'lon': 117.883608}, {'city': 'mar del plata', 'lat': -37.9977225, 'lon': -57.5482703}, {'city': 'saint george', 'lat': 32.3763819, 'lon': -64.68926342528714}, {'city': 'jiddah', 'lat': 21.5810088, 'lon': 39.1653612}, {'city': 'butaritari', 'lat': 2.9205375, 'lon': 172.91886331442205}, {'city': 'lebu', 'lat': -37.6099644, 'lon': -73.6559477}, {'city': 'minas', 'lat': -34.3773987, 'lon': -55.2382144}, {'city': 'hilo', 'lat': 19.7073734, 'lon': -155.08158}, {'city': 'butaritari', 'lat': 2.9205375, 'lon': 172.91886331442205}, {'city': 'leningradskiy', 'lat': 54.129108, 'lon': 79.236702}, {'city': 'vardo', 'lat': 70.3308174, 'lon': 30.961751972265887}, {'city': 'illoqqortoormiut', 'lat': 70.4850588, 'lon': -21.9641992}, {'city': 'odweyne', 'lat': 9.40701, 'lon': 45.06358}, {'city': 'chake chake', 'lat': -5.2440346, 'lon': 39.7685075}, {'city': 'bredasdorp', 'lat': -34.533055, 'lon': 20.042778}]\n",
      "<citipy.citipy.City object at 0x7fba2f93c7c0> jamestown sh\n",
      "[{'city': 'vanimo', 'lat': -2.6847646, 'lon': 141.3009131}, {'city': 'albany', 'lat': -35.0247822, 'lon': 117.883608}, {'city': 'mar del plata', 'lat': -37.9977225, 'lon': -57.5482703}, {'city': 'saint george', 'lat': 32.3763819, 'lon': -64.68926342528714}, {'city': 'jiddah', 'lat': 21.5810088, 'lon': 39.1653612}, {'city': 'butaritari', 'lat': 2.9205375, 'lon': 172.91886331442205}, {'city': 'lebu', 'lat': -37.6099644, 'lon': -73.6559477}, {'city': 'minas', 'lat': -34.3773987, 'lon': -55.2382144}, {'city': 'hilo', 'lat': 19.7073734, 'lon': -155.08158}, {'city': 'butaritari', 'lat': 2.9205375, 'lon': 172.91886331442205}, {'city': 'leningradskiy', 'lat': 54.129108, 'lon': 79.236702}, {'city': 'vardo', 'lat': 70.3308174, 'lon': 30.961751972265887}, {'city': 'illoqqortoormiut', 'lat': 70.4850588, 'lon': -21.9641992}, {'city': 'odweyne', 'lat': 9.40701, 'lon': 45.06358}, {'city': 'chake chake', 'lat': -5.2440346, 'lon': 39.7685075}, {'city': 'bredasdorp', 'lat': -34.533055, 'lon': 20.042778}, {'city': 'jamestown', 'lat': -15.9277296, 'lon': -5.7160872}]\n",
      "<citipy.citipy.City object at 0x7fba2e371300> punta arenas cl\n",
      "[{'city': 'vanimo', 'lat': -2.6847646, 'lon': 141.3009131}, {'city': 'albany', 'lat': -35.0247822, 'lon': 117.883608}, {'city': 'mar del plata', 'lat': -37.9977225, 'lon': -57.5482703}, {'city': 'saint george', 'lat': 32.3763819, 'lon': -64.68926342528714}, {'city': 'jiddah', 'lat': 21.5810088, 'lon': 39.1653612}, {'city': 'butaritari', 'lat': 2.9205375, 'lon': 172.91886331442205}, {'city': 'lebu', 'lat': -37.6099644, 'lon': -73.6559477}, {'city': 'minas', 'lat': -34.3773987, 'lon': -55.2382144}, {'city': 'hilo', 'lat': 19.7073734, 'lon': -155.08158}, {'city': 'butaritari', 'lat': 2.9205375, 'lon': 172.91886331442205}, {'city': 'leningradskiy', 'lat': 54.129108, 'lon': 79.236702}, {'city': 'vardo', 'lat': 70.3308174, 'lon': 30.961751972265887}, {'city': 'illoqqortoormiut', 'lat': 70.4850588, 'lon': -21.9641992}, {'city': 'odweyne', 'lat': 9.40701, 'lon': 45.06358}, {'city': 'chake chake', 'lat': -5.2440346, 'lon': 39.7685075}, {'city': 'bredasdorp', 'lat': -34.533055, 'lon': 20.042778}, {'city': 'jamestown', 'lat': -15.9277296, 'lon': -5.7160872}, {'city': 'punta arenas', 'lat': -53.1625688, 'lon': -70.907822}]\n",
      "<citipy.citipy.City object at 0x7fba2ea60f40> rantepao id\n",
      "[{'city': 'vanimo', 'lat': -2.6847646, 'lon': 141.3009131}, {'city': 'albany', 'lat': -35.0247822, 'lon': 117.883608}, {'city': 'mar del plata', 'lat': -37.9977225, 'lon': -57.5482703}, {'city': 'saint george', 'lat': 32.3763819, 'lon': -64.68926342528714}, {'city': 'jiddah', 'lat': 21.5810088, 'lon': 39.1653612}, {'city': 'butaritari', 'lat': 2.9205375, 'lon': 172.91886331442205}, {'city': 'lebu', 'lat': -37.6099644, 'lon': -73.6559477}, {'city': 'minas', 'lat': -34.3773987, 'lon': -55.2382144}, {'city': 'hilo', 'lat': 19.7073734, 'lon': -155.08158}, {'city': 'butaritari', 'lat': 2.9205375, 'lon': 172.91886331442205}, {'city': 'leningradskiy', 'lat': 54.129108, 'lon': 79.236702}, {'city': 'vardo', 'lat': 70.3308174, 'lon': 30.961751972265887}, {'city': 'illoqqortoormiut', 'lat': 70.4850588, 'lon': -21.9641992}, {'city': 'odweyne', 'lat': 9.40701, 'lon': 45.06358}, {'city': 'chake chake', 'lat': -5.2440346, 'lon': 39.7685075}, {'city': 'bredasdorp', 'lat': -34.533055, 'lon': 20.042778}, {'city': 'jamestown', 'lat': -15.9277296, 'lon': -5.7160872}, {'city': 'punta arenas', 'lat': -53.1625688, 'lon': -70.907822}, {'city': 'rantepao', 'lat': -2.9704575, 'lon': 119.8987167}]\n",
      "<citipy.citipy.City object at 0x7fba2e31d240> wynyard ca\n",
      "[{'city': 'vanimo', 'lat': -2.6847646, 'lon': 141.3009131}, {'city': 'albany', 'lat': -35.0247822, 'lon': 117.883608}, {'city': 'mar del plata', 'lat': -37.9977225, 'lon': -57.5482703}, {'city': 'saint george', 'lat': 32.3763819, 'lon': -64.68926342528714}, {'city': 'jiddah', 'lat': 21.5810088, 'lon': 39.1653612}, {'city': 'butaritari', 'lat': 2.9205375, 'lon': 172.91886331442205}, {'city': 'lebu', 'lat': -37.6099644, 'lon': -73.6559477}, {'city': 'minas', 'lat': -34.3773987, 'lon': -55.2382144}, {'city': 'hilo', 'lat': 19.7073734, 'lon': -155.08158}, {'city': 'butaritari', 'lat': 2.9205375, 'lon': 172.91886331442205}, {'city': 'leningradskiy', 'lat': 54.129108, 'lon': 79.236702}, {'city': 'vardo', 'lat': 70.3308174, 'lon': 30.961751972265887}, {'city': 'illoqqortoormiut', 'lat': 70.4850588, 'lon': -21.9641992}, {'city': 'odweyne', 'lat': 9.40701, 'lon': 45.06358}, {'city': 'chake chake', 'lat': -5.2440346, 'lon': 39.7685075}, {'city': 'bredasdorp', 'lat': -34.533055, 'lon': 20.042778}, {'city': 'jamestown', 'lat': -15.9277296, 'lon': -5.7160872}, {'city': 'punta arenas', 'lat': -53.1625688, 'lon': -70.907822}, {'city': 'rantepao', 'lat': -2.9704575, 'lon': 119.8987167}, {'city': 'wynyard', 'lat': 51.766667, 'lon': -104.183333}]\n",
      "<citipy.citipy.City object at 0x7fba2edb9570> esil kz\n",
      "[{'city': 'vanimo', 'lat': -2.6847646, 'lon': 141.3009131}, {'city': 'albany', 'lat': -35.0247822, 'lon': 117.883608}, {'city': 'mar del plata', 'lat': -37.9977225, 'lon': -57.5482703}, {'city': 'saint george', 'lat': 32.3763819, 'lon': -64.68926342528714}, {'city': 'jiddah', 'lat': 21.5810088, 'lon': 39.1653612}, {'city': 'butaritari', 'lat': 2.9205375, 'lon': 172.91886331442205}, {'city': 'lebu', 'lat': -37.6099644, 'lon': -73.6559477}, {'city': 'minas', 'lat': -34.3773987, 'lon': -55.2382144}, {'city': 'hilo', 'lat': 19.7073734, 'lon': -155.08158}, {'city': 'butaritari', 'lat': 2.9205375, 'lon': 172.91886331442205}, {'city': 'leningradskiy', 'lat': 54.129108, 'lon': 79.236702}, {'city': 'vardo', 'lat': 70.3308174, 'lon': 30.961751972265887}, {'city': 'illoqqortoormiut', 'lat': 70.4850588, 'lon': -21.9641992}, {'city': 'odweyne', 'lat': 9.40701, 'lon': 45.06358}, {'city': 'chake chake', 'lat': -5.2440346, 'lon': 39.7685075}, {'city': 'bredasdorp', 'lat': -34.533055, 'lon': 20.042778}, {'city': 'jamestown', 'lat': -15.9277296, 'lon': -5.7160872}, {'city': 'punta arenas', 'lat': -53.1625688, 'lon': -70.907822}, {'city': 'rantepao', 'lat': -2.9704575, 'lon': 119.8987167}, {'city': 'wynyard', 'lat': 51.766667, 'lon': -104.183333}, {'city': 'esil', 'lat': 51.9601511, 'lon': 66.4088826}]\n",
      "<citipy.citipy.City object at 0x7fba2f74e5f0> khandyga ru\n",
      "[{'city': 'vanimo', 'lat': -2.6847646, 'lon': 141.3009131}, {'city': 'albany', 'lat': -35.0247822, 'lon': 117.883608}, {'city': 'mar del plata', 'lat': -37.9977225, 'lon': -57.5482703}, {'city': 'saint george', 'lat': 32.3763819, 'lon': -64.68926342528714}, {'city': 'jiddah', 'lat': 21.5810088, 'lon': 39.1653612}, {'city': 'butaritari', 'lat': 2.9205375, 'lon': 172.91886331442205}, {'city': 'lebu', 'lat': -37.6099644, 'lon': -73.6559477}, {'city': 'minas', 'lat': -34.3773987, 'lon': -55.2382144}, {'city': 'hilo', 'lat': 19.7073734, 'lon': -155.08158}, {'city': 'butaritari', 'lat': 2.9205375, 'lon': 172.91886331442205}, {'city': 'leningradskiy', 'lat': 54.129108, 'lon': 79.236702}, {'city': 'vardo', 'lat': 70.3308174, 'lon': 30.961751972265887}, {'city': 'illoqqortoormiut', 'lat': 70.4850588, 'lon': -21.9641992}, {'city': 'odweyne', 'lat': 9.40701, 'lon': 45.06358}, {'city': 'chake chake', 'lat': -5.2440346, 'lon': 39.7685075}, {'city': 'bredasdorp', 'lat': -34.533055, 'lon': 20.042778}, {'city': 'jamestown', 'lat': -15.9277296, 'lon': -5.7160872}, {'city': 'punta arenas', 'lat': -53.1625688, 'lon': -70.907822}, {'city': 'rantepao', 'lat': -2.9704575, 'lon': 119.8987167}, {'city': 'wynyard', 'lat': 51.766667, 'lon': -104.183333}, {'city': 'esil', 'lat': 51.9601511, 'lon': 66.4088826}, {'city': 'khandyga', 'lat': 62.6477939, 'lon': 135.5750942}]\n",
      "<citipy.citipy.City object at 0x7fba2e2e6950> norman wells ca\n"
     ]
    },
    {
     "name": "stdout",
     "output_type": "stream",
     "text": [
      "[{'city': 'vanimo', 'lat': -2.6847646, 'lon': 141.3009131}, {'city': 'albany', 'lat': -35.0247822, 'lon': 117.883608}, {'city': 'mar del plata', 'lat': -37.9977225, 'lon': -57.5482703}, {'city': 'saint george', 'lat': 32.3763819, 'lon': -64.68926342528714}, {'city': 'jiddah', 'lat': 21.5810088, 'lon': 39.1653612}, {'city': 'butaritari', 'lat': 2.9205375, 'lon': 172.91886331442205}, {'city': 'lebu', 'lat': -37.6099644, 'lon': -73.6559477}, {'city': 'minas', 'lat': -34.3773987, 'lon': -55.2382144}, {'city': 'hilo', 'lat': 19.7073734, 'lon': -155.08158}, {'city': 'butaritari', 'lat': 2.9205375, 'lon': 172.91886331442205}, {'city': 'leningradskiy', 'lat': 54.129108, 'lon': 79.236702}, {'city': 'vardo', 'lat': 70.3308174, 'lon': 30.961751972265887}, {'city': 'illoqqortoormiut', 'lat': 70.4850588, 'lon': -21.9641992}, {'city': 'odweyne', 'lat': 9.40701, 'lon': 45.06358}, {'city': 'chake chake', 'lat': -5.2440346, 'lon': 39.7685075}, {'city': 'bredasdorp', 'lat': -34.533055, 'lon': 20.042778}, {'city': 'jamestown', 'lat': -15.9277296, 'lon': -5.7160872}, {'city': 'punta arenas', 'lat': -53.1625688, 'lon': -70.907822}, {'city': 'rantepao', 'lat': -2.9704575, 'lon': 119.8987167}, {'city': 'wynyard', 'lat': 51.766667, 'lon': -104.183333}, {'city': 'esil', 'lat': 51.9601511, 'lon': 66.4088826}, {'city': 'khandyga', 'lat': 62.6477939, 'lon': 135.5750942}, {'city': 'norman wells', 'lat': 65.282401, 'lon': -126.832725}]\n",
      "<citipy.citipy.City object at 0x7fba2e2b0dc0> attawapiskat ca\n",
      "[{'city': 'vanimo', 'lat': -2.6847646, 'lon': 141.3009131}, {'city': 'albany', 'lat': -35.0247822, 'lon': 117.883608}, {'city': 'mar del plata', 'lat': -37.9977225, 'lon': -57.5482703}, {'city': 'saint george', 'lat': 32.3763819, 'lon': -64.68926342528714}, {'city': 'jiddah', 'lat': 21.5810088, 'lon': 39.1653612}, {'city': 'butaritari', 'lat': 2.9205375, 'lon': 172.91886331442205}, {'city': 'lebu', 'lat': -37.6099644, 'lon': -73.6559477}, {'city': 'minas', 'lat': -34.3773987, 'lon': -55.2382144}, {'city': 'hilo', 'lat': 19.7073734, 'lon': -155.08158}, {'city': 'butaritari', 'lat': 2.9205375, 'lon': 172.91886331442205}, {'city': 'leningradskiy', 'lat': 54.129108, 'lon': 79.236702}, {'city': 'vardo', 'lat': 70.3308174, 'lon': 30.961751972265887}, {'city': 'illoqqortoormiut', 'lat': 70.4850588, 'lon': -21.9641992}, {'city': 'odweyne', 'lat': 9.40701, 'lon': 45.06358}, {'city': 'chake chake', 'lat': -5.2440346, 'lon': 39.7685075}, {'city': 'bredasdorp', 'lat': -34.533055, 'lon': 20.042778}, {'city': 'jamestown', 'lat': -15.9277296, 'lon': -5.7160872}, {'city': 'punta arenas', 'lat': -53.1625688, 'lon': -70.907822}, {'city': 'rantepao', 'lat': -2.9704575, 'lon': 119.8987167}, {'city': 'wynyard', 'lat': 51.766667, 'lon': -104.183333}, {'city': 'esil', 'lat': 51.9601511, 'lon': 66.4088826}, {'city': 'khandyga', 'lat': 62.6477939, 'lon': 135.5750942}, {'city': 'norman wells', 'lat': 65.282401, 'lon': -126.832725}, {'city': 'attawapiskat', 'lat': 52.9244075, 'lon': -82.4270112}]\n",
      "<citipy.citipy.City object at 0x7fba2e6569b0> matay eg\n",
      "[{'city': 'vanimo', 'lat': -2.6847646, 'lon': 141.3009131}, {'city': 'albany', 'lat': -35.0247822, 'lon': 117.883608}, {'city': 'mar del plata', 'lat': -37.9977225, 'lon': -57.5482703}, {'city': 'saint george', 'lat': 32.3763819, 'lon': -64.68926342528714}, {'city': 'jiddah', 'lat': 21.5810088, 'lon': 39.1653612}, {'city': 'butaritari', 'lat': 2.9205375, 'lon': 172.91886331442205}, {'city': 'lebu', 'lat': -37.6099644, 'lon': -73.6559477}, {'city': 'minas', 'lat': -34.3773987, 'lon': -55.2382144}, {'city': 'hilo', 'lat': 19.7073734, 'lon': -155.08158}, {'city': 'butaritari', 'lat': 2.9205375, 'lon': 172.91886331442205}, {'city': 'leningradskiy', 'lat': 54.129108, 'lon': 79.236702}, {'city': 'vardo', 'lat': 70.3308174, 'lon': 30.961751972265887}, {'city': 'illoqqortoormiut', 'lat': 70.4850588, 'lon': -21.9641992}, {'city': 'odweyne', 'lat': 9.40701, 'lon': 45.06358}, {'city': 'chake chake', 'lat': -5.2440346, 'lon': 39.7685075}, {'city': 'bredasdorp', 'lat': -34.533055, 'lon': 20.042778}, {'city': 'jamestown', 'lat': -15.9277296, 'lon': -5.7160872}, {'city': 'punta arenas', 'lat': -53.1625688, 'lon': -70.907822}, {'city': 'rantepao', 'lat': -2.9704575, 'lon': 119.8987167}, {'city': 'wynyard', 'lat': 51.766667, 'lon': -104.183333}, {'city': 'esil', 'lat': 51.9601511, 'lon': 66.4088826}, {'city': 'khandyga', 'lat': 62.6477939, 'lon': 135.5750942}, {'city': 'norman wells', 'lat': 65.282401, 'lon': -126.832725}, {'city': 'attawapiskat', 'lat': 52.9244075, 'lon': -82.4270112}, {'city': 'matay', 'lat': 28.4176905, 'lon': 30.7861579}]\n",
      "<citipy.citipy.City object at 0x7fba2f7eff70> novopavlovka ru\n",
      "[{'city': 'vanimo', 'lat': -2.6847646, 'lon': 141.3009131}, {'city': 'albany', 'lat': -35.0247822, 'lon': 117.883608}, {'city': 'mar del plata', 'lat': -37.9977225, 'lon': -57.5482703}, {'city': 'saint george', 'lat': 32.3763819, 'lon': -64.68926342528714}, {'city': 'jiddah', 'lat': 21.5810088, 'lon': 39.1653612}, {'city': 'butaritari', 'lat': 2.9205375, 'lon': 172.91886331442205}, {'city': 'lebu', 'lat': -37.6099644, 'lon': -73.6559477}, {'city': 'minas', 'lat': -34.3773987, 'lon': -55.2382144}, {'city': 'hilo', 'lat': 19.7073734, 'lon': -155.08158}, {'city': 'butaritari', 'lat': 2.9205375, 'lon': 172.91886331442205}, {'city': 'leningradskiy', 'lat': 54.129108, 'lon': 79.236702}, {'city': 'vardo', 'lat': 70.3308174, 'lon': 30.961751972265887}, {'city': 'illoqqortoormiut', 'lat': 70.4850588, 'lon': -21.9641992}, {'city': 'odweyne', 'lat': 9.40701, 'lon': 45.06358}, {'city': 'chake chake', 'lat': -5.2440346, 'lon': 39.7685075}, {'city': 'bredasdorp', 'lat': -34.533055, 'lon': 20.042778}, {'city': 'jamestown', 'lat': -15.9277296, 'lon': -5.7160872}, {'city': 'punta arenas', 'lat': -53.1625688, 'lon': -70.907822}, {'city': 'rantepao', 'lat': -2.9704575, 'lon': 119.8987167}, {'city': 'wynyard', 'lat': 51.766667, 'lon': -104.183333}, {'city': 'esil', 'lat': 51.9601511, 'lon': 66.4088826}, {'city': 'khandyga', 'lat': 62.6477939, 'lon': 135.5750942}, {'city': 'norman wells', 'lat': 65.282401, 'lon': -126.832725}, {'city': 'attawapiskat', 'lat': 52.9244075, 'lon': -82.4270112}, {'city': 'matay', 'lat': 28.4176905, 'lon': 30.7861579}, {'city': 'novopavlovka', 'lat': 49.113228, 'lon': 41.036873}]\n",
      "<citipy.citipy.City object at 0x7fba2f7ec730> nizhneyansk ru\n",
      "[{'city': 'vanimo', 'lat': -2.6847646, 'lon': 141.3009131}, {'city': 'albany', 'lat': -35.0247822, 'lon': 117.883608}, {'city': 'mar del plata', 'lat': -37.9977225, 'lon': -57.5482703}, {'city': 'saint george', 'lat': 32.3763819, 'lon': -64.68926342528714}, {'city': 'jiddah', 'lat': 21.5810088, 'lon': 39.1653612}, {'city': 'butaritari', 'lat': 2.9205375, 'lon': 172.91886331442205}, {'city': 'lebu', 'lat': -37.6099644, 'lon': -73.6559477}, {'city': 'minas', 'lat': -34.3773987, 'lon': -55.2382144}, {'city': 'hilo', 'lat': 19.7073734, 'lon': -155.08158}, {'city': 'butaritari', 'lat': 2.9205375, 'lon': 172.91886331442205}, {'city': 'leningradskiy', 'lat': 54.129108, 'lon': 79.236702}, {'city': 'vardo', 'lat': 70.3308174, 'lon': 30.961751972265887}, {'city': 'illoqqortoormiut', 'lat': 70.4850588, 'lon': -21.9641992}, {'city': 'odweyne', 'lat': 9.40701, 'lon': 45.06358}, {'city': 'chake chake', 'lat': -5.2440346, 'lon': 39.7685075}, {'city': 'bredasdorp', 'lat': -34.533055, 'lon': 20.042778}, {'city': 'jamestown', 'lat': -15.9277296, 'lon': -5.7160872}, {'city': 'punta arenas', 'lat': -53.1625688, 'lon': -70.907822}, {'city': 'rantepao', 'lat': -2.9704575, 'lon': 119.8987167}, {'city': 'wynyard', 'lat': 51.766667, 'lon': -104.183333}, {'city': 'esil', 'lat': 51.9601511, 'lon': 66.4088826}, {'city': 'khandyga', 'lat': 62.6477939, 'lon': 135.5750942}, {'city': 'norman wells', 'lat': 65.282401, 'lon': -126.832725}, {'city': 'attawapiskat', 'lat': 52.9244075, 'lon': -82.4270112}, {'city': 'matay', 'lat': 28.4176905, 'lon': 30.7861579}, {'city': 'novopavlovka', 'lat': 49.113228, 'lon': 41.036873}, {'city': 'nizhneyansk', 'lat': 71.440445, 'lon': 136.130646}]\n",
      "<citipy.citipy.City object at 0x7fba2fb68d00> hilo us\n",
      "[{'city': 'vanimo', 'lat': -2.6847646, 'lon': 141.3009131}, {'city': 'albany', 'lat': -35.0247822, 'lon': 117.883608}, {'city': 'mar del plata', 'lat': -37.9977225, 'lon': -57.5482703}, {'city': 'saint george', 'lat': 32.3763819, 'lon': -64.68926342528714}, {'city': 'jiddah', 'lat': 21.5810088, 'lon': 39.1653612}, {'city': 'butaritari', 'lat': 2.9205375, 'lon': 172.91886331442205}, {'city': 'lebu', 'lat': -37.6099644, 'lon': -73.6559477}, {'city': 'minas', 'lat': -34.3773987, 'lon': -55.2382144}, {'city': 'hilo', 'lat': 19.7073734, 'lon': -155.08158}, {'city': 'butaritari', 'lat': 2.9205375, 'lon': 172.91886331442205}, {'city': 'leningradskiy', 'lat': 54.129108, 'lon': 79.236702}, {'city': 'vardo', 'lat': 70.3308174, 'lon': 30.961751972265887}, {'city': 'illoqqortoormiut', 'lat': 70.4850588, 'lon': -21.9641992}, {'city': 'odweyne', 'lat': 9.40701, 'lon': 45.06358}, {'city': 'chake chake', 'lat': -5.2440346, 'lon': 39.7685075}, {'city': 'bredasdorp', 'lat': -34.533055, 'lon': 20.042778}, {'city': 'jamestown', 'lat': -15.9277296, 'lon': -5.7160872}, {'city': 'punta arenas', 'lat': -53.1625688, 'lon': -70.907822}, {'city': 'rantepao', 'lat': -2.9704575, 'lon': 119.8987167}, {'city': 'wynyard', 'lat': 51.766667, 'lon': -104.183333}, {'city': 'esil', 'lat': 51.9601511, 'lon': 66.4088826}, {'city': 'khandyga', 'lat': 62.6477939, 'lon': 135.5750942}, {'city': 'norman wells', 'lat': 65.282401, 'lon': -126.832725}, {'city': 'attawapiskat', 'lat': 52.9244075, 'lon': -82.4270112}, {'city': 'matay', 'lat': 28.4176905, 'lon': 30.7861579}, {'city': 'novopavlovka', 'lat': 49.113228, 'lon': 41.036873}, {'city': 'nizhneyansk', 'lat': 71.440445, 'lon': 136.130646}, {'city': 'hilo', 'lat': 19.7073734, 'lon': -155.08158}]\n",
      "<citipy.citipy.City object at 0x7fba2f6c6410> belushya guba ru\n"
     ]
    },
    {
     "name": "stdout",
     "output_type": "stream",
     "text": [
      "[{'city': 'vanimo', 'lat': -2.6847646, 'lon': 141.3009131}, {'city': 'albany', 'lat': -35.0247822, 'lon': 117.883608}, {'city': 'mar del plata', 'lat': -37.9977225, 'lon': -57.5482703}, {'city': 'saint george', 'lat': 32.3763819, 'lon': -64.68926342528714}, {'city': 'jiddah', 'lat': 21.5810088, 'lon': 39.1653612}, {'city': 'butaritari', 'lat': 2.9205375, 'lon': 172.91886331442205}, {'city': 'lebu', 'lat': -37.6099644, 'lon': -73.6559477}, {'city': 'minas', 'lat': -34.3773987, 'lon': -55.2382144}, {'city': 'hilo', 'lat': 19.7073734, 'lon': -155.08158}, {'city': 'butaritari', 'lat': 2.9205375, 'lon': 172.91886331442205}, {'city': 'leningradskiy', 'lat': 54.129108, 'lon': 79.236702}, {'city': 'vardo', 'lat': 70.3308174, 'lon': 30.961751972265887}, {'city': 'illoqqortoormiut', 'lat': 70.4850588, 'lon': -21.9641992}, {'city': 'odweyne', 'lat': 9.40701, 'lon': 45.06358}, {'city': 'chake chake', 'lat': -5.2440346, 'lon': 39.7685075}, {'city': 'bredasdorp', 'lat': -34.533055, 'lon': 20.042778}, {'city': 'jamestown', 'lat': -15.9277296, 'lon': -5.7160872}, {'city': 'punta arenas', 'lat': -53.1625688, 'lon': -70.907822}, {'city': 'rantepao', 'lat': -2.9704575, 'lon': 119.8987167}, {'city': 'wynyard', 'lat': 51.766667, 'lon': -104.183333}, {'city': 'esil', 'lat': 51.9601511, 'lon': 66.4088826}, {'city': 'khandyga', 'lat': 62.6477939, 'lon': 135.5750942}, {'city': 'norman wells', 'lat': 65.282401, 'lon': -126.832725}, {'city': 'attawapiskat', 'lat': 52.9244075, 'lon': -82.4270112}, {'city': 'matay', 'lat': 28.4176905, 'lon': 30.7861579}, {'city': 'novopavlovka', 'lat': 49.113228, 'lon': 41.036873}, {'city': 'nizhneyansk', 'lat': 71.440445, 'lon': 136.130646}, {'city': 'hilo', 'lat': 19.7073734, 'lon': -155.08158}, {'city': 'belushya guba', 'lat': 71.5376984, 'lon': 52.3427343}]\n",
      "<citipy.citipy.City object at 0x7fba2f6e9000> bykovo ru\n",
      "[{'city': 'vanimo', 'lat': -2.6847646, 'lon': 141.3009131}, {'city': 'albany', 'lat': -35.0247822, 'lon': 117.883608}, {'city': 'mar del plata', 'lat': -37.9977225, 'lon': -57.5482703}, {'city': 'saint george', 'lat': 32.3763819, 'lon': -64.68926342528714}, {'city': 'jiddah', 'lat': 21.5810088, 'lon': 39.1653612}, {'city': 'butaritari', 'lat': 2.9205375, 'lon': 172.91886331442205}, {'city': 'lebu', 'lat': -37.6099644, 'lon': -73.6559477}, {'city': 'minas', 'lat': -34.3773987, 'lon': -55.2382144}, {'city': 'hilo', 'lat': 19.7073734, 'lon': -155.08158}, {'city': 'butaritari', 'lat': 2.9205375, 'lon': 172.91886331442205}, {'city': 'leningradskiy', 'lat': 54.129108, 'lon': 79.236702}, {'city': 'vardo', 'lat': 70.3308174, 'lon': 30.961751972265887}, {'city': 'illoqqortoormiut', 'lat': 70.4850588, 'lon': -21.9641992}, {'city': 'odweyne', 'lat': 9.40701, 'lon': 45.06358}, {'city': 'chake chake', 'lat': -5.2440346, 'lon': 39.7685075}, {'city': 'bredasdorp', 'lat': -34.533055, 'lon': 20.042778}, {'city': 'jamestown', 'lat': -15.9277296, 'lon': -5.7160872}, {'city': 'punta arenas', 'lat': -53.1625688, 'lon': -70.907822}, {'city': 'rantepao', 'lat': -2.9704575, 'lon': 119.8987167}, {'city': 'wynyard', 'lat': 51.766667, 'lon': -104.183333}, {'city': 'esil', 'lat': 51.9601511, 'lon': 66.4088826}, {'city': 'khandyga', 'lat': 62.6477939, 'lon': 135.5750942}, {'city': 'norman wells', 'lat': 65.282401, 'lon': -126.832725}, {'city': 'attawapiskat', 'lat': 52.9244075, 'lon': -82.4270112}, {'city': 'matay', 'lat': 28.4176905, 'lon': 30.7861579}, {'city': 'novopavlovka', 'lat': 49.113228, 'lon': 41.036873}, {'city': 'nizhneyansk', 'lat': 71.440445, 'lon': 136.130646}, {'city': 'hilo', 'lat': 19.7073734, 'lon': -155.08158}, {'city': 'belushya guba', 'lat': 71.5376984, 'lon': 52.3427343}, {'city': 'bykovo', 'lat': 55.6311596, 'lon': 38.0761816}]\n",
      "<citipy.citipy.City object at 0x7fba2bbba080> mar del plata ar\n",
      "[{'city': 'vanimo', 'lat': -2.6847646, 'lon': 141.3009131}, {'city': 'albany', 'lat': -35.0247822, 'lon': 117.883608}, {'city': 'mar del plata', 'lat': -37.9977225, 'lon': -57.5482703}, {'city': 'saint george', 'lat': 32.3763819, 'lon': -64.68926342528714}, {'city': 'jiddah', 'lat': 21.5810088, 'lon': 39.1653612}, {'city': 'butaritari', 'lat': 2.9205375, 'lon': 172.91886331442205}, {'city': 'lebu', 'lat': -37.6099644, 'lon': -73.6559477}, {'city': 'minas', 'lat': -34.3773987, 'lon': -55.2382144}, {'city': 'hilo', 'lat': 19.7073734, 'lon': -155.08158}, {'city': 'butaritari', 'lat': 2.9205375, 'lon': 172.91886331442205}, {'city': 'leningradskiy', 'lat': 54.129108, 'lon': 79.236702}, {'city': 'vardo', 'lat': 70.3308174, 'lon': 30.961751972265887}, {'city': 'illoqqortoormiut', 'lat': 70.4850588, 'lon': -21.9641992}, {'city': 'odweyne', 'lat': 9.40701, 'lon': 45.06358}, {'city': 'chake chake', 'lat': -5.2440346, 'lon': 39.7685075}, {'city': 'bredasdorp', 'lat': -34.533055, 'lon': 20.042778}, {'city': 'jamestown', 'lat': -15.9277296, 'lon': -5.7160872}, {'city': 'punta arenas', 'lat': -53.1625688, 'lon': -70.907822}, {'city': 'rantepao', 'lat': -2.9704575, 'lon': 119.8987167}, {'city': 'wynyard', 'lat': 51.766667, 'lon': -104.183333}, {'city': 'esil', 'lat': 51.9601511, 'lon': 66.4088826}, {'city': 'khandyga', 'lat': 62.6477939, 'lon': 135.5750942}, {'city': 'norman wells', 'lat': 65.282401, 'lon': -126.832725}, {'city': 'attawapiskat', 'lat': 52.9244075, 'lon': -82.4270112}, {'city': 'matay', 'lat': 28.4176905, 'lon': 30.7861579}, {'city': 'novopavlovka', 'lat': 49.113228, 'lon': 41.036873}, {'city': 'nizhneyansk', 'lat': 71.440445, 'lon': 136.130646}, {'city': 'hilo', 'lat': 19.7073734, 'lon': -155.08158}, {'city': 'belushya guba', 'lat': 71.5376984, 'lon': 52.3427343}, {'city': 'bykovo', 'lat': 55.6311596, 'lon': 38.0761816}, {'city': 'mar del plata', 'lat': -37.9977225, 'lon': -57.5482703}]\n",
      "<citipy.citipy.City object at 0x7fba2e872920> illoqqortoormiut gl\n",
      "[{'city': 'vanimo', 'lat': -2.6847646, 'lon': 141.3009131}, {'city': 'albany', 'lat': -35.0247822, 'lon': 117.883608}, {'city': 'mar del plata', 'lat': -37.9977225, 'lon': -57.5482703}, {'city': 'saint george', 'lat': 32.3763819, 'lon': -64.68926342528714}, {'city': 'jiddah', 'lat': 21.5810088, 'lon': 39.1653612}, {'city': 'butaritari', 'lat': 2.9205375, 'lon': 172.91886331442205}, {'city': 'lebu', 'lat': -37.6099644, 'lon': -73.6559477}, {'city': 'minas', 'lat': -34.3773987, 'lon': -55.2382144}, {'city': 'hilo', 'lat': 19.7073734, 'lon': -155.08158}, {'city': 'butaritari', 'lat': 2.9205375, 'lon': 172.91886331442205}, {'city': 'leningradskiy', 'lat': 54.129108, 'lon': 79.236702}, {'city': 'vardo', 'lat': 70.3308174, 'lon': 30.961751972265887}, {'city': 'illoqqortoormiut', 'lat': 70.4850588, 'lon': -21.9641992}, {'city': 'odweyne', 'lat': 9.40701, 'lon': 45.06358}, {'city': 'chake chake', 'lat': -5.2440346, 'lon': 39.7685075}, {'city': 'bredasdorp', 'lat': -34.533055, 'lon': 20.042778}, {'city': 'jamestown', 'lat': -15.9277296, 'lon': -5.7160872}, {'city': 'punta arenas', 'lat': -53.1625688, 'lon': -70.907822}, {'city': 'rantepao', 'lat': -2.9704575, 'lon': 119.8987167}, {'city': 'wynyard', 'lat': 51.766667, 'lon': -104.183333}, {'city': 'esil', 'lat': 51.9601511, 'lon': 66.4088826}, {'city': 'khandyga', 'lat': 62.6477939, 'lon': 135.5750942}, {'city': 'norman wells', 'lat': 65.282401, 'lon': -126.832725}, {'city': 'attawapiskat', 'lat': 52.9244075, 'lon': -82.4270112}, {'city': 'matay', 'lat': 28.4176905, 'lon': 30.7861579}, {'city': 'novopavlovka', 'lat': 49.113228, 'lon': 41.036873}, {'city': 'nizhneyansk', 'lat': 71.440445, 'lon': 136.130646}, {'city': 'hilo', 'lat': 19.7073734, 'lon': -155.08158}, {'city': 'belushya guba', 'lat': 71.5376984, 'lon': 52.3427343}, {'city': 'bykovo', 'lat': 55.6311596, 'lon': 38.0761816}, {'city': 'mar del plata', 'lat': -37.9977225, 'lon': -57.5482703}, {'city': 'illoqqortoormiut', 'lat': 70.4850588, 'lon': -21.9641992}]\n",
      "<citipy.citipy.City object at 0x7fba2f864af0> sentyabrskiy ru\n",
      "<citipy.citipy.City object at 0x7fba2f1c2170> atuona pf\n",
      "<citipy.citipy.City object at 0x7fba2e090cd0> busselton au\n",
      "[{'city': 'vanimo', 'lat': -2.6847646, 'lon': 141.3009131}, {'city': 'albany', 'lat': -35.0247822, 'lon': 117.883608}, {'city': 'mar del plata', 'lat': -37.9977225, 'lon': -57.5482703}, {'city': 'saint george', 'lat': 32.3763819, 'lon': -64.68926342528714}, {'city': 'jiddah', 'lat': 21.5810088, 'lon': 39.1653612}, {'city': 'butaritari', 'lat': 2.9205375, 'lon': 172.91886331442205}, {'city': 'lebu', 'lat': -37.6099644, 'lon': -73.6559477}, {'city': 'minas', 'lat': -34.3773987, 'lon': -55.2382144}, {'city': 'hilo', 'lat': 19.7073734, 'lon': -155.08158}, {'city': 'butaritari', 'lat': 2.9205375, 'lon': 172.91886331442205}, {'city': 'leningradskiy', 'lat': 54.129108, 'lon': 79.236702}, {'city': 'vardo', 'lat': 70.3308174, 'lon': 30.961751972265887}, {'city': 'illoqqortoormiut', 'lat': 70.4850588, 'lon': -21.9641992}, {'city': 'odweyne', 'lat': 9.40701, 'lon': 45.06358}, {'city': 'chake chake', 'lat': -5.2440346, 'lon': 39.7685075}, {'city': 'bredasdorp', 'lat': -34.533055, 'lon': 20.042778}, {'city': 'jamestown', 'lat': -15.9277296, 'lon': -5.7160872}, {'city': 'punta arenas', 'lat': -53.1625688, 'lon': -70.907822}, {'city': 'rantepao', 'lat': -2.9704575, 'lon': 119.8987167}, {'city': 'wynyard', 'lat': 51.766667, 'lon': -104.183333}, {'city': 'esil', 'lat': 51.9601511, 'lon': 66.4088826}, {'city': 'khandyga', 'lat': 62.6477939, 'lon': 135.5750942}, {'city': 'norman wells', 'lat': 65.282401, 'lon': -126.832725}, {'city': 'attawapiskat', 'lat': 52.9244075, 'lon': -82.4270112}, {'city': 'matay', 'lat': 28.4176905, 'lon': 30.7861579}, {'city': 'novopavlovka', 'lat': 49.113228, 'lon': 41.036873}, {'city': 'nizhneyansk', 'lat': 71.440445, 'lon': 136.130646}, {'city': 'hilo', 'lat': 19.7073734, 'lon': -155.08158}, {'city': 'belushya guba', 'lat': 71.5376984, 'lon': 52.3427343}, {'city': 'bykovo', 'lat': 55.6311596, 'lon': 38.0761816}, {'city': 'mar del plata', 'lat': -37.9977225, 'lon': -57.5482703}, {'city': 'illoqqortoormiut', 'lat': 70.4850588, 'lon': -21.9641992}, {'city': 'busselton', 'lat': -33.644499, 'lon': 115.3488754}]\n",
      "<citipy.citipy.City object at 0x7fba2f1c28c0> mataura pf\n"
     ]
    },
    {
     "name": "stdout",
     "output_type": "stream",
     "text": [
      "<citipy.citipy.City object at 0x7fba2feeace0> hermanus za\n",
      "[{'city': 'vanimo', 'lat': -2.6847646, 'lon': 141.3009131}, {'city': 'albany', 'lat': -35.0247822, 'lon': 117.883608}, {'city': 'mar del plata', 'lat': -37.9977225, 'lon': -57.5482703}, {'city': 'saint george', 'lat': 32.3763819, 'lon': -64.68926342528714}, {'city': 'jiddah', 'lat': 21.5810088, 'lon': 39.1653612}, {'city': 'butaritari', 'lat': 2.9205375, 'lon': 172.91886331442205}, {'city': 'lebu', 'lat': -37.6099644, 'lon': -73.6559477}, {'city': 'minas', 'lat': -34.3773987, 'lon': -55.2382144}, {'city': 'hilo', 'lat': 19.7073734, 'lon': -155.08158}, {'city': 'butaritari', 'lat': 2.9205375, 'lon': 172.91886331442205}, {'city': 'leningradskiy', 'lat': 54.129108, 'lon': 79.236702}, {'city': 'vardo', 'lat': 70.3308174, 'lon': 30.961751972265887}, {'city': 'illoqqortoormiut', 'lat': 70.4850588, 'lon': -21.9641992}, {'city': 'odweyne', 'lat': 9.40701, 'lon': 45.06358}, {'city': 'chake chake', 'lat': -5.2440346, 'lon': 39.7685075}, {'city': 'bredasdorp', 'lat': -34.533055, 'lon': 20.042778}, {'city': 'jamestown', 'lat': -15.9277296, 'lon': -5.7160872}, {'city': 'punta arenas', 'lat': -53.1625688, 'lon': -70.907822}, {'city': 'rantepao', 'lat': -2.9704575, 'lon': 119.8987167}, {'city': 'wynyard', 'lat': 51.766667, 'lon': -104.183333}, {'city': 'esil', 'lat': 51.9601511, 'lon': 66.4088826}, {'city': 'khandyga', 'lat': 62.6477939, 'lon': 135.5750942}, {'city': 'norman wells', 'lat': 65.282401, 'lon': -126.832725}, {'city': 'attawapiskat', 'lat': 52.9244075, 'lon': -82.4270112}, {'city': 'matay', 'lat': 28.4176905, 'lon': 30.7861579}, {'city': 'novopavlovka', 'lat': 49.113228, 'lon': 41.036873}, {'city': 'nizhneyansk', 'lat': 71.440445, 'lon': 136.130646}, {'city': 'hilo', 'lat': 19.7073734, 'lon': -155.08158}, {'city': 'belushya guba', 'lat': 71.5376984, 'lon': 52.3427343}, {'city': 'bykovo', 'lat': 55.6311596, 'lon': 38.0761816}, {'city': 'mar del plata', 'lat': -37.9977225, 'lon': -57.5482703}, {'city': 'illoqqortoormiut', 'lat': 70.4850588, 'lon': -21.9641992}, {'city': 'busselton', 'lat': -33.644499, 'lon': 115.3488754}, {'city': 'hermanus', 'lat': -34.4175, 'lon': 19.2361111}]\n",
      "<citipy.citipy.City object at 0x7fba2f0bb790> vao nc\n",
      "<citipy.citipy.City object at 0x7fba2f92c520> umm kaddadah sd\n",
      "[{'city': 'vanimo', 'lat': -2.6847646, 'lon': 141.3009131}, {'city': 'albany', 'lat': -35.0247822, 'lon': 117.883608}, {'city': 'mar del plata', 'lat': -37.9977225, 'lon': -57.5482703}, {'city': 'saint george', 'lat': 32.3763819, 'lon': -64.68926342528714}, {'city': 'jiddah', 'lat': 21.5810088, 'lon': 39.1653612}, {'city': 'butaritari', 'lat': 2.9205375, 'lon': 172.91886331442205}, {'city': 'lebu', 'lat': -37.6099644, 'lon': -73.6559477}, {'city': 'minas', 'lat': -34.3773987, 'lon': -55.2382144}, {'city': 'hilo', 'lat': 19.7073734, 'lon': -155.08158}, {'city': 'butaritari', 'lat': 2.9205375, 'lon': 172.91886331442205}, {'city': 'leningradskiy', 'lat': 54.129108, 'lon': 79.236702}, {'city': 'vardo', 'lat': 70.3308174, 'lon': 30.961751972265887}, {'city': 'illoqqortoormiut', 'lat': 70.4850588, 'lon': -21.9641992}, {'city': 'odweyne', 'lat': 9.40701, 'lon': 45.06358}, {'city': 'chake chake', 'lat': -5.2440346, 'lon': 39.7685075}, {'city': 'bredasdorp', 'lat': -34.533055, 'lon': 20.042778}, {'city': 'jamestown', 'lat': -15.9277296, 'lon': -5.7160872}, {'city': 'punta arenas', 'lat': -53.1625688, 'lon': -70.907822}, {'city': 'rantepao', 'lat': -2.9704575, 'lon': 119.8987167}, {'city': 'wynyard', 'lat': 51.766667, 'lon': -104.183333}, {'city': 'esil', 'lat': 51.9601511, 'lon': 66.4088826}, {'city': 'khandyga', 'lat': 62.6477939, 'lon': 135.5750942}, {'city': 'norman wells', 'lat': 65.282401, 'lon': -126.832725}, {'city': 'attawapiskat', 'lat': 52.9244075, 'lon': -82.4270112}, {'city': 'matay', 'lat': 28.4176905, 'lon': 30.7861579}, {'city': 'novopavlovka', 'lat': 49.113228, 'lon': 41.036873}, {'city': 'nizhneyansk', 'lat': 71.440445, 'lon': 136.130646}, {'city': 'hilo', 'lat': 19.7073734, 'lon': -155.08158}, {'city': 'belushya guba', 'lat': 71.5376984, 'lon': 52.3427343}, {'city': 'bykovo', 'lat': 55.6311596, 'lon': 38.0761816}, {'city': 'mar del plata', 'lat': -37.9977225, 'lon': -57.5482703}, {'city': 'illoqqortoormiut', 'lat': 70.4850588, 'lon': -21.9641992}, {'city': 'busselton', 'lat': -33.644499, 'lon': 115.3488754}, {'city': 'hermanus', 'lat': -34.4175, 'lon': 19.2361111}, {'city': 'umm kaddadah', 'lat': 13.6002208, 'lon': 26.6892786}]\n",
      "<citipy.citipy.City object at 0x7fba2e872da0> qaanaaq gl\n",
      "[{'city': 'vanimo', 'lat': -2.6847646, 'lon': 141.3009131}, {'city': 'albany', 'lat': -35.0247822, 'lon': 117.883608}, {'city': 'mar del plata', 'lat': -37.9977225, 'lon': -57.5482703}, {'city': 'saint george', 'lat': 32.3763819, 'lon': -64.68926342528714}, {'city': 'jiddah', 'lat': 21.5810088, 'lon': 39.1653612}, {'city': 'butaritari', 'lat': 2.9205375, 'lon': 172.91886331442205}, {'city': 'lebu', 'lat': -37.6099644, 'lon': -73.6559477}, {'city': 'minas', 'lat': -34.3773987, 'lon': -55.2382144}, {'city': 'hilo', 'lat': 19.7073734, 'lon': -155.08158}, {'city': 'butaritari', 'lat': 2.9205375, 'lon': 172.91886331442205}, {'city': 'leningradskiy', 'lat': 54.129108, 'lon': 79.236702}, {'city': 'vardo', 'lat': 70.3308174, 'lon': 30.961751972265887}, {'city': 'illoqqortoormiut', 'lat': 70.4850588, 'lon': -21.9641992}, {'city': 'odweyne', 'lat': 9.40701, 'lon': 45.06358}, {'city': 'chake chake', 'lat': -5.2440346, 'lon': 39.7685075}, {'city': 'bredasdorp', 'lat': -34.533055, 'lon': 20.042778}, {'city': 'jamestown', 'lat': -15.9277296, 'lon': -5.7160872}, {'city': 'punta arenas', 'lat': -53.1625688, 'lon': -70.907822}, {'city': 'rantepao', 'lat': -2.9704575, 'lon': 119.8987167}, {'city': 'wynyard', 'lat': 51.766667, 'lon': -104.183333}, {'city': 'esil', 'lat': 51.9601511, 'lon': 66.4088826}, {'city': 'khandyga', 'lat': 62.6477939, 'lon': 135.5750942}, {'city': 'norman wells', 'lat': 65.282401, 'lon': -126.832725}, {'city': 'attawapiskat', 'lat': 52.9244075, 'lon': -82.4270112}, {'city': 'matay', 'lat': 28.4176905, 'lon': 30.7861579}, {'city': 'novopavlovka', 'lat': 49.113228, 'lon': 41.036873}, {'city': 'nizhneyansk', 'lat': 71.440445, 'lon': 136.130646}, {'city': 'hilo', 'lat': 19.7073734, 'lon': -155.08158}, {'city': 'belushya guba', 'lat': 71.5376984, 'lon': 52.3427343}, {'city': 'bykovo', 'lat': 55.6311596, 'lon': 38.0761816}, {'city': 'mar del plata', 'lat': -37.9977225, 'lon': -57.5482703}, {'city': 'illoqqortoormiut', 'lat': 70.4850588, 'lon': -21.9641992}, {'city': 'busselton', 'lat': -33.644499, 'lon': 115.3488754}, {'city': 'hermanus', 'lat': -34.4175, 'lon': 19.2361111}, {'city': 'umm kaddadah', 'lat': 13.6002208, 'lon': 26.6892786}, {'city': 'qaanaaq', 'lat': 77.4686357, 'lon': -69.2222746}]\n",
      "<citipy.citipy.City object at 0x7fba2bbbba60> ushuaia ar\n",
      "[{'city': 'vanimo', 'lat': -2.6847646, 'lon': 141.3009131}, {'city': 'albany', 'lat': -35.0247822, 'lon': 117.883608}, {'city': 'mar del plata', 'lat': -37.9977225, 'lon': -57.5482703}, {'city': 'saint george', 'lat': 32.3763819, 'lon': -64.68926342528714}, {'city': 'jiddah', 'lat': 21.5810088, 'lon': 39.1653612}, {'city': 'butaritari', 'lat': 2.9205375, 'lon': 172.91886331442205}, {'city': 'lebu', 'lat': -37.6099644, 'lon': -73.6559477}, {'city': 'minas', 'lat': -34.3773987, 'lon': -55.2382144}, {'city': 'hilo', 'lat': 19.7073734, 'lon': -155.08158}, {'city': 'butaritari', 'lat': 2.9205375, 'lon': 172.91886331442205}, {'city': 'leningradskiy', 'lat': 54.129108, 'lon': 79.236702}, {'city': 'vardo', 'lat': 70.3308174, 'lon': 30.961751972265887}, {'city': 'illoqqortoormiut', 'lat': 70.4850588, 'lon': -21.9641992}, {'city': 'odweyne', 'lat': 9.40701, 'lon': 45.06358}, {'city': 'chake chake', 'lat': -5.2440346, 'lon': 39.7685075}, {'city': 'bredasdorp', 'lat': -34.533055, 'lon': 20.042778}, {'city': 'jamestown', 'lat': -15.9277296, 'lon': -5.7160872}, {'city': 'punta arenas', 'lat': -53.1625688, 'lon': -70.907822}, {'city': 'rantepao', 'lat': -2.9704575, 'lon': 119.8987167}, {'city': 'wynyard', 'lat': 51.766667, 'lon': -104.183333}, {'city': 'esil', 'lat': 51.9601511, 'lon': 66.4088826}, {'city': 'khandyga', 'lat': 62.6477939, 'lon': 135.5750942}, {'city': 'norman wells', 'lat': 65.282401, 'lon': -126.832725}, {'city': 'attawapiskat', 'lat': 52.9244075, 'lon': -82.4270112}, {'city': 'matay', 'lat': 28.4176905, 'lon': 30.7861579}, {'city': 'novopavlovka', 'lat': 49.113228, 'lon': 41.036873}, {'city': 'nizhneyansk', 'lat': 71.440445, 'lon': 136.130646}, {'city': 'hilo', 'lat': 19.7073734, 'lon': -155.08158}, {'city': 'belushya guba', 'lat': 71.5376984, 'lon': 52.3427343}, {'city': 'bykovo', 'lat': 55.6311596, 'lon': 38.0761816}, {'city': 'mar del plata', 'lat': -37.9977225, 'lon': -57.5482703}, {'city': 'illoqqortoormiut', 'lat': 70.4850588, 'lon': -21.9641992}, {'city': 'busselton', 'lat': -33.644499, 'lon': 115.3488754}, {'city': 'hermanus', 'lat': -34.4175, 'lon': 19.2361111}, {'city': 'umm kaddadah', 'lat': 13.6002208, 'lon': 26.6892786}, {'city': 'qaanaaq', 'lat': 77.4686357, 'lon': -69.2222746}, {'city': 'ushuaia', 'lat': -54.806115899999995, 'lon': -68.3184972880496}]\n",
      "<citipy.citipy.City object at 0x7fba2ea51480> luwuk id\n"
     ]
    },
    {
     "name": "stdout",
     "output_type": "stream",
     "text": [
      "[{'city': 'vanimo', 'lat': -2.6847646, 'lon': 141.3009131}, {'city': 'albany', 'lat': -35.0247822, 'lon': 117.883608}, {'city': 'mar del plata', 'lat': -37.9977225, 'lon': -57.5482703}, {'city': 'saint george', 'lat': 32.3763819, 'lon': -64.68926342528714}, {'city': 'jiddah', 'lat': 21.5810088, 'lon': 39.1653612}, {'city': 'butaritari', 'lat': 2.9205375, 'lon': 172.91886331442205}, {'city': 'lebu', 'lat': -37.6099644, 'lon': -73.6559477}, {'city': 'minas', 'lat': -34.3773987, 'lon': -55.2382144}, {'city': 'hilo', 'lat': 19.7073734, 'lon': -155.08158}, {'city': 'butaritari', 'lat': 2.9205375, 'lon': 172.91886331442205}, {'city': 'leningradskiy', 'lat': 54.129108, 'lon': 79.236702}, {'city': 'vardo', 'lat': 70.3308174, 'lon': 30.961751972265887}, {'city': 'illoqqortoormiut', 'lat': 70.4850588, 'lon': -21.9641992}, {'city': 'odweyne', 'lat': 9.40701, 'lon': 45.06358}, {'city': 'chake chake', 'lat': -5.2440346, 'lon': 39.7685075}, {'city': 'bredasdorp', 'lat': -34.533055, 'lon': 20.042778}, {'city': 'jamestown', 'lat': -15.9277296, 'lon': -5.7160872}, {'city': 'punta arenas', 'lat': -53.1625688, 'lon': -70.907822}, {'city': 'rantepao', 'lat': -2.9704575, 'lon': 119.8987167}, {'city': 'wynyard', 'lat': 51.766667, 'lon': -104.183333}, {'city': 'esil', 'lat': 51.9601511, 'lon': 66.4088826}, {'city': 'khandyga', 'lat': 62.6477939, 'lon': 135.5750942}, {'city': 'norman wells', 'lat': 65.282401, 'lon': -126.832725}, {'city': 'attawapiskat', 'lat': 52.9244075, 'lon': -82.4270112}, {'city': 'matay', 'lat': 28.4176905, 'lon': 30.7861579}, {'city': 'novopavlovka', 'lat': 49.113228, 'lon': 41.036873}, {'city': 'nizhneyansk', 'lat': 71.440445, 'lon': 136.130646}, {'city': 'hilo', 'lat': 19.7073734, 'lon': -155.08158}, {'city': 'belushya guba', 'lat': 71.5376984, 'lon': 52.3427343}, {'city': 'bykovo', 'lat': 55.6311596, 'lon': 38.0761816}, {'city': 'mar del plata', 'lat': -37.9977225, 'lon': -57.5482703}, {'city': 'illoqqortoormiut', 'lat': 70.4850588, 'lon': -21.9641992}, {'city': 'busselton', 'lat': -33.644499, 'lon': 115.3488754}, {'city': 'hermanus', 'lat': -34.4175, 'lon': 19.2361111}, {'city': 'umm kaddadah', 'lat': 13.6002208, 'lon': 26.6892786}, {'city': 'qaanaaq', 'lat': 77.4686357, 'lon': -69.2222746}, {'city': 'ushuaia', 'lat': -54.806115899999995, 'lon': -68.3184972880496}, {'city': 'luwuk', 'lat': -0.9528231, 'lon': 122.7880198}]\n",
      "<citipy.citipy.City object at 0x7fba2e872920> illoqqortoormiut gl\n",
      "[{'city': 'vanimo', 'lat': -2.6847646, 'lon': 141.3009131}, {'city': 'albany', 'lat': -35.0247822, 'lon': 117.883608}, {'city': 'mar del plata', 'lat': -37.9977225, 'lon': -57.5482703}, {'city': 'saint george', 'lat': 32.3763819, 'lon': -64.68926342528714}, {'city': 'jiddah', 'lat': 21.5810088, 'lon': 39.1653612}, {'city': 'butaritari', 'lat': 2.9205375, 'lon': 172.91886331442205}, {'city': 'lebu', 'lat': -37.6099644, 'lon': -73.6559477}, {'city': 'minas', 'lat': -34.3773987, 'lon': -55.2382144}, {'city': 'hilo', 'lat': 19.7073734, 'lon': -155.08158}, {'city': 'butaritari', 'lat': 2.9205375, 'lon': 172.91886331442205}, {'city': 'leningradskiy', 'lat': 54.129108, 'lon': 79.236702}, {'city': 'vardo', 'lat': 70.3308174, 'lon': 30.961751972265887}, {'city': 'illoqqortoormiut', 'lat': 70.4850588, 'lon': -21.9641992}, {'city': 'odweyne', 'lat': 9.40701, 'lon': 45.06358}, {'city': 'chake chake', 'lat': -5.2440346, 'lon': 39.7685075}, {'city': 'bredasdorp', 'lat': -34.533055, 'lon': 20.042778}, {'city': 'jamestown', 'lat': -15.9277296, 'lon': -5.7160872}, {'city': 'punta arenas', 'lat': -53.1625688, 'lon': -70.907822}, {'city': 'rantepao', 'lat': -2.9704575, 'lon': 119.8987167}, {'city': 'wynyard', 'lat': 51.766667, 'lon': -104.183333}, {'city': 'esil', 'lat': 51.9601511, 'lon': 66.4088826}, {'city': 'khandyga', 'lat': 62.6477939, 'lon': 135.5750942}, {'city': 'norman wells', 'lat': 65.282401, 'lon': -126.832725}, {'city': 'attawapiskat', 'lat': 52.9244075, 'lon': -82.4270112}, {'city': 'matay', 'lat': 28.4176905, 'lon': 30.7861579}, {'city': 'novopavlovka', 'lat': 49.113228, 'lon': 41.036873}, {'city': 'nizhneyansk', 'lat': 71.440445, 'lon': 136.130646}, {'city': 'hilo', 'lat': 19.7073734, 'lon': -155.08158}, {'city': 'belushya guba', 'lat': 71.5376984, 'lon': 52.3427343}, {'city': 'bykovo', 'lat': 55.6311596, 'lon': 38.0761816}, {'city': 'mar del plata', 'lat': -37.9977225, 'lon': -57.5482703}, {'city': 'illoqqortoormiut', 'lat': 70.4850588, 'lon': -21.9641992}, {'city': 'busselton', 'lat': -33.644499, 'lon': 115.3488754}, {'city': 'hermanus', 'lat': -34.4175, 'lon': 19.2361111}, {'city': 'umm kaddadah', 'lat': 13.6002208, 'lon': 26.6892786}, {'city': 'qaanaaq', 'lat': 77.4686357, 'lon': -69.2222746}, {'city': 'ushuaia', 'lat': -54.806115899999995, 'lon': -68.3184972880496}, {'city': 'luwuk', 'lat': -0.9528231, 'lon': 122.7880198}, {'city': 'illoqqortoormiut', 'lat': 70.4850588, 'lon': -21.9641992}]\n",
      "<citipy.citipy.City object at 0x7fba2e371300> punta arenas cl\n",
      "[{'city': 'vanimo', 'lat': -2.6847646, 'lon': 141.3009131}, {'city': 'albany', 'lat': -35.0247822, 'lon': 117.883608}, {'city': 'mar del plata', 'lat': -37.9977225, 'lon': -57.5482703}, {'city': 'saint george', 'lat': 32.3763819, 'lon': -64.68926342528714}, {'city': 'jiddah', 'lat': 21.5810088, 'lon': 39.1653612}, {'city': 'butaritari', 'lat': 2.9205375, 'lon': 172.91886331442205}, {'city': 'lebu', 'lat': -37.6099644, 'lon': -73.6559477}, {'city': 'minas', 'lat': -34.3773987, 'lon': -55.2382144}, {'city': 'hilo', 'lat': 19.7073734, 'lon': -155.08158}, {'city': 'butaritari', 'lat': 2.9205375, 'lon': 172.91886331442205}, {'city': 'leningradskiy', 'lat': 54.129108, 'lon': 79.236702}, {'city': 'vardo', 'lat': 70.3308174, 'lon': 30.961751972265887}, {'city': 'illoqqortoormiut', 'lat': 70.4850588, 'lon': -21.9641992}, {'city': 'odweyne', 'lat': 9.40701, 'lon': 45.06358}, {'city': 'chake chake', 'lat': -5.2440346, 'lon': 39.7685075}, {'city': 'bredasdorp', 'lat': -34.533055, 'lon': 20.042778}, {'city': 'jamestown', 'lat': -15.9277296, 'lon': -5.7160872}, {'city': 'punta arenas', 'lat': -53.1625688, 'lon': -70.907822}, {'city': 'rantepao', 'lat': -2.9704575, 'lon': 119.8987167}, {'city': 'wynyard', 'lat': 51.766667, 'lon': -104.183333}, {'city': 'esil', 'lat': 51.9601511, 'lon': 66.4088826}, {'city': 'khandyga', 'lat': 62.6477939, 'lon': 135.5750942}, {'city': 'norman wells', 'lat': 65.282401, 'lon': -126.832725}, {'city': 'attawapiskat', 'lat': 52.9244075, 'lon': -82.4270112}, {'city': 'matay', 'lat': 28.4176905, 'lon': 30.7861579}, {'city': 'novopavlovka', 'lat': 49.113228, 'lon': 41.036873}, {'city': 'nizhneyansk', 'lat': 71.440445, 'lon': 136.130646}, {'city': 'hilo', 'lat': 19.7073734, 'lon': -155.08158}, {'city': 'belushya guba', 'lat': 71.5376984, 'lon': 52.3427343}, {'city': 'bykovo', 'lat': 55.6311596, 'lon': 38.0761816}, {'city': 'mar del plata', 'lat': -37.9977225, 'lon': -57.5482703}, {'city': 'illoqqortoormiut', 'lat': 70.4850588, 'lon': -21.9641992}, {'city': 'busselton', 'lat': -33.644499, 'lon': 115.3488754}, {'city': 'hermanus', 'lat': -34.4175, 'lon': 19.2361111}, {'city': 'umm kaddadah', 'lat': 13.6002208, 'lon': 26.6892786}, {'city': 'qaanaaq', 'lat': 77.4686357, 'lon': -69.2222746}, {'city': 'ushuaia', 'lat': -54.806115899999995, 'lon': -68.3184972880496}, {'city': 'luwuk', 'lat': -0.9528231, 'lon': 122.7880198}, {'city': 'illoqqortoormiut', 'lat': 70.4850588, 'lon': -21.9641992}, {'city': 'punta arenas', 'lat': -53.1625688, 'lon': -70.907822}]\n",
      "<citipy.citipy.City object at 0x7fba2fb68d00> hilo us\n",
      "[{'city': 'vanimo', 'lat': -2.6847646, 'lon': 141.3009131}, {'city': 'albany', 'lat': -35.0247822, 'lon': 117.883608}, {'city': 'mar del plata', 'lat': -37.9977225, 'lon': -57.5482703}, {'city': 'saint george', 'lat': 32.3763819, 'lon': -64.68926342528714}, {'city': 'jiddah', 'lat': 21.5810088, 'lon': 39.1653612}, {'city': 'butaritari', 'lat': 2.9205375, 'lon': 172.91886331442205}, {'city': 'lebu', 'lat': -37.6099644, 'lon': -73.6559477}, {'city': 'minas', 'lat': -34.3773987, 'lon': -55.2382144}, {'city': 'hilo', 'lat': 19.7073734, 'lon': -155.08158}, {'city': 'butaritari', 'lat': 2.9205375, 'lon': 172.91886331442205}, {'city': 'leningradskiy', 'lat': 54.129108, 'lon': 79.236702}, {'city': 'vardo', 'lat': 70.3308174, 'lon': 30.961751972265887}, {'city': 'illoqqortoormiut', 'lat': 70.4850588, 'lon': -21.9641992}, {'city': 'odweyne', 'lat': 9.40701, 'lon': 45.06358}, {'city': 'chake chake', 'lat': -5.2440346, 'lon': 39.7685075}, {'city': 'bredasdorp', 'lat': -34.533055, 'lon': 20.042778}, {'city': 'jamestown', 'lat': -15.9277296, 'lon': -5.7160872}, {'city': 'punta arenas', 'lat': -53.1625688, 'lon': -70.907822}, {'city': 'rantepao', 'lat': -2.9704575, 'lon': 119.8987167}, {'city': 'wynyard', 'lat': 51.766667, 'lon': -104.183333}, {'city': 'esil', 'lat': 51.9601511, 'lon': 66.4088826}, {'city': 'khandyga', 'lat': 62.6477939, 'lon': 135.5750942}, {'city': 'norman wells', 'lat': 65.282401, 'lon': -126.832725}, {'city': 'attawapiskat', 'lat': 52.9244075, 'lon': -82.4270112}, {'city': 'matay', 'lat': 28.4176905, 'lon': 30.7861579}, {'city': 'novopavlovka', 'lat': 49.113228, 'lon': 41.036873}, {'city': 'nizhneyansk', 'lat': 71.440445, 'lon': 136.130646}, {'city': 'hilo', 'lat': 19.7073734, 'lon': -155.08158}, {'city': 'belushya guba', 'lat': 71.5376984, 'lon': 52.3427343}, {'city': 'bykovo', 'lat': 55.6311596, 'lon': 38.0761816}, {'city': 'mar del plata', 'lat': -37.9977225, 'lon': -57.5482703}, {'city': 'illoqqortoormiut', 'lat': 70.4850588, 'lon': -21.9641992}, {'city': 'busselton', 'lat': -33.644499, 'lon': 115.3488754}, {'city': 'hermanus', 'lat': -34.4175, 'lon': 19.2361111}, {'city': 'umm kaddadah', 'lat': 13.6002208, 'lon': 26.6892786}, {'city': 'qaanaaq', 'lat': 77.4686357, 'lon': -69.2222746}, {'city': 'ushuaia', 'lat': -54.806115899999995, 'lon': -68.3184972880496}, {'city': 'luwuk', 'lat': -0.9528231, 'lon': 122.7880198}, {'city': 'illoqqortoormiut', 'lat': 70.4850588, 'lon': -21.9641992}, {'city': 'punta arenas', 'lat': -53.1625688, 'lon': -70.907822}, {'city': 'hilo', 'lat': 19.7073734, 'lon': -155.08158}]\n",
      "<citipy.citipy.City object at 0x7fba2f1a9030> marcona pe\n"
     ]
    },
    {
     "name": "stdout",
     "output_type": "stream",
     "text": [
      "[{'city': 'vanimo', 'lat': -2.6847646, 'lon': 141.3009131}, {'city': 'albany', 'lat': -35.0247822, 'lon': 117.883608}, {'city': 'mar del plata', 'lat': -37.9977225, 'lon': -57.5482703}, {'city': 'saint george', 'lat': 32.3763819, 'lon': -64.68926342528714}, {'city': 'jiddah', 'lat': 21.5810088, 'lon': 39.1653612}, {'city': 'butaritari', 'lat': 2.9205375, 'lon': 172.91886331442205}, {'city': 'lebu', 'lat': -37.6099644, 'lon': -73.6559477}, {'city': 'minas', 'lat': -34.3773987, 'lon': -55.2382144}, {'city': 'hilo', 'lat': 19.7073734, 'lon': -155.08158}, {'city': 'butaritari', 'lat': 2.9205375, 'lon': 172.91886331442205}, {'city': 'leningradskiy', 'lat': 54.129108, 'lon': 79.236702}, {'city': 'vardo', 'lat': 70.3308174, 'lon': 30.961751972265887}, {'city': 'illoqqortoormiut', 'lat': 70.4850588, 'lon': -21.9641992}, {'city': 'odweyne', 'lat': 9.40701, 'lon': 45.06358}, {'city': 'chake chake', 'lat': -5.2440346, 'lon': 39.7685075}, {'city': 'bredasdorp', 'lat': -34.533055, 'lon': 20.042778}, {'city': 'jamestown', 'lat': -15.9277296, 'lon': -5.7160872}, {'city': 'punta arenas', 'lat': -53.1625688, 'lon': -70.907822}, {'city': 'rantepao', 'lat': -2.9704575, 'lon': 119.8987167}, {'city': 'wynyard', 'lat': 51.766667, 'lon': -104.183333}, {'city': 'esil', 'lat': 51.9601511, 'lon': 66.4088826}, {'city': 'khandyga', 'lat': 62.6477939, 'lon': 135.5750942}, {'city': 'norman wells', 'lat': 65.282401, 'lon': -126.832725}, {'city': 'attawapiskat', 'lat': 52.9244075, 'lon': -82.4270112}, {'city': 'matay', 'lat': 28.4176905, 'lon': 30.7861579}, {'city': 'novopavlovka', 'lat': 49.113228, 'lon': 41.036873}, {'city': 'nizhneyansk', 'lat': 71.440445, 'lon': 136.130646}, {'city': 'hilo', 'lat': 19.7073734, 'lon': -155.08158}, {'city': 'belushya guba', 'lat': 71.5376984, 'lon': 52.3427343}, {'city': 'bykovo', 'lat': 55.6311596, 'lon': 38.0761816}, {'city': 'mar del plata', 'lat': -37.9977225, 'lon': -57.5482703}, {'city': 'illoqqortoormiut', 'lat': 70.4850588, 'lon': -21.9641992}, {'city': 'busselton', 'lat': -33.644499, 'lon': 115.3488754}, {'city': 'hermanus', 'lat': -34.4175, 'lon': 19.2361111}, {'city': 'umm kaddadah', 'lat': 13.6002208, 'lon': 26.6892786}, {'city': 'qaanaaq', 'lat': 77.4686357, 'lon': -69.2222746}, {'city': 'ushuaia', 'lat': -54.806115899999995, 'lon': -68.3184972880496}, {'city': 'luwuk', 'lat': -0.9528231, 'lon': 122.7880198}, {'city': 'illoqqortoormiut', 'lat': 70.4850588, 'lon': -21.9641992}, {'city': 'punta arenas', 'lat': -53.1625688, 'lon': -70.907822}, {'city': 'hilo', 'lat': 19.7073734, 'lon': -155.08158}, {'city': 'marcona', 'lat': -15.2155331, 'lon': -75.08303444567473}]\n",
      "<citipy.citipy.City object at 0x7fba2facea40> siloam springs us\n",
      "[{'city': 'vanimo', 'lat': -2.6847646, 'lon': 141.3009131}, {'city': 'albany', 'lat': -35.0247822, 'lon': 117.883608}, {'city': 'mar del plata', 'lat': -37.9977225, 'lon': -57.5482703}, {'city': 'saint george', 'lat': 32.3763819, 'lon': -64.68926342528714}, {'city': 'jiddah', 'lat': 21.5810088, 'lon': 39.1653612}, {'city': 'butaritari', 'lat': 2.9205375, 'lon': 172.91886331442205}, {'city': 'lebu', 'lat': -37.6099644, 'lon': -73.6559477}, {'city': 'minas', 'lat': -34.3773987, 'lon': -55.2382144}, {'city': 'hilo', 'lat': 19.7073734, 'lon': -155.08158}, {'city': 'butaritari', 'lat': 2.9205375, 'lon': 172.91886331442205}, {'city': 'leningradskiy', 'lat': 54.129108, 'lon': 79.236702}, {'city': 'vardo', 'lat': 70.3308174, 'lon': 30.961751972265887}, {'city': 'illoqqortoormiut', 'lat': 70.4850588, 'lon': -21.9641992}, {'city': 'odweyne', 'lat': 9.40701, 'lon': 45.06358}, {'city': 'chake chake', 'lat': -5.2440346, 'lon': 39.7685075}, {'city': 'bredasdorp', 'lat': -34.533055, 'lon': 20.042778}, {'city': 'jamestown', 'lat': -15.9277296, 'lon': -5.7160872}, {'city': 'punta arenas', 'lat': -53.1625688, 'lon': -70.907822}, {'city': 'rantepao', 'lat': -2.9704575, 'lon': 119.8987167}, {'city': 'wynyard', 'lat': 51.766667, 'lon': -104.183333}, {'city': 'esil', 'lat': 51.9601511, 'lon': 66.4088826}, {'city': 'khandyga', 'lat': 62.6477939, 'lon': 135.5750942}, {'city': 'norman wells', 'lat': 65.282401, 'lon': -126.832725}, {'city': 'attawapiskat', 'lat': 52.9244075, 'lon': -82.4270112}, {'city': 'matay', 'lat': 28.4176905, 'lon': 30.7861579}, {'city': 'novopavlovka', 'lat': 49.113228, 'lon': 41.036873}, {'city': 'nizhneyansk', 'lat': 71.440445, 'lon': 136.130646}, {'city': 'hilo', 'lat': 19.7073734, 'lon': -155.08158}, {'city': 'belushya guba', 'lat': 71.5376984, 'lon': 52.3427343}, {'city': 'bykovo', 'lat': 55.6311596, 'lon': 38.0761816}, {'city': 'mar del plata', 'lat': -37.9977225, 'lon': -57.5482703}, {'city': 'illoqqortoormiut', 'lat': 70.4850588, 'lon': -21.9641992}, {'city': 'busselton', 'lat': -33.644499, 'lon': 115.3488754}, {'city': 'hermanus', 'lat': -34.4175, 'lon': 19.2361111}, {'city': 'umm kaddadah', 'lat': 13.6002208, 'lon': 26.6892786}, {'city': 'qaanaaq', 'lat': 77.4686357, 'lon': -69.2222746}, {'city': 'ushuaia', 'lat': -54.806115899999995, 'lon': -68.3184972880496}, {'city': 'luwuk', 'lat': -0.9528231, 'lon': 122.7880198}, {'city': 'illoqqortoormiut', 'lat': 70.4850588, 'lon': -21.9641992}, {'city': 'punta arenas', 'lat': -53.1625688, 'lon': -70.907822}, {'city': 'hilo', 'lat': 19.7073734, 'lon': -155.08158}, {'city': 'marcona', 'lat': -15.2155331, 'lon': -75.08303444567473}, {'city': 'siloam springs', 'lat': 36.1881365, 'lon': -94.5404962}]\n",
      "<citipy.citipy.City object at 0x7fba2ef64b50> tsihombe mg\n",
      "[{'city': 'vanimo', 'lat': -2.6847646, 'lon': 141.3009131}, {'city': 'albany', 'lat': -35.0247822, 'lon': 117.883608}, {'city': 'mar del plata', 'lat': -37.9977225, 'lon': -57.5482703}, {'city': 'saint george', 'lat': 32.3763819, 'lon': -64.68926342528714}, {'city': 'jiddah', 'lat': 21.5810088, 'lon': 39.1653612}, {'city': 'butaritari', 'lat': 2.9205375, 'lon': 172.91886331442205}, {'city': 'lebu', 'lat': -37.6099644, 'lon': -73.6559477}, {'city': 'minas', 'lat': -34.3773987, 'lon': -55.2382144}, {'city': 'hilo', 'lat': 19.7073734, 'lon': -155.08158}, {'city': 'butaritari', 'lat': 2.9205375, 'lon': 172.91886331442205}, {'city': 'leningradskiy', 'lat': 54.129108, 'lon': 79.236702}, {'city': 'vardo', 'lat': 70.3308174, 'lon': 30.961751972265887}, {'city': 'illoqqortoormiut', 'lat': 70.4850588, 'lon': -21.9641992}, {'city': 'odweyne', 'lat': 9.40701, 'lon': 45.06358}, {'city': 'chake chake', 'lat': -5.2440346, 'lon': 39.7685075}, {'city': 'bredasdorp', 'lat': -34.533055, 'lon': 20.042778}, {'city': 'jamestown', 'lat': -15.9277296, 'lon': -5.7160872}, {'city': 'punta arenas', 'lat': -53.1625688, 'lon': -70.907822}, {'city': 'rantepao', 'lat': -2.9704575, 'lon': 119.8987167}, {'city': 'wynyard', 'lat': 51.766667, 'lon': -104.183333}, {'city': 'esil', 'lat': 51.9601511, 'lon': 66.4088826}, {'city': 'khandyga', 'lat': 62.6477939, 'lon': 135.5750942}, {'city': 'norman wells', 'lat': 65.282401, 'lon': -126.832725}, {'city': 'attawapiskat', 'lat': 52.9244075, 'lon': -82.4270112}, {'city': 'matay', 'lat': 28.4176905, 'lon': 30.7861579}, {'city': 'novopavlovka', 'lat': 49.113228, 'lon': 41.036873}, {'city': 'nizhneyansk', 'lat': 71.440445, 'lon': 136.130646}, {'city': 'hilo', 'lat': 19.7073734, 'lon': -155.08158}, {'city': 'belushya guba', 'lat': 71.5376984, 'lon': 52.3427343}, {'city': 'bykovo', 'lat': 55.6311596, 'lon': 38.0761816}, {'city': 'mar del plata', 'lat': -37.9977225, 'lon': -57.5482703}, {'city': 'illoqqortoormiut', 'lat': 70.4850588, 'lon': -21.9641992}, {'city': 'busselton', 'lat': -33.644499, 'lon': 115.3488754}, {'city': 'hermanus', 'lat': -34.4175, 'lon': 19.2361111}, {'city': 'umm kaddadah', 'lat': 13.6002208, 'lon': 26.6892786}, {'city': 'qaanaaq', 'lat': 77.4686357, 'lon': -69.2222746}, {'city': 'ushuaia', 'lat': -54.806115899999995, 'lon': -68.3184972880496}, {'city': 'luwuk', 'lat': -0.9528231, 'lon': 122.7880198}, {'city': 'illoqqortoormiut', 'lat': 70.4850588, 'lon': -21.9641992}, {'city': 'punta arenas', 'lat': -53.1625688, 'lon': -70.907822}, {'city': 'hilo', 'lat': 19.7073734, 'lon': -155.08158}, {'city': 'marcona', 'lat': -15.2155331, 'lon': -75.08303444567473}, {'city': 'siloam springs', 'lat': 36.1881365, 'lon': -94.5404962}, {'city': 'tsihombe', 'lat': -25.318547, 'lon': 45.484057}]\n",
      "<citipy.citipy.City object at 0x7fba2f966fe0> bambey sn\n",
      "[{'city': 'vanimo', 'lat': -2.6847646, 'lon': 141.3009131}, {'city': 'albany', 'lat': -35.0247822, 'lon': 117.883608}, {'city': 'mar del plata', 'lat': -37.9977225, 'lon': -57.5482703}, {'city': 'saint george', 'lat': 32.3763819, 'lon': -64.68926342528714}, {'city': 'jiddah', 'lat': 21.5810088, 'lon': 39.1653612}, {'city': 'butaritari', 'lat': 2.9205375, 'lon': 172.91886331442205}, {'city': 'lebu', 'lat': -37.6099644, 'lon': -73.6559477}, {'city': 'minas', 'lat': -34.3773987, 'lon': -55.2382144}, {'city': 'hilo', 'lat': 19.7073734, 'lon': -155.08158}, {'city': 'butaritari', 'lat': 2.9205375, 'lon': 172.91886331442205}, {'city': 'leningradskiy', 'lat': 54.129108, 'lon': 79.236702}, {'city': 'vardo', 'lat': 70.3308174, 'lon': 30.961751972265887}, {'city': 'illoqqortoormiut', 'lat': 70.4850588, 'lon': -21.9641992}, {'city': 'odweyne', 'lat': 9.40701, 'lon': 45.06358}, {'city': 'chake chake', 'lat': -5.2440346, 'lon': 39.7685075}, {'city': 'bredasdorp', 'lat': -34.533055, 'lon': 20.042778}, {'city': 'jamestown', 'lat': -15.9277296, 'lon': -5.7160872}, {'city': 'punta arenas', 'lat': -53.1625688, 'lon': -70.907822}, {'city': 'rantepao', 'lat': -2.9704575, 'lon': 119.8987167}, {'city': 'wynyard', 'lat': 51.766667, 'lon': -104.183333}, {'city': 'esil', 'lat': 51.9601511, 'lon': 66.4088826}, {'city': 'khandyga', 'lat': 62.6477939, 'lon': 135.5750942}, {'city': 'norman wells', 'lat': 65.282401, 'lon': -126.832725}, {'city': 'attawapiskat', 'lat': 52.9244075, 'lon': -82.4270112}, {'city': 'matay', 'lat': 28.4176905, 'lon': 30.7861579}, {'city': 'novopavlovka', 'lat': 49.113228, 'lon': 41.036873}, {'city': 'nizhneyansk', 'lat': 71.440445, 'lon': 136.130646}, {'city': 'hilo', 'lat': 19.7073734, 'lon': -155.08158}, {'city': 'belushya guba', 'lat': 71.5376984, 'lon': 52.3427343}, {'city': 'bykovo', 'lat': 55.6311596, 'lon': 38.0761816}, {'city': 'mar del plata', 'lat': -37.9977225, 'lon': -57.5482703}, {'city': 'illoqqortoormiut', 'lat': 70.4850588, 'lon': -21.9641992}, {'city': 'busselton', 'lat': -33.644499, 'lon': 115.3488754}, {'city': 'hermanus', 'lat': -34.4175, 'lon': 19.2361111}, {'city': 'umm kaddadah', 'lat': 13.6002208, 'lon': 26.6892786}, {'city': 'qaanaaq', 'lat': 77.4686357, 'lon': -69.2222746}, {'city': 'ushuaia', 'lat': -54.806115899999995, 'lon': -68.3184972880496}, {'city': 'luwuk', 'lat': -0.9528231, 'lon': 122.7880198}, {'city': 'illoqqortoormiut', 'lat': 70.4850588, 'lon': -21.9641992}, {'city': 'punta arenas', 'lat': -53.1625688, 'lon': -70.907822}, {'city': 'hilo', 'lat': 19.7073734, 'lon': -155.08158}, {'city': 'marcona', 'lat': -15.2155331, 'lon': -75.08303444567473}, {'city': 'siloam springs', 'lat': 36.1881365, 'lon': -94.5404962}, {'city': 'tsihombe', 'lat': -25.318547, 'lon': 45.484057}, {'city': 'bambey', 'lat': 14.69548, 'lon': -16.449262}]\n",
      "<citipy.citipy.City object at 0x7fba2f9fcee0> lolua tv\n"
     ]
    },
    {
     "name": "stdout",
     "output_type": "stream",
     "text": [
      "<citipy.citipy.City object at 0x7fba2e092860> hobart au\n",
      "[{'city': 'vanimo', 'lat': -2.6847646, 'lon': 141.3009131}, {'city': 'albany', 'lat': -35.0247822, 'lon': 117.883608}, {'city': 'mar del plata', 'lat': -37.9977225, 'lon': -57.5482703}, {'city': 'saint george', 'lat': 32.3763819, 'lon': -64.68926342528714}, {'city': 'jiddah', 'lat': 21.5810088, 'lon': 39.1653612}, {'city': 'butaritari', 'lat': 2.9205375, 'lon': 172.91886331442205}, {'city': 'lebu', 'lat': -37.6099644, 'lon': -73.6559477}, {'city': 'minas', 'lat': -34.3773987, 'lon': -55.2382144}, {'city': 'hilo', 'lat': 19.7073734, 'lon': -155.08158}, {'city': 'butaritari', 'lat': 2.9205375, 'lon': 172.91886331442205}, {'city': 'leningradskiy', 'lat': 54.129108, 'lon': 79.236702}, {'city': 'vardo', 'lat': 70.3308174, 'lon': 30.961751972265887}, {'city': 'illoqqortoormiut', 'lat': 70.4850588, 'lon': -21.9641992}, {'city': 'odweyne', 'lat': 9.40701, 'lon': 45.06358}, {'city': 'chake chake', 'lat': -5.2440346, 'lon': 39.7685075}, {'city': 'bredasdorp', 'lat': -34.533055, 'lon': 20.042778}, {'city': 'jamestown', 'lat': -15.9277296, 'lon': -5.7160872}, {'city': 'punta arenas', 'lat': -53.1625688, 'lon': -70.907822}, {'city': 'rantepao', 'lat': -2.9704575, 'lon': 119.8987167}, {'city': 'wynyard', 'lat': 51.766667, 'lon': -104.183333}, {'city': 'esil', 'lat': 51.9601511, 'lon': 66.4088826}, {'city': 'khandyga', 'lat': 62.6477939, 'lon': 135.5750942}, {'city': 'norman wells', 'lat': 65.282401, 'lon': -126.832725}, {'city': 'attawapiskat', 'lat': 52.9244075, 'lon': -82.4270112}, {'city': 'matay', 'lat': 28.4176905, 'lon': 30.7861579}, {'city': 'novopavlovka', 'lat': 49.113228, 'lon': 41.036873}, {'city': 'nizhneyansk', 'lat': 71.440445, 'lon': 136.130646}, {'city': 'hilo', 'lat': 19.7073734, 'lon': -155.08158}, {'city': 'belushya guba', 'lat': 71.5376984, 'lon': 52.3427343}, {'city': 'bykovo', 'lat': 55.6311596, 'lon': 38.0761816}, {'city': 'mar del plata', 'lat': -37.9977225, 'lon': -57.5482703}, {'city': 'illoqqortoormiut', 'lat': 70.4850588, 'lon': -21.9641992}, {'city': 'busselton', 'lat': -33.644499, 'lon': 115.3488754}, {'city': 'hermanus', 'lat': -34.4175, 'lon': 19.2361111}, {'city': 'umm kaddadah', 'lat': 13.6002208, 'lon': 26.6892786}, {'city': 'qaanaaq', 'lat': 77.4686357, 'lon': -69.2222746}, {'city': 'ushuaia', 'lat': -54.806115899999995, 'lon': -68.3184972880496}, {'city': 'luwuk', 'lat': -0.9528231, 'lon': 122.7880198}, {'city': 'illoqqortoormiut', 'lat': 70.4850588, 'lon': -21.9641992}, {'city': 'punta arenas', 'lat': -53.1625688, 'lon': -70.907822}, {'city': 'hilo', 'lat': 19.7073734, 'lon': -155.08158}, {'city': 'marcona', 'lat': -15.2155331, 'lon': -75.08303444567473}, {'city': 'siloam springs', 'lat': 36.1881365, 'lon': -94.5404962}, {'city': 'tsihombe', 'lat': -25.318547, 'lon': 45.484057}, {'city': 'bambey', 'lat': 14.69548, 'lon': -16.449262}, {'city': 'hobart', 'lat': -42.8825088, 'lon': 147.3281233}]\n",
      "<citipy.citipy.City object at 0x7fba2f9caf80> vaini to\n",
      "[{'city': 'vanimo', 'lat': -2.6847646, 'lon': 141.3009131}, {'city': 'albany', 'lat': -35.0247822, 'lon': 117.883608}, {'city': 'mar del plata', 'lat': -37.9977225, 'lon': -57.5482703}, {'city': 'saint george', 'lat': 32.3763819, 'lon': -64.68926342528714}, {'city': 'jiddah', 'lat': 21.5810088, 'lon': 39.1653612}, {'city': 'butaritari', 'lat': 2.9205375, 'lon': 172.91886331442205}, {'city': 'lebu', 'lat': -37.6099644, 'lon': -73.6559477}, {'city': 'minas', 'lat': -34.3773987, 'lon': -55.2382144}, {'city': 'hilo', 'lat': 19.7073734, 'lon': -155.08158}, {'city': 'butaritari', 'lat': 2.9205375, 'lon': 172.91886331442205}, {'city': 'leningradskiy', 'lat': 54.129108, 'lon': 79.236702}, {'city': 'vardo', 'lat': 70.3308174, 'lon': 30.961751972265887}, {'city': 'illoqqortoormiut', 'lat': 70.4850588, 'lon': -21.9641992}, {'city': 'odweyne', 'lat': 9.40701, 'lon': 45.06358}, {'city': 'chake chake', 'lat': -5.2440346, 'lon': 39.7685075}, {'city': 'bredasdorp', 'lat': -34.533055, 'lon': 20.042778}, {'city': 'jamestown', 'lat': -15.9277296, 'lon': -5.7160872}, {'city': 'punta arenas', 'lat': -53.1625688, 'lon': -70.907822}, {'city': 'rantepao', 'lat': -2.9704575, 'lon': 119.8987167}, {'city': 'wynyard', 'lat': 51.766667, 'lon': -104.183333}, {'city': 'esil', 'lat': 51.9601511, 'lon': 66.4088826}, {'city': 'khandyga', 'lat': 62.6477939, 'lon': 135.5750942}, {'city': 'norman wells', 'lat': 65.282401, 'lon': -126.832725}, {'city': 'attawapiskat', 'lat': 52.9244075, 'lon': -82.4270112}, {'city': 'matay', 'lat': 28.4176905, 'lon': 30.7861579}, {'city': 'novopavlovka', 'lat': 49.113228, 'lon': 41.036873}, {'city': 'nizhneyansk', 'lat': 71.440445, 'lon': 136.130646}, {'city': 'hilo', 'lat': 19.7073734, 'lon': -155.08158}, {'city': 'belushya guba', 'lat': 71.5376984, 'lon': 52.3427343}, {'city': 'bykovo', 'lat': 55.6311596, 'lon': 38.0761816}, {'city': 'mar del plata', 'lat': -37.9977225, 'lon': -57.5482703}, {'city': 'illoqqortoormiut', 'lat': 70.4850588, 'lon': -21.9641992}, {'city': 'busselton', 'lat': -33.644499, 'lon': 115.3488754}, {'city': 'hermanus', 'lat': -34.4175, 'lon': 19.2361111}, {'city': 'umm kaddadah', 'lat': 13.6002208, 'lon': 26.6892786}, {'city': 'qaanaaq', 'lat': 77.4686357, 'lon': -69.2222746}, {'city': 'ushuaia', 'lat': -54.806115899999995, 'lon': -68.3184972880496}, {'city': 'luwuk', 'lat': -0.9528231, 'lon': 122.7880198}, {'city': 'illoqqortoormiut', 'lat': 70.4850588, 'lon': -21.9641992}, {'city': 'punta arenas', 'lat': -53.1625688, 'lon': -70.907822}, {'city': 'hilo', 'lat': 19.7073734, 'lon': -155.08158}, {'city': 'marcona', 'lat': -15.2155331, 'lon': -75.08303444567473}, {'city': 'siloam springs', 'lat': 36.1881365, 'lon': -94.5404962}, {'city': 'tsihombe', 'lat': -25.318547, 'lon': 45.484057}, {'city': 'bambey', 'lat': 14.69548, 'lon': -16.449262}, {'city': 'hobart', 'lat': -42.8825088, 'lon': 147.3281233}, {'city': 'vaini', 'lat': -21.1925671, 'lon': -175.1772797}]\n",
      "<citipy.citipy.City object at 0x7fba2e3d5390> urumqi cn\n",
      "[{'city': 'vanimo', 'lat': -2.6847646, 'lon': 141.3009131}, {'city': 'albany', 'lat': -35.0247822, 'lon': 117.883608}, {'city': 'mar del plata', 'lat': -37.9977225, 'lon': -57.5482703}, {'city': 'saint george', 'lat': 32.3763819, 'lon': -64.68926342528714}, {'city': 'jiddah', 'lat': 21.5810088, 'lon': 39.1653612}, {'city': 'butaritari', 'lat': 2.9205375, 'lon': 172.91886331442205}, {'city': 'lebu', 'lat': -37.6099644, 'lon': -73.6559477}, {'city': 'minas', 'lat': -34.3773987, 'lon': -55.2382144}, {'city': 'hilo', 'lat': 19.7073734, 'lon': -155.08158}, {'city': 'butaritari', 'lat': 2.9205375, 'lon': 172.91886331442205}, {'city': 'leningradskiy', 'lat': 54.129108, 'lon': 79.236702}, {'city': 'vardo', 'lat': 70.3308174, 'lon': 30.961751972265887}, {'city': 'illoqqortoormiut', 'lat': 70.4850588, 'lon': -21.9641992}, {'city': 'odweyne', 'lat': 9.40701, 'lon': 45.06358}, {'city': 'chake chake', 'lat': -5.2440346, 'lon': 39.7685075}, {'city': 'bredasdorp', 'lat': -34.533055, 'lon': 20.042778}, {'city': 'jamestown', 'lat': -15.9277296, 'lon': -5.7160872}, {'city': 'punta arenas', 'lat': -53.1625688, 'lon': -70.907822}, {'city': 'rantepao', 'lat': -2.9704575, 'lon': 119.8987167}, {'city': 'wynyard', 'lat': 51.766667, 'lon': -104.183333}, {'city': 'esil', 'lat': 51.9601511, 'lon': 66.4088826}, {'city': 'khandyga', 'lat': 62.6477939, 'lon': 135.5750942}, {'city': 'norman wells', 'lat': 65.282401, 'lon': -126.832725}, {'city': 'attawapiskat', 'lat': 52.9244075, 'lon': -82.4270112}, {'city': 'matay', 'lat': 28.4176905, 'lon': 30.7861579}, {'city': 'novopavlovka', 'lat': 49.113228, 'lon': 41.036873}, {'city': 'nizhneyansk', 'lat': 71.440445, 'lon': 136.130646}, {'city': 'hilo', 'lat': 19.7073734, 'lon': -155.08158}, {'city': 'belushya guba', 'lat': 71.5376984, 'lon': 52.3427343}, {'city': 'bykovo', 'lat': 55.6311596, 'lon': 38.0761816}, {'city': 'mar del plata', 'lat': -37.9977225, 'lon': -57.5482703}, {'city': 'illoqqortoormiut', 'lat': 70.4850588, 'lon': -21.9641992}, {'city': 'busselton', 'lat': -33.644499, 'lon': 115.3488754}, {'city': 'hermanus', 'lat': -34.4175, 'lon': 19.2361111}, {'city': 'umm kaddadah', 'lat': 13.6002208, 'lon': 26.6892786}, {'city': 'qaanaaq', 'lat': 77.4686357, 'lon': -69.2222746}, {'city': 'ushuaia', 'lat': -54.806115899999995, 'lon': -68.3184972880496}, {'city': 'luwuk', 'lat': -0.9528231, 'lon': 122.7880198}, {'city': 'illoqqortoormiut', 'lat': 70.4850588, 'lon': -21.9641992}, {'city': 'punta arenas', 'lat': -53.1625688, 'lon': -70.907822}, {'city': 'hilo', 'lat': 19.7073734, 'lon': -155.08158}, {'city': 'marcona', 'lat': -15.2155331, 'lon': -75.08303444567473}, {'city': 'siloam springs', 'lat': 36.1881365, 'lon': -94.5404962}, {'city': 'tsihombe', 'lat': -25.318547, 'lon': 45.484057}, {'city': 'bambey', 'lat': 14.69548, 'lon': -16.449262}, {'city': 'hobart', 'lat': -42.8825088, 'lon': 147.3281233}, {'city': 'vaini', 'lat': -21.1925671, 'lon': -175.1772797}, {'city': 'urumqi', 'lat': 43.419754, 'lon': 87.319461}]\n",
      "<citipy.citipy.City object at 0x7fba2f1c2170> atuona pf\n",
      "<citipy.citipy.City object at 0x7fba2fefcca0> port alfred za\n"
     ]
    },
    {
     "name": "stdout",
     "output_type": "stream",
     "text": [
      "[{'city': 'vanimo', 'lat': -2.6847646, 'lon': 141.3009131}, {'city': 'albany', 'lat': -35.0247822, 'lon': 117.883608}, {'city': 'mar del plata', 'lat': -37.9977225, 'lon': -57.5482703}, {'city': 'saint george', 'lat': 32.3763819, 'lon': -64.68926342528714}, {'city': 'jiddah', 'lat': 21.5810088, 'lon': 39.1653612}, {'city': 'butaritari', 'lat': 2.9205375, 'lon': 172.91886331442205}, {'city': 'lebu', 'lat': -37.6099644, 'lon': -73.6559477}, {'city': 'minas', 'lat': -34.3773987, 'lon': -55.2382144}, {'city': 'hilo', 'lat': 19.7073734, 'lon': -155.08158}, {'city': 'butaritari', 'lat': 2.9205375, 'lon': 172.91886331442205}, {'city': 'leningradskiy', 'lat': 54.129108, 'lon': 79.236702}, {'city': 'vardo', 'lat': 70.3308174, 'lon': 30.961751972265887}, {'city': 'illoqqortoormiut', 'lat': 70.4850588, 'lon': -21.9641992}, {'city': 'odweyne', 'lat': 9.40701, 'lon': 45.06358}, {'city': 'chake chake', 'lat': -5.2440346, 'lon': 39.7685075}, {'city': 'bredasdorp', 'lat': -34.533055, 'lon': 20.042778}, {'city': 'jamestown', 'lat': -15.9277296, 'lon': -5.7160872}, {'city': 'punta arenas', 'lat': -53.1625688, 'lon': -70.907822}, {'city': 'rantepao', 'lat': -2.9704575, 'lon': 119.8987167}, {'city': 'wynyard', 'lat': 51.766667, 'lon': -104.183333}, {'city': 'esil', 'lat': 51.9601511, 'lon': 66.4088826}, {'city': 'khandyga', 'lat': 62.6477939, 'lon': 135.5750942}, {'city': 'norman wells', 'lat': 65.282401, 'lon': -126.832725}, {'city': 'attawapiskat', 'lat': 52.9244075, 'lon': -82.4270112}, {'city': 'matay', 'lat': 28.4176905, 'lon': 30.7861579}, {'city': 'novopavlovka', 'lat': 49.113228, 'lon': 41.036873}, {'city': 'nizhneyansk', 'lat': 71.440445, 'lon': 136.130646}, {'city': 'hilo', 'lat': 19.7073734, 'lon': -155.08158}, {'city': 'belushya guba', 'lat': 71.5376984, 'lon': 52.3427343}, {'city': 'bykovo', 'lat': 55.6311596, 'lon': 38.0761816}, {'city': 'mar del plata', 'lat': -37.9977225, 'lon': -57.5482703}, {'city': 'illoqqortoormiut', 'lat': 70.4850588, 'lon': -21.9641992}, {'city': 'busselton', 'lat': -33.644499, 'lon': 115.3488754}, {'city': 'hermanus', 'lat': -34.4175, 'lon': 19.2361111}, {'city': 'umm kaddadah', 'lat': 13.6002208, 'lon': 26.6892786}, {'city': 'qaanaaq', 'lat': 77.4686357, 'lon': -69.2222746}, {'city': 'ushuaia', 'lat': -54.806115899999995, 'lon': -68.3184972880496}, {'city': 'luwuk', 'lat': -0.9528231, 'lon': 122.7880198}, {'city': 'illoqqortoormiut', 'lat': 70.4850588, 'lon': -21.9641992}, {'city': 'punta arenas', 'lat': -53.1625688, 'lon': -70.907822}, {'city': 'hilo', 'lat': 19.7073734, 'lon': -155.08158}, {'city': 'marcona', 'lat': -15.2155331, 'lon': -75.08303444567473}, {'city': 'siloam springs', 'lat': 36.1881365, 'lon': -94.5404962}, {'city': 'tsihombe', 'lat': -25.318547, 'lon': 45.484057}, {'city': 'bambey', 'lat': 14.69548, 'lon': -16.449262}, {'city': 'hobart', 'lat': -42.8825088, 'lon': 147.3281233}, {'city': 'vaini', 'lat': -21.1925671, 'lon': -175.1772797}, {'city': 'urumqi', 'lat': 43.419754, 'lon': 87.319461}, {'city': 'port alfred', 'lat': -33.5981844, 'lon': 26.8914772}]\n",
      "<citipy.citipy.City object at 0x7fba2ef64910> taolanaro mg\n",
      "<citipy.citipy.City object at 0x7fba2ec76290> skagastrond is\n",
      "[{'city': 'vanimo', 'lat': -2.6847646, 'lon': 141.3009131}, {'city': 'albany', 'lat': -35.0247822, 'lon': 117.883608}, {'city': 'mar del plata', 'lat': -37.9977225, 'lon': -57.5482703}, {'city': 'saint george', 'lat': 32.3763819, 'lon': -64.68926342528714}, {'city': 'jiddah', 'lat': 21.5810088, 'lon': 39.1653612}, {'city': 'butaritari', 'lat': 2.9205375, 'lon': 172.91886331442205}, {'city': 'lebu', 'lat': -37.6099644, 'lon': -73.6559477}, {'city': 'minas', 'lat': -34.3773987, 'lon': -55.2382144}, {'city': 'hilo', 'lat': 19.7073734, 'lon': -155.08158}, {'city': 'butaritari', 'lat': 2.9205375, 'lon': 172.91886331442205}, {'city': 'leningradskiy', 'lat': 54.129108, 'lon': 79.236702}, {'city': 'vardo', 'lat': 70.3308174, 'lon': 30.961751972265887}, {'city': 'illoqqortoormiut', 'lat': 70.4850588, 'lon': -21.9641992}, {'city': 'odweyne', 'lat': 9.40701, 'lon': 45.06358}, {'city': 'chake chake', 'lat': -5.2440346, 'lon': 39.7685075}, {'city': 'bredasdorp', 'lat': -34.533055, 'lon': 20.042778}, {'city': 'jamestown', 'lat': -15.9277296, 'lon': -5.7160872}, {'city': 'punta arenas', 'lat': -53.1625688, 'lon': -70.907822}, {'city': 'rantepao', 'lat': -2.9704575, 'lon': 119.8987167}, {'city': 'wynyard', 'lat': 51.766667, 'lon': -104.183333}, {'city': 'esil', 'lat': 51.9601511, 'lon': 66.4088826}, {'city': 'khandyga', 'lat': 62.6477939, 'lon': 135.5750942}, {'city': 'norman wells', 'lat': 65.282401, 'lon': -126.832725}, {'city': 'attawapiskat', 'lat': 52.9244075, 'lon': -82.4270112}, {'city': 'matay', 'lat': 28.4176905, 'lon': 30.7861579}, {'city': 'novopavlovka', 'lat': 49.113228, 'lon': 41.036873}, {'city': 'nizhneyansk', 'lat': 71.440445, 'lon': 136.130646}, {'city': 'hilo', 'lat': 19.7073734, 'lon': -155.08158}, {'city': 'belushya guba', 'lat': 71.5376984, 'lon': 52.3427343}, {'city': 'bykovo', 'lat': 55.6311596, 'lon': 38.0761816}, {'city': 'mar del plata', 'lat': -37.9977225, 'lon': -57.5482703}, {'city': 'illoqqortoormiut', 'lat': 70.4850588, 'lon': -21.9641992}, {'city': 'busselton', 'lat': -33.644499, 'lon': 115.3488754}, {'city': 'hermanus', 'lat': -34.4175, 'lon': 19.2361111}, {'city': 'umm kaddadah', 'lat': 13.6002208, 'lon': 26.6892786}, {'city': 'qaanaaq', 'lat': 77.4686357, 'lon': -69.2222746}, {'city': 'ushuaia', 'lat': -54.806115899999995, 'lon': -68.3184972880496}, {'city': 'luwuk', 'lat': -0.9528231, 'lon': 122.7880198}, {'city': 'illoqqortoormiut', 'lat': 70.4850588, 'lon': -21.9641992}, {'city': 'punta arenas', 'lat': -53.1625688, 'lon': -70.907822}, {'city': 'hilo', 'lat': 19.7073734, 'lon': -155.08158}, {'city': 'marcona', 'lat': -15.2155331, 'lon': -75.08303444567473}, {'city': 'siloam springs', 'lat': 36.1881365, 'lon': -94.5404962}, {'city': 'tsihombe', 'lat': -25.318547, 'lon': 45.484057}, {'city': 'bambey', 'lat': 14.69548, 'lon': -16.449262}, {'city': 'hobart', 'lat': -42.8825088, 'lon': 147.3281233}, {'city': 'vaini', 'lat': -21.1925671, 'lon': -175.1772797}, {'city': 'urumqi', 'lat': 43.419754, 'lon': 87.319461}, {'city': 'port alfred', 'lat': -33.5981844, 'lon': 26.8914772}, {'city': 'skagastrond', 'lat': 65.8233244, 'lon': -20.3005642}]\n",
      "<citipy.citipy.City object at 0x7fba2ebdba90> port blair in\n",
      "[{'city': 'vanimo', 'lat': -2.6847646, 'lon': 141.3009131}, {'city': 'albany', 'lat': -35.0247822, 'lon': 117.883608}, {'city': 'mar del plata', 'lat': -37.9977225, 'lon': -57.5482703}, {'city': 'saint george', 'lat': 32.3763819, 'lon': -64.68926342528714}, {'city': 'jiddah', 'lat': 21.5810088, 'lon': 39.1653612}, {'city': 'butaritari', 'lat': 2.9205375, 'lon': 172.91886331442205}, {'city': 'lebu', 'lat': -37.6099644, 'lon': -73.6559477}, {'city': 'minas', 'lat': -34.3773987, 'lon': -55.2382144}, {'city': 'hilo', 'lat': 19.7073734, 'lon': -155.08158}, {'city': 'butaritari', 'lat': 2.9205375, 'lon': 172.91886331442205}, {'city': 'leningradskiy', 'lat': 54.129108, 'lon': 79.236702}, {'city': 'vardo', 'lat': 70.3308174, 'lon': 30.961751972265887}, {'city': 'illoqqortoormiut', 'lat': 70.4850588, 'lon': -21.9641992}, {'city': 'odweyne', 'lat': 9.40701, 'lon': 45.06358}, {'city': 'chake chake', 'lat': -5.2440346, 'lon': 39.7685075}, {'city': 'bredasdorp', 'lat': -34.533055, 'lon': 20.042778}, {'city': 'jamestown', 'lat': -15.9277296, 'lon': -5.7160872}, {'city': 'punta arenas', 'lat': -53.1625688, 'lon': -70.907822}, {'city': 'rantepao', 'lat': -2.9704575, 'lon': 119.8987167}, {'city': 'wynyard', 'lat': 51.766667, 'lon': -104.183333}, {'city': 'esil', 'lat': 51.9601511, 'lon': 66.4088826}, {'city': 'khandyga', 'lat': 62.6477939, 'lon': 135.5750942}, {'city': 'norman wells', 'lat': 65.282401, 'lon': -126.832725}, {'city': 'attawapiskat', 'lat': 52.9244075, 'lon': -82.4270112}, {'city': 'matay', 'lat': 28.4176905, 'lon': 30.7861579}, {'city': 'novopavlovka', 'lat': 49.113228, 'lon': 41.036873}, {'city': 'nizhneyansk', 'lat': 71.440445, 'lon': 136.130646}, {'city': 'hilo', 'lat': 19.7073734, 'lon': -155.08158}, {'city': 'belushya guba', 'lat': 71.5376984, 'lon': 52.3427343}, {'city': 'bykovo', 'lat': 55.6311596, 'lon': 38.0761816}, {'city': 'mar del plata', 'lat': -37.9977225, 'lon': -57.5482703}, {'city': 'illoqqortoormiut', 'lat': 70.4850588, 'lon': -21.9641992}, {'city': 'busselton', 'lat': -33.644499, 'lon': 115.3488754}, {'city': 'hermanus', 'lat': -34.4175, 'lon': 19.2361111}, {'city': 'umm kaddadah', 'lat': 13.6002208, 'lon': 26.6892786}, {'city': 'qaanaaq', 'lat': 77.4686357, 'lon': -69.2222746}, {'city': 'ushuaia', 'lat': -54.806115899999995, 'lon': -68.3184972880496}, {'city': 'luwuk', 'lat': -0.9528231, 'lon': 122.7880198}, {'city': 'illoqqortoormiut', 'lat': 70.4850588, 'lon': -21.9641992}, {'city': 'punta arenas', 'lat': -53.1625688, 'lon': -70.907822}, {'city': 'hilo', 'lat': 19.7073734, 'lon': -155.08158}, {'city': 'marcona', 'lat': -15.2155331, 'lon': -75.08303444567473}, {'city': 'siloam springs', 'lat': 36.1881365, 'lon': -94.5404962}, {'city': 'tsihombe', 'lat': -25.318547, 'lon': 45.484057}, {'city': 'bambey', 'lat': 14.69548, 'lon': -16.449262}, {'city': 'hobart', 'lat': -42.8825088, 'lon': 147.3281233}, {'city': 'vaini', 'lat': -21.1925671, 'lon': -175.1772797}, {'city': 'urumqi', 'lat': 43.419754, 'lon': 87.319461}, {'city': 'port alfred', 'lat': -33.5981844, 'lon': 26.8914772}, {'city': 'skagastrond', 'lat': 65.8233244, 'lon': -20.3005642}, {'city': 'port blair', 'lat': 11.6645348, 'lon': 92.7390448}]\n",
      "<citipy.citipy.City object at 0x7fba2ef96c20> hithadhoo mv\n"
     ]
    },
    {
     "name": "stdout",
     "output_type": "stream",
     "text": [
      "[{'city': 'vanimo', 'lat': -2.6847646, 'lon': 141.3009131}, {'city': 'albany', 'lat': -35.0247822, 'lon': 117.883608}, {'city': 'mar del plata', 'lat': -37.9977225, 'lon': -57.5482703}, {'city': 'saint george', 'lat': 32.3763819, 'lon': -64.68926342528714}, {'city': 'jiddah', 'lat': 21.5810088, 'lon': 39.1653612}, {'city': 'butaritari', 'lat': 2.9205375, 'lon': 172.91886331442205}, {'city': 'lebu', 'lat': -37.6099644, 'lon': -73.6559477}, {'city': 'minas', 'lat': -34.3773987, 'lon': -55.2382144}, {'city': 'hilo', 'lat': 19.7073734, 'lon': -155.08158}, {'city': 'butaritari', 'lat': 2.9205375, 'lon': 172.91886331442205}, {'city': 'leningradskiy', 'lat': 54.129108, 'lon': 79.236702}, {'city': 'vardo', 'lat': 70.3308174, 'lon': 30.961751972265887}, {'city': 'illoqqortoormiut', 'lat': 70.4850588, 'lon': -21.9641992}, {'city': 'odweyne', 'lat': 9.40701, 'lon': 45.06358}, {'city': 'chake chake', 'lat': -5.2440346, 'lon': 39.7685075}, {'city': 'bredasdorp', 'lat': -34.533055, 'lon': 20.042778}, {'city': 'jamestown', 'lat': -15.9277296, 'lon': -5.7160872}, {'city': 'punta arenas', 'lat': -53.1625688, 'lon': -70.907822}, {'city': 'rantepao', 'lat': -2.9704575, 'lon': 119.8987167}, {'city': 'wynyard', 'lat': 51.766667, 'lon': -104.183333}, {'city': 'esil', 'lat': 51.9601511, 'lon': 66.4088826}, {'city': 'khandyga', 'lat': 62.6477939, 'lon': 135.5750942}, {'city': 'norman wells', 'lat': 65.282401, 'lon': -126.832725}, {'city': 'attawapiskat', 'lat': 52.9244075, 'lon': -82.4270112}, {'city': 'matay', 'lat': 28.4176905, 'lon': 30.7861579}, {'city': 'novopavlovka', 'lat': 49.113228, 'lon': 41.036873}, {'city': 'nizhneyansk', 'lat': 71.440445, 'lon': 136.130646}, {'city': 'hilo', 'lat': 19.7073734, 'lon': -155.08158}, {'city': 'belushya guba', 'lat': 71.5376984, 'lon': 52.3427343}, {'city': 'bykovo', 'lat': 55.6311596, 'lon': 38.0761816}, {'city': 'mar del plata', 'lat': -37.9977225, 'lon': -57.5482703}, {'city': 'illoqqortoormiut', 'lat': 70.4850588, 'lon': -21.9641992}, {'city': 'busselton', 'lat': -33.644499, 'lon': 115.3488754}, {'city': 'hermanus', 'lat': -34.4175, 'lon': 19.2361111}, {'city': 'umm kaddadah', 'lat': 13.6002208, 'lon': 26.6892786}, {'city': 'qaanaaq', 'lat': 77.4686357, 'lon': -69.2222746}, {'city': 'ushuaia', 'lat': -54.806115899999995, 'lon': -68.3184972880496}, {'city': 'luwuk', 'lat': -0.9528231, 'lon': 122.7880198}, {'city': 'illoqqortoormiut', 'lat': 70.4850588, 'lon': -21.9641992}, {'city': 'punta arenas', 'lat': -53.1625688, 'lon': -70.907822}, {'city': 'hilo', 'lat': 19.7073734, 'lon': -155.08158}, {'city': 'marcona', 'lat': -15.2155331, 'lon': -75.08303444567473}, {'city': 'siloam springs', 'lat': 36.1881365, 'lon': -94.5404962}, {'city': 'tsihombe', 'lat': -25.318547, 'lon': 45.484057}, {'city': 'bambey', 'lat': 14.69548, 'lon': -16.449262}, {'city': 'hobart', 'lat': -42.8825088, 'lon': 147.3281233}, {'city': 'vaini', 'lat': -21.1925671, 'lon': -175.1772797}, {'city': 'urumqi', 'lat': 43.419754, 'lon': 87.319461}, {'city': 'port alfred', 'lat': -33.5981844, 'lon': 26.8914772}, {'city': 'skagastrond', 'lat': 65.8233244, 'lon': -20.3005642}, {'city': 'port blair', 'lat': 11.6645348, 'lon': 92.7390448}, {'city': 'hithadhoo', 'lat': 1.7959425, 'lon': 73.38755195657038}]\n",
      "<citipy.citipy.City object at 0x7fba2f6fa2f0> dikson ru\n",
      "[{'city': 'vanimo', 'lat': -2.6847646, 'lon': 141.3009131}, {'city': 'albany', 'lat': -35.0247822, 'lon': 117.883608}, {'city': 'mar del plata', 'lat': -37.9977225, 'lon': -57.5482703}, {'city': 'saint george', 'lat': 32.3763819, 'lon': -64.68926342528714}, {'city': 'jiddah', 'lat': 21.5810088, 'lon': 39.1653612}, {'city': 'butaritari', 'lat': 2.9205375, 'lon': 172.91886331442205}, {'city': 'lebu', 'lat': -37.6099644, 'lon': -73.6559477}, {'city': 'minas', 'lat': -34.3773987, 'lon': -55.2382144}, {'city': 'hilo', 'lat': 19.7073734, 'lon': -155.08158}, {'city': 'butaritari', 'lat': 2.9205375, 'lon': 172.91886331442205}, {'city': 'leningradskiy', 'lat': 54.129108, 'lon': 79.236702}, {'city': 'vardo', 'lat': 70.3308174, 'lon': 30.961751972265887}, {'city': 'illoqqortoormiut', 'lat': 70.4850588, 'lon': -21.9641992}, {'city': 'odweyne', 'lat': 9.40701, 'lon': 45.06358}, {'city': 'chake chake', 'lat': -5.2440346, 'lon': 39.7685075}, {'city': 'bredasdorp', 'lat': -34.533055, 'lon': 20.042778}, {'city': 'jamestown', 'lat': -15.9277296, 'lon': -5.7160872}, {'city': 'punta arenas', 'lat': -53.1625688, 'lon': -70.907822}, {'city': 'rantepao', 'lat': -2.9704575, 'lon': 119.8987167}, {'city': 'wynyard', 'lat': 51.766667, 'lon': -104.183333}, {'city': 'esil', 'lat': 51.9601511, 'lon': 66.4088826}, {'city': 'khandyga', 'lat': 62.6477939, 'lon': 135.5750942}, {'city': 'norman wells', 'lat': 65.282401, 'lon': -126.832725}, {'city': 'attawapiskat', 'lat': 52.9244075, 'lon': -82.4270112}, {'city': 'matay', 'lat': 28.4176905, 'lon': 30.7861579}, {'city': 'novopavlovka', 'lat': 49.113228, 'lon': 41.036873}, {'city': 'nizhneyansk', 'lat': 71.440445, 'lon': 136.130646}, {'city': 'hilo', 'lat': 19.7073734, 'lon': -155.08158}, {'city': 'belushya guba', 'lat': 71.5376984, 'lon': 52.3427343}, {'city': 'bykovo', 'lat': 55.6311596, 'lon': 38.0761816}, {'city': 'mar del plata', 'lat': -37.9977225, 'lon': -57.5482703}, {'city': 'illoqqortoormiut', 'lat': 70.4850588, 'lon': -21.9641992}, {'city': 'busselton', 'lat': -33.644499, 'lon': 115.3488754}, {'city': 'hermanus', 'lat': -34.4175, 'lon': 19.2361111}, {'city': 'umm kaddadah', 'lat': 13.6002208, 'lon': 26.6892786}, {'city': 'qaanaaq', 'lat': 77.4686357, 'lon': -69.2222746}, {'city': 'ushuaia', 'lat': -54.806115899999995, 'lon': -68.3184972880496}, {'city': 'luwuk', 'lat': -0.9528231, 'lon': 122.7880198}, {'city': 'illoqqortoormiut', 'lat': 70.4850588, 'lon': -21.9641992}, {'city': 'punta arenas', 'lat': -53.1625688, 'lon': -70.907822}, {'city': 'hilo', 'lat': 19.7073734, 'lon': -155.08158}, {'city': 'marcona', 'lat': -15.2155331, 'lon': -75.08303444567473}, {'city': 'siloam springs', 'lat': 36.1881365, 'lon': -94.5404962}, {'city': 'tsihombe', 'lat': -25.318547, 'lon': 45.484057}, {'city': 'bambey', 'lat': 14.69548, 'lon': -16.449262}, {'city': 'hobart', 'lat': -42.8825088, 'lon': 147.3281233}, {'city': 'vaini', 'lat': -21.1925671, 'lon': -175.1772797}, {'city': 'urumqi', 'lat': 43.419754, 'lon': 87.319461}, {'city': 'port alfred', 'lat': -33.5981844, 'lon': 26.8914772}, {'city': 'skagastrond', 'lat': 65.8233244, 'lon': -20.3005642}, {'city': 'port blair', 'lat': 11.6645348, 'lon': 92.7390448}, {'city': 'hithadhoo', 'lat': 1.7959425, 'lon': 73.38755195657038}, {'city': 'dikson', 'lat': 73.5083894, 'lon': 80.5123816}]\n",
      "<citipy.citipy.City object at 0x7fba2f93c730> georgetown sh\n",
      "[{'city': 'vanimo', 'lat': -2.6847646, 'lon': 141.3009131}, {'city': 'albany', 'lat': -35.0247822, 'lon': 117.883608}, {'city': 'mar del plata', 'lat': -37.9977225, 'lon': -57.5482703}, {'city': 'saint george', 'lat': 32.3763819, 'lon': -64.68926342528714}, {'city': 'jiddah', 'lat': 21.5810088, 'lon': 39.1653612}, {'city': 'butaritari', 'lat': 2.9205375, 'lon': 172.91886331442205}, {'city': 'lebu', 'lat': -37.6099644, 'lon': -73.6559477}, {'city': 'minas', 'lat': -34.3773987, 'lon': -55.2382144}, {'city': 'hilo', 'lat': 19.7073734, 'lon': -155.08158}, {'city': 'butaritari', 'lat': 2.9205375, 'lon': 172.91886331442205}, {'city': 'leningradskiy', 'lat': 54.129108, 'lon': 79.236702}, {'city': 'vardo', 'lat': 70.3308174, 'lon': 30.961751972265887}, {'city': 'illoqqortoormiut', 'lat': 70.4850588, 'lon': -21.9641992}, {'city': 'odweyne', 'lat': 9.40701, 'lon': 45.06358}, {'city': 'chake chake', 'lat': -5.2440346, 'lon': 39.7685075}, {'city': 'bredasdorp', 'lat': -34.533055, 'lon': 20.042778}, {'city': 'jamestown', 'lat': -15.9277296, 'lon': -5.7160872}, {'city': 'punta arenas', 'lat': -53.1625688, 'lon': -70.907822}, {'city': 'rantepao', 'lat': -2.9704575, 'lon': 119.8987167}, {'city': 'wynyard', 'lat': 51.766667, 'lon': -104.183333}, {'city': 'esil', 'lat': 51.9601511, 'lon': 66.4088826}, {'city': 'khandyga', 'lat': 62.6477939, 'lon': 135.5750942}, {'city': 'norman wells', 'lat': 65.282401, 'lon': -126.832725}, {'city': 'attawapiskat', 'lat': 52.9244075, 'lon': -82.4270112}, {'city': 'matay', 'lat': 28.4176905, 'lon': 30.7861579}, {'city': 'novopavlovka', 'lat': 49.113228, 'lon': 41.036873}, {'city': 'nizhneyansk', 'lat': 71.440445, 'lon': 136.130646}, {'city': 'hilo', 'lat': 19.7073734, 'lon': -155.08158}, {'city': 'belushya guba', 'lat': 71.5376984, 'lon': 52.3427343}, {'city': 'bykovo', 'lat': 55.6311596, 'lon': 38.0761816}, {'city': 'mar del plata', 'lat': -37.9977225, 'lon': -57.5482703}, {'city': 'illoqqortoormiut', 'lat': 70.4850588, 'lon': -21.9641992}, {'city': 'busselton', 'lat': -33.644499, 'lon': 115.3488754}, {'city': 'hermanus', 'lat': -34.4175, 'lon': 19.2361111}, {'city': 'umm kaddadah', 'lat': 13.6002208, 'lon': 26.6892786}, {'city': 'qaanaaq', 'lat': 77.4686357, 'lon': -69.2222746}, {'city': 'ushuaia', 'lat': -54.806115899999995, 'lon': -68.3184972880496}, {'city': 'luwuk', 'lat': -0.9528231, 'lon': 122.7880198}, {'city': 'illoqqortoormiut', 'lat': 70.4850588, 'lon': -21.9641992}, {'city': 'punta arenas', 'lat': -53.1625688, 'lon': -70.907822}, {'city': 'hilo', 'lat': 19.7073734, 'lon': -155.08158}, {'city': 'marcona', 'lat': -15.2155331, 'lon': -75.08303444567473}, {'city': 'siloam springs', 'lat': 36.1881365, 'lon': -94.5404962}, {'city': 'tsihombe', 'lat': -25.318547, 'lon': 45.484057}, {'city': 'bambey', 'lat': 14.69548, 'lon': -16.449262}, {'city': 'hobart', 'lat': -42.8825088, 'lon': 147.3281233}, {'city': 'vaini', 'lat': -21.1925671, 'lon': -175.1772797}, {'city': 'urumqi', 'lat': 43.419754, 'lon': 87.319461}, {'city': 'port alfred', 'lat': -33.5981844, 'lon': 26.8914772}, {'city': 'skagastrond', 'lat': 65.8233244, 'lon': -20.3005642}, {'city': 'port blair', 'lat': 11.6645348, 'lon': 92.7390448}, {'city': 'hithadhoo', 'lat': 1.7959425, 'lon': 73.38755195657038}, {'city': 'dikson', 'lat': 73.5083894, 'lon': 80.5123816}, {'city': 'georgetown', 'lat': -7.9289722, 'lon': -14.4133993}]\n",
      "<citipy.citipy.City object at 0x7fba2e35fb20> coquimbo cl\n",
      "[{'city': 'vanimo', 'lat': -2.6847646, 'lon': 141.3009131}, {'city': 'albany', 'lat': -35.0247822, 'lon': 117.883608}, {'city': 'mar del plata', 'lat': -37.9977225, 'lon': -57.5482703}, {'city': 'saint george', 'lat': 32.3763819, 'lon': -64.68926342528714}, {'city': 'jiddah', 'lat': 21.5810088, 'lon': 39.1653612}, {'city': 'butaritari', 'lat': 2.9205375, 'lon': 172.91886331442205}, {'city': 'lebu', 'lat': -37.6099644, 'lon': -73.6559477}, {'city': 'minas', 'lat': -34.3773987, 'lon': -55.2382144}, {'city': 'hilo', 'lat': 19.7073734, 'lon': -155.08158}, {'city': 'butaritari', 'lat': 2.9205375, 'lon': 172.91886331442205}, {'city': 'leningradskiy', 'lat': 54.129108, 'lon': 79.236702}, {'city': 'vardo', 'lat': 70.3308174, 'lon': 30.961751972265887}, {'city': 'illoqqortoormiut', 'lat': 70.4850588, 'lon': -21.9641992}, {'city': 'odweyne', 'lat': 9.40701, 'lon': 45.06358}, {'city': 'chake chake', 'lat': -5.2440346, 'lon': 39.7685075}, {'city': 'bredasdorp', 'lat': -34.533055, 'lon': 20.042778}, {'city': 'jamestown', 'lat': -15.9277296, 'lon': -5.7160872}, {'city': 'punta arenas', 'lat': -53.1625688, 'lon': -70.907822}, {'city': 'rantepao', 'lat': -2.9704575, 'lon': 119.8987167}, {'city': 'wynyard', 'lat': 51.766667, 'lon': -104.183333}, {'city': 'esil', 'lat': 51.9601511, 'lon': 66.4088826}, {'city': 'khandyga', 'lat': 62.6477939, 'lon': 135.5750942}, {'city': 'norman wells', 'lat': 65.282401, 'lon': -126.832725}, {'city': 'attawapiskat', 'lat': 52.9244075, 'lon': -82.4270112}, {'city': 'matay', 'lat': 28.4176905, 'lon': 30.7861579}, {'city': 'novopavlovka', 'lat': 49.113228, 'lon': 41.036873}, {'city': 'nizhneyansk', 'lat': 71.440445, 'lon': 136.130646}, {'city': 'hilo', 'lat': 19.7073734, 'lon': -155.08158}, {'city': 'belushya guba', 'lat': 71.5376984, 'lon': 52.3427343}, {'city': 'bykovo', 'lat': 55.6311596, 'lon': 38.0761816}, {'city': 'mar del plata', 'lat': -37.9977225, 'lon': -57.5482703}, {'city': 'illoqqortoormiut', 'lat': 70.4850588, 'lon': -21.9641992}, {'city': 'busselton', 'lat': -33.644499, 'lon': 115.3488754}, {'city': 'hermanus', 'lat': -34.4175, 'lon': 19.2361111}, {'city': 'umm kaddadah', 'lat': 13.6002208, 'lon': 26.6892786}, {'city': 'qaanaaq', 'lat': 77.4686357, 'lon': -69.2222746}, {'city': 'ushuaia', 'lat': -54.806115899999995, 'lon': -68.3184972880496}, {'city': 'luwuk', 'lat': -0.9528231, 'lon': 122.7880198}, {'city': 'illoqqortoormiut', 'lat': 70.4850588, 'lon': -21.9641992}, {'city': 'punta arenas', 'lat': -53.1625688, 'lon': -70.907822}, {'city': 'hilo', 'lat': 19.7073734, 'lon': -155.08158}, {'city': 'marcona', 'lat': -15.2155331, 'lon': -75.08303444567473}, {'city': 'siloam springs', 'lat': 36.1881365, 'lon': -94.5404962}, {'city': 'tsihombe', 'lat': -25.318547, 'lon': 45.484057}, {'city': 'bambey', 'lat': 14.69548, 'lon': -16.449262}, {'city': 'hobart', 'lat': -42.8825088, 'lon': 147.3281233}, {'city': 'vaini', 'lat': -21.1925671, 'lon': -175.1772797}, {'city': 'urumqi', 'lat': 43.419754, 'lon': 87.319461}, {'city': 'port alfred', 'lat': -33.5981844, 'lon': 26.8914772}, {'city': 'skagastrond', 'lat': 65.8233244, 'lon': -20.3005642}, {'city': 'port blair', 'lat': 11.6645348, 'lon': 92.7390448}, {'city': 'hithadhoo', 'lat': 1.7959425, 'lon': 73.38755195657038}, {'city': 'dikson', 'lat': 73.5083894, 'lon': 80.5123816}, {'city': 'georgetown', 'lat': -7.9289722, 'lon': -14.4133993}, {'city': 'coquimbo', 'lat': -29.9531928, 'lon': -71.3379884}]\n",
      "<citipy.citipy.City object at 0x7fba2e3066b0> thompson ca\n"
     ]
    },
    {
     "name": "stdout",
     "output_type": "stream",
     "text": [
      "[{'city': 'vanimo', 'lat': -2.6847646, 'lon': 141.3009131}, {'city': 'albany', 'lat': -35.0247822, 'lon': 117.883608}, {'city': 'mar del plata', 'lat': -37.9977225, 'lon': -57.5482703}, {'city': 'saint george', 'lat': 32.3763819, 'lon': -64.68926342528714}, {'city': 'jiddah', 'lat': 21.5810088, 'lon': 39.1653612}, {'city': 'butaritari', 'lat': 2.9205375, 'lon': 172.91886331442205}, {'city': 'lebu', 'lat': -37.6099644, 'lon': -73.6559477}, {'city': 'minas', 'lat': -34.3773987, 'lon': -55.2382144}, {'city': 'hilo', 'lat': 19.7073734, 'lon': -155.08158}, {'city': 'butaritari', 'lat': 2.9205375, 'lon': 172.91886331442205}, {'city': 'leningradskiy', 'lat': 54.129108, 'lon': 79.236702}, {'city': 'vardo', 'lat': 70.3308174, 'lon': 30.961751972265887}, {'city': 'illoqqortoormiut', 'lat': 70.4850588, 'lon': -21.9641992}, {'city': 'odweyne', 'lat': 9.40701, 'lon': 45.06358}, {'city': 'chake chake', 'lat': -5.2440346, 'lon': 39.7685075}, {'city': 'bredasdorp', 'lat': -34.533055, 'lon': 20.042778}, {'city': 'jamestown', 'lat': -15.9277296, 'lon': -5.7160872}, {'city': 'punta arenas', 'lat': -53.1625688, 'lon': -70.907822}, {'city': 'rantepao', 'lat': -2.9704575, 'lon': 119.8987167}, {'city': 'wynyard', 'lat': 51.766667, 'lon': -104.183333}, {'city': 'esil', 'lat': 51.9601511, 'lon': 66.4088826}, {'city': 'khandyga', 'lat': 62.6477939, 'lon': 135.5750942}, {'city': 'norman wells', 'lat': 65.282401, 'lon': -126.832725}, {'city': 'attawapiskat', 'lat': 52.9244075, 'lon': -82.4270112}, {'city': 'matay', 'lat': 28.4176905, 'lon': 30.7861579}, {'city': 'novopavlovka', 'lat': 49.113228, 'lon': 41.036873}, {'city': 'nizhneyansk', 'lat': 71.440445, 'lon': 136.130646}, {'city': 'hilo', 'lat': 19.7073734, 'lon': -155.08158}, {'city': 'belushya guba', 'lat': 71.5376984, 'lon': 52.3427343}, {'city': 'bykovo', 'lat': 55.6311596, 'lon': 38.0761816}, {'city': 'mar del plata', 'lat': -37.9977225, 'lon': -57.5482703}, {'city': 'illoqqortoormiut', 'lat': 70.4850588, 'lon': -21.9641992}, {'city': 'busselton', 'lat': -33.644499, 'lon': 115.3488754}, {'city': 'hermanus', 'lat': -34.4175, 'lon': 19.2361111}, {'city': 'umm kaddadah', 'lat': 13.6002208, 'lon': 26.6892786}, {'city': 'qaanaaq', 'lat': 77.4686357, 'lon': -69.2222746}, {'city': 'ushuaia', 'lat': -54.806115899999995, 'lon': -68.3184972880496}, {'city': 'luwuk', 'lat': -0.9528231, 'lon': 122.7880198}, {'city': 'illoqqortoormiut', 'lat': 70.4850588, 'lon': -21.9641992}, {'city': 'punta arenas', 'lat': -53.1625688, 'lon': -70.907822}, {'city': 'hilo', 'lat': 19.7073734, 'lon': -155.08158}, {'city': 'marcona', 'lat': -15.2155331, 'lon': -75.08303444567473}, {'city': 'siloam springs', 'lat': 36.1881365, 'lon': -94.5404962}, {'city': 'tsihombe', 'lat': -25.318547, 'lon': 45.484057}, {'city': 'bambey', 'lat': 14.69548, 'lon': -16.449262}, {'city': 'hobart', 'lat': -42.8825088, 'lon': 147.3281233}, {'city': 'vaini', 'lat': -21.1925671, 'lon': -175.1772797}, {'city': 'urumqi', 'lat': 43.419754, 'lon': 87.319461}, {'city': 'port alfred', 'lat': -33.5981844, 'lon': 26.8914772}, {'city': 'skagastrond', 'lat': 65.8233244, 'lon': -20.3005642}, {'city': 'port blair', 'lat': 11.6645348, 'lon': 92.7390448}, {'city': 'hithadhoo', 'lat': 1.7959425, 'lon': 73.38755195657038}, {'city': 'dikson', 'lat': 73.5083894, 'lon': 80.5123816}, {'city': 'georgetown', 'lat': -7.9289722, 'lon': -14.4133993}, {'city': 'coquimbo', 'lat': -29.9531928, 'lon': -71.3379884}, {'city': 'thompson', 'lat': 55.743347, 'lon': -97.863464}]\n",
      "<citipy.citipy.City object at 0x7fba2ef677c0> rankovce mk\n",
      "[{'city': 'vanimo', 'lat': -2.6847646, 'lon': 141.3009131}, {'city': 'albany', 'lat': -35.0247822, 'lon': 117.883608}, {'city': 'mar del plata', 'lat': -37.9977225, 'lon': -57.5482703}, {'city': 'saint george', 'lat': 32.3763819, 'lon': -64.68926342528714}, {'city': 'jiddah', 'lat': 21.5810088, 'lon': 39.1653612}, {'city': 'butaritari', 'lat': 2.9205375, 'lon': 172.91886331442205}, {'city': 'lebu', 'lat': -37.6099644, 'lon': -73.6559477}, {'city': 'minas', 'lat': -34.3773987, 'lon': -55.2382144}, {'city': 'hilo', 'lat': 19.7073734, 'lon': -155.08158}, {'city': 'butaritari', 'lat': 2.9205375, 'lon': 172.91886331442205}, {'city': 'leningradskiy', 'lat': 54.129108, 'lon': 79.236702}, {'city': 'vardo', 'lat': 70.3308174, 'lon': 30.961751972265887}, {'city': 'illoqqortoormiut', 'lat': 70.4850588, 'lon': -21.9641992}, {'city': 'odweyne', 'lat': 9.40701, 'lon': 45.06358}, {'city': 'chake chake', 'lat': -5.2440346, 'lon': 39.7685075}, {'city': 'bredasdorp', 'lat': -34.533055, 'lon': 20.042778}, {'city': 'jamestown', 'lat': -15.9277296, 'lon': -5.7160872}, {'city': 'punta arenas', 'lat': -53.1625688, 'lon': -70.907822}, {'city': 'rantepao', 'lat': -2.9704575, 'lon': 119.8987167}, {'city': 'wynyard', 'lat': 51.766667, 'lon': -104.183333}, {'city': 'esil', 'lat': 51.9601511, 'lon': 66.4088826}, {'city': 'khandyga', 'lat': 62.6477939, 'lon': 135.5750942}, {'city': 'norman wells', 'lat': 65.282401, 'lon': -126.832725}, {'city': 'attawapiskat', 'lat': 52.9244075, 'lon': -82.4270112}, {'city': 'matay', 'lat': 28.4176905, 'lon': 30.7861579}, {'city': 'novopavlovka', 'lat': 49.113228, 'lon': 41.036873}, {'city': 'nizhneyansk', 'lat': 71.440445, 'lon': 136.130646}, {'city': 'hilo', 'lat': 19.7073734, 'lon': -155.08158}, {'city': 'belushya guba', 'lat': 71.5376984, 'lon': 52.3427343}, {'city': 'bykovo', 'lat': 55.6311596, 'lon': 38.0761816}, {'city': 'mar del plata', 'lat': -37.9977225, 'lon': -57.5482703}, {'city': 'illoqqortoormiut', 'lat': 70.4850588, 'lon': -21.9641992}, {'city': 'busselton', 'lat': -33.644499, 'lon': 115.3488754}, {'city': 'hermanus', 'lat': -34.4175, 'lon': 19.2361111}, {'city': 'umm kaddadah', 'lat': 13.6002208, 'lon': 26.6892786}, {'city': 'qaanaaq', 'lat': 77.4686357, 'lon': -69.2222746}, {'city': 'ushuaia', 'lat': -54.806115899999995, 'lon': -68.3184972880496}, {'city': 'luwuk', 'lat': -0.9528231, 'lon': 122.7880198}, {'city': 'illoqqortoormiut', 'lat': 70.4850588, 'lon': -21.9641992}, {'city': 'punta arenas', 'lat': -53.1625688, 'lon': -70.907822}, {'city': 'hilo', 'lat': 19.7073734, 'lon': -155.08158}, {'city': 'marcona', 'lat': -15.2155331, 'lon': -75.08303444567473}, {'city': 'siloam springs', 'lat': 36.1881365, 'lon': -94.5404962}, {'city': 'tsihombe', 'lat': -25.318547, 'lon': 45.484057}, {'city': 'bambey', 'lat': 14.69548, 'lon': -16.449262}, {'city': 'hobart', 'lat': -42.8825088, 'lon': 147.3281233}, {'city': 'vaini', 'lat': -21.1925671, 'lon': -175.1772797}, {'city': 'urumqi', 'lat': 43.419754, 'lon': 87.319461}, {'city': 'port alfred', 'lat': -33.5981844, 'lon': 26.8914772}, {'city': 'skagastrond', 'lat': 65.8233244, 'lon': -20.3005642}, {'city': 'port blair', 'lat': 11.6645348, 'lon': 92.7390448}, {'city': 'hithadhoo', 'lat': 1.7959425, 'lon': 73.38755195657038}, {'city': 'dikson', 'lat': 73.5083894, 'lon': 80.5123816}, {'city': 'georgetown', 'lat': -7.9289722, 'lon': -14.4133993}, {'city': 'coquimbo', 'lat': -29.9531928, 'lon': -71.3379884}, {'city': 'thompson', 'lat': 55.743347, 'lon': -97.863464}, {'city': 'rankovce', 'lat': 42.1686201, 'lon': 22.1165518}]\n",
      "<citipy.citipy.City object at 0x7fba2e870250> sinnamary gf\n",
      "<citipy.citipy.City object at 0x7fba2f1537c0> dunedin nz\n",
      "[{'city': 'vanimo', 'lat': -2.6847646, 'lon': 141.3009131}, {'city': 'albany', 'lat': -35.0247822, 'lon': 117.883608}, {'city': 'mar del plata', 'lat': -37.9977225, 'lon': -57.5482703}, {'city': 'saint george', 'lat': 32.3763819, 'lon': -64.68926342528714}, {'city': 'jiddah', 'lat': 21.5810088, 'lon': 39.1653612}, {'city': 'butaritari', 'lat': 2.9205375, 'lon': 172.91886331442205}, {'city': 'lebu', 'lat': -37.6099644, 'lon': -73.6559477}, {'city': 'minas', 'lat': -34.3773987, 'lon': -55.2382144}, {'city': 'hilo', 'lat': 19.7073734, 'lon': -155.08158}, {'city': 'butaritari', 'lat': 2.9205375, 'lon': 172.91886331442205}, {'city': 'leningradskiy', 'lat': 54.129108, 'lon': 79.236702}, {'city': 'vardo', 'lat': 70.3308174, 'lon': 30.961751972265887}, {'city': 'illoqqortoormiut', 'lat': 70.4850588, 'lon': -21.9641992}, {'city': 'odweyne', 'lat': 9.40701, 'lon': 45.06358}, {'city': 'chake chake', 'lat': -5.2440346, 'lon': 39.7685075}, {'city': 'bredasdorp', 'lat': -34.533055, 'lon': 20.042778}, {'city': 'jamestown', 'lat': -15.9277296, 'lon': -5.7160872}, {'city': 'punta arenas', 'lat': -53.1625688, 'lon': -70.907822}, {'city': 'rantepao', 'lat': -2.9704575, 'lon': 119.8987167}, {'city': 'wynyard', 'lat': 51.766667, 'lon': -104.183333}, {'city': 'esil', 'lat': 51.9601511, 'lon': 66.4088826}, {'city': 'khandyga', 'lat': 62.6477939, 'lon': 135.5750942}, {'city': 'norman wells', 'lat': 65.282401, 'lon': -126.832725}, {'city': 'attawapiskat', 'lat': 52.9244075, 'lon': -82.4270112}, {'city': 'matay', 'lat': 28.4176905, 'lon': 30.7861579}, {'city': 'novopavlovka', 'lat': 49.113228, 'lon': 41.036873}, {'city': 'nizhneyansk', 'lat': 71.440445, 'lon': 136.130646}, {'city': 'hilo', 'lat': 19.7073734, 'lon': -155.08158}, {'city': 'belushya guba', 'lat': 71.5376984, 'lon': 52.3427343}, {'city': 'bykovo', 'lat': 55.6311596, 'lon': 38.0761816}, {'city': 'mar del plata', 'lat': -37.9977225, 'lon': -57.5482703}, {'city': 'illoqqortoormiut', 'lat': 70.4850588, 'lon': -21.9641992}, {'city': 'busselton', 'lat': -33.644499, 'lon': 115.3488754}, {'city': 'hermanus', 'lat': -34.4175, 'lon': 19.2361111}, {'city': 'umm kaddadah', 'lat': 13.6002208, 'lon': 26.6892786}, {'city': 'qaanaaq', 'lat': 77.4686357, 'lon': -69.2222746}, {'city': 'ushuaia', 'lat': -54.806115899999995, 'lon': -68.3184972880496}, {'city': 'luwuk', 'lat': -0.9528231, 'lon': 122.7880198}, {'city': 'illoqqortoormiut', 'lat': 70.4850588, 'lon': -21.9641992}, {'city': 'punta arenas', 'lat': -53.1625688, 'lon': -70.907822}, {'city': 'hilo', 'lat': 19.7073734, 'lon': -155.08158}, {'city': 'marcona', 'lat': -15.2155331, 'lon': -75.08303444567473}, {'city': 'siloam springs', 'lat': 36.1881365, 'lon': -94.5404962}, {'city': 'tsihombe', 'lat': -25.318547, 'lon': 45.484057}, {'city': 'bambey', 'lat': 14.69548, 'lon': -16.449262}, {'city': 'hobart', 'lat': -42.8825088, 'lon': 147.3281233}, {'city': 'vaini', 'lat': -21.1925671, 'lon': -175.1772797}, {'city': 'urumqi', 'lat': 43.419754, 'lon': 87.319461}, {'city': 'port alfred', 'lat': -33.5981844, 'lon': 26.8914772}, {'city': 'skagastrond', 'lat': 65.8233244, 'lon': -20.3005642}, {'city': 'port blair', 'lat': 11.6645348, 'lon': 92.7390448}, {'city': 'hithadhoo', 'lat': 1.7959425, 'lon': 73.38755195657038}, {'city': 'dikson', 'lat': 73.5083894, 'lon': 80.5123816}, {'city': 'georgetown', 'lat': -7.9289722, 'lon': -14.4133993}, {'city': 'coquimbo', 'lat': -29.9531928, 'lon': -71.3379884}, {'city': 'thompson', 'lat': 55.743347, 'lon': -97.863464}, {'city': 'rankovce', 'lat': 42.1686201, 'lon': 22.1165518}, {'city': 'dunedin', 'lat': -45.8740984, 'lon': 170.5035755}]\n",
      "<citipy.citipy.City object at 0x7fba2e090cd0> busselton au\n",
      "[{'city': 'vanimo', 'lat': -2.6847646, 'lon': 141.3009131}, {'city': 'albany', 'lat': -35.0247822, 'lon': 117.883608}, {'city': 'mar del plata', 'lat': -37.9977225, 'lon': -57.5482703}, {'city': 'saint george', 'lat': 32.3763819, 'lon': -64.68926342528714}, {'city': 'jiddah', 'lat': 21.5810088, 'lon': 39.1653612}, {'city': 'butaritari', 'lat': 2.9205375, 'lon': 172.91886331442205}, {'city': 'lebu', 'lat': -37.6099644, 'lon': -73.6559477}, {'city': 'minas', 'lat': -34.3773987, 'lon': -55.2382144}, {'city': 'hilo', 'lat': 19.7073734, 'lon': -155.08158}, {'city': 'butaritari', 'lat': 2.9205375, 'lon': 172.91886331442205}, {'city': 'leningradskiy', 'lat': 54.129108, 'lon': 79.236702}, {'city': 'vardo', 'lat': 70.3308174, 'lon': 30.961751972265887}, {'city': 'illoqqortoormiut', 'lat': 70.4850588, 'lon': -21.9641992}, {'city': 'odweyne', 'lat': 9.40701, 'lon': 45.06358}, {'city': 'chake chake', 'lat': -5.2440346, 'lon': 39.7685075}, {'city': 'bredasdorp', 'lat': -34.533055, 'lon': 20.042778}, {'city': 'jamestown', 'lat': -15.9277296, 'lon': -5.7160872}, {'city': 'punta arenas', 'lat': -53.1625688, 'lon': -70.907822}, {'city': 'rantepao', 'lat': -2.9704575, 'lon': 119.8987167}, {'city': 'wynyard', 'lat': 51.766667, 'lon': -104.183333}, {'city': 'esil', 'lat': 51.9601511, 'lon': 66.4088826}, {'city': 'khandyga', 'lat': 62.6477939, 'lon': 135.5750942}, {'city': 'norman wells', 'lat': 65.282401, 'lon': -126.832725}, {'city': 'attawapiskat', 'lat': 52.9244075, 'lon': -82.4270112}, {'city': 'matay', 'lat': 28.4176905, 'lon': 30.7861579}, {'city': 'novopavlovka', 'lat': 49.113228, 'lon': 41.036873}, {'city': 'nizhneyansk', 'lat': 71.440445, 'lon': 136.130646}, {'city': 'hilo', 'lat': 19.7073734, 'lon': -155.08158}, {'city': 'belushya guba', 'lat': 71.5376984, 'lon': 52.3427343}, {'city': 'bykovo', 'lat': 55.6311596, 'lon': 38.0761816}, {'city': 'mar del plata', 'lat': -37.9977225, 'lon': -57.5482703}, {'city': 'illoqqortoormiut', 'lat': 70.4850588, 'lon': -21.9641992}, {'city': 'busselton', 'lat': -33.644499, 'lon': 115.3488754}, {'city': 'hermanus', 'lat': -34.4175, 'lon': 19.2361111}, {'city': 'umm kaddadah', 'lat': 13.6002208, 'lon': 26.6892786}, {'city': 'qaanaaq', 'lat': 77.4686357, 'lon': -69.2222746}, {'city': 'ushuaia', 'lat': -54.806115899999995, 'lon': -68.3184972880496}, {'city': 'luwuk', 'lat': -0.9528231, 'lon': 122.7880198}, {'city': 'illoqqortoormiut', 'lat': 70.4850588, 'lon': -21.9641992}, {'city': 'punta arenas', 'lat': -53.1625688, 'lon': -70.907822}, {'city': 'hilo', 'lat': 19.7073734, 'lon': -155.08158}, {'city': 'marcona', 'lat': -15.2155331, 'lon': -75.08303444567473}, {'city': 'siloam springs', 'lat': 36.1881365, 'lon': -94.5404962}, {'city': 'tsihombe', 'lat': -25.318547, 'lon': 45.484057}, {'city': 'bambey', 'lat': 14.69548, 'lon': -16.449262}, {'city': 'hobart', 'lat': -42.8825088, 'lon': 147.3281233}, {'city': 'vaini', 'lat': -21.1925671, 'lon': -175.1772797}, {'city': 'urumqi', 'lat': 43.419754, 'lon': 87.319461}, {'city': 'port alfred', 'lat': -33.5981844, 'lon': 26.8914772}, {'city': 'skagastrond', 'lat': 65.8233244, 'lon': -20.3005642}, {'city': 'port blair', 'lat': 11.6645348, 'lon': 92.7390448}, {'city': 'hithadhoo', 'lat': 1.7959425, 'lon': 73.38755195657038}, {'city': 'dikson', 'lat': 73.5083894, 'lon': 80.5123816}, {'city': 'georgetown', 'lat': -7.9289722, 'lon': -14.4133993}, {'city': 'coquimbo', 'lat': -29.9531928, 'lon': -71.3379884}, {'city': 'thompson', 'lat': 55.743347, 'lon': -97.863464}, {'city': 'rankovce', 'lat': 42.1686201, 'lon': 22.1165518}, {'city': 'dunedin', 'lat': -45.8740984, 'lon': 170.5035755}, {'city': 'busselton', 'lat': -33.644499, 'lon': 115.3488754}]\n",
      "<citipy.citipy.City object at 0x7fba2e632020> puerto ayora ec\n"
     ]
    },
    {
     "name": "stdout",
     "output_type": "stream",
     "text": [
      "[{'city': 'vanimo', 'lat': -2.6847646, 'lon': 141.3009131}, {'city': 'albany', 'lat': -35.0247822, 'lon': 117.883608}, {'city': 'mar del plata', 'lat': -37.9977225, 'lon': -57.5482703}, {'city': 'saint george', 'lat': 32.3763819, 'lon': -64.68926342528714}, {'city': 'jiddah', 'lat': 21.5810088, 'lon': 39.1653612}, {'city': 'butaritari', 'lat': 2.9205375, 'lon': 172.91886331442205}, {'city': 'lebu', 'lat': -37.6099644, 'lon': -73.6559477}, {'city': 'minas', 'lat': -34.3773987, 'lon': -55.2382144}, {'city': 'hilo', 'lat': 19.7073734, 'lon': -155.08158}, {'city': 'butaritari', 'lat': 2.9205375, 'lon': 172.91886331442205}, {'city': 'leningradskiy', 'lat': 54.129108, 'lon': 79.236702}, {'city': 'vardo', 'lat': 70.3308174, 'lon': 30.961751972265887}, {'city': 'illoqqortoormiut', 'lat': 70.4850588, 'lon': -21.9641992}, {'city': 'odweyne', 'lat': 9.40701, 'lon': 45.06358}, {'city': 'chake chake', 'lat': -5.2440346, 'lon': 39.7685075}, {'city': 'bredasdorp', 'lat': -34.533055, 'lon': 20.042778}, {'city': 'jamestown', 'lat': -15.9277296, 'lon': -5.7160872}, {'city': 'punta arenas', 'lat': -53.1625688, 'lon': -70.907822}, {'city': 'rantepao', 'lat': -2.9704575, 'lon': 119.8987167}, {'city': 'wynyard', 'lat': 51.766667, 'lon': -104.183333}, {'city': 'esil', 'lat': 51.9601511, 'lon': 66.4088826}, {'city': 'khandyga', 'lat': 62.6477939, 'lon': 135.5750942}, {'city': 'norman wells', 'lat': 65.282401, 'lon': -126.832725}, {'city': 'attawapiskat', 'lat': 52.9244075, 'lon': -82.4270112}, {'city': 'matay', 'lat': 28.4176905, 'lon': 30.7861579}, {'city': 'novopavlovka', 'lat': 49.113228, 'lon': 41.036873}, {'city': 'nizhneyansk', 'lat': 71.440445, 'lon': 136.130646}, {'city': 'hilo', 'lat': 19.7073734, 'lon': -155.08158}, {'city': 'belushya guba', 'lat': 71.5376984, 'lon': 52.3427343}, {'city': 'bykovo', 'lat': 55.6311596, 'lon': 38.0761816}, {'city': 'mar del plata', 'lat': -37.9977225, 'lon': -57.5482703}, {'city': 'illoqqortoormiut', 'lat': 70.4850588, 'lon': -21.9641992}, {'city': 'busselton', 'lat': -33.644499, 'lon': 115.3488754}, {'city': 'hermanus', 'lat': -34.4175, 'lon': 19.2361111}, {'city': 'umm kaddadah', 'lat': 13.6002208, 'lon': 26.6892786}, {'city': 'qaanaaq', 'lat': 77.4686357, 'lon': -69.2222746}, {'city': 'ushuaia', 'lat': -54.806115899999995, 'lon': -68.3184972880496}, {'city': 'luwuk', 'lat': -0.9528231, 'lon': 122.7880198}, {'city': 'illoqqortoormiut', 'lat': 70.4850588, 'lon': -21.9641992}, {'city': 'punta arenas', 'lat': -53.1625688, 'lon': -70.907822}, {'city': 'hilo', 'lat': 19.7073734, 'lon': -155.08158}, {'city': 'marcona', 'lat': -15.2155331, 'lon': -75.08303444567473}, {'city': 'siloam springs', 'lat': 36.1881365, 'lon': -94.5404962}, {'city': 'tsihombe', 'lat': -25.318547, 'lon': 45.484057}, {'city': 'bambey', 'lat': 14.69548, 'lon': -16.449262}, {'city': 'hobart', 'lat': -42.8825088, 'lon': 147.3281233}, {'city': 'vaini', 'lat': -21.1925671, 'lon': -175.1772797}, {'city': 'urumqi', 'lat': 43.419754, 'lon': 87.319461}, {'city': 'port alfred', 'lat': -33.5981844, 'lon': 26.8914772}, {'city': 'skagastrond', 'lat': 65.8233244, 'lon': -20.3005642}, {'city': 'port blair', 'lat': 11.6645348, 'lon': 92.7390448}, {'city': 'hithadhoo', 'lat': 1.7959425, 'lon': 73.38755195657038}, {'city': 'dikson', 'lat': 73.5083894, 'lon': 80.5123816}, {'city': 'georgetown', 'lat': -7.9289722, 'lon': -14.4133993}, {'city': 'coquimbo', 'lat': -29.9531928, 'lon': -71.3379884}, {'city': 'thompson', 'lat': 55.743347, 'lon': -97.863464}, {'city': 'rankovce', 'lat': 42.1686201, 'lon': 22.1165518}, {'city': 'dunedin', 'lat': -45.8740984, 'lon': 170.5035755}, {'city': 'busselton', 'lat': -33.644499, 'lon': 115.3488754}, {'city': 'puerto ayora', 'lat': -0.7471674, 'lon': -90.3134198}]\n",
      "<citipy.citipy.City object at 0x7fba2f178430> muscat om\n",
      "[{'city': 'vanimo', 'lat': -2.6847646, 'lon': 141.3009131}, {'city': 'albany', 'lat': -35.0247822, 'lon': 117.883608}, {'city': 'mar del plata', 'lat': -37.9977225, 'lon': -57.5482703}, {'city': 'saint george', 'lat': 32.3763819, 'lon': -64.68926342528714}, {'city': 'jiddah', 'lat': 21.5810088, 'lon': 39.1653612}, {'city': 'butaritari', 'lat': 2.9205375, 'lon': 172.91886331442205}, {'city': 'lebu', 'lat': -37.6099644, 'lon': -73.6559477}, {'city': 'minas', 'lat': -34.3773987, 'lon': -55.2382144}, {'city': 'hilo', 'lat': 19.7073734, 'lon': -155.08158}, {'city': 'butaritari', 'lat': 2.9205375, 'lon': 172.91886331442205}, {'city': 'leningradskiy', 'lat': 54.129108, 'lon': 79.236702}, {'city': 'vardo', 'lat': 70.3308174, 'lon': 30.961751972265887}, {'city': 'illoqqortoormiut', 'lat': 70.4850588, 'lon': -21.9641992}, {'city': 'odweyne', 'lat': 9.40701, 'lon': 45.06358}, {'city': 'chake chake', 'lat': -5.2440346, 'lon': 39.7685075}, {'city': 'bredasdorp', 'lat': -34.533055, 'lon': 20.042778}, {'city': 'jamestown', 'lat': -15.9277296, 'lon': -5.7160872}, {'city': 'punta arenas', 'lat': -53.1625688, 'lon': -70.907822}, {'city': 'rantepao', 'lat': -2.9704575, 'lon': 119.8987167}, {'city': 'wynyard', 'lat': 51.766667, 'lon': -104.183333}, {'city': 'esil', 'lat': 51.9601511, 'lon': 66.4088826}, {'city': 'khandyga', 'lat': 62.6477939, 'lon': 135.5750942}, {'city': 'norman wells', 'lat': 65.282401, 'lon': -126.832725}, {'city': 'attawapiskat', 'lat': 52.9244075, 'lon': -82.4270112}, {'city': 'matay', 'lat': 28.4176905, 'lon': 30.7861579}, {'city': 'novopavlovka', 'lat': 49.113228, 'lon': 41.036873}, {'city': 'nizhneyansk', 'lat': 71.440445, 'lon': 136.130646}, {'city': 'hilo', 'lat': 19.7073734, 'lon': -155.08158}, {'city': 'belushya guba', 'lat': 71.5376984, 'lon': 52.3427343}, {'city': 'bykovo', 'lat': 55.6311596, 'lon': 38.0761816}, {'city': 'mar del plata', 'lat': -37.9977225, 'lon': -57.5482703}, {'city': 'illoqqortoormiut', 'lat': 70.4850588, 'lon': -21.9641992}, {'city': 'busselton', 'lat': -33.644499, 'lon': 115.3488754}, {'city': 'hermanus', 'lat': -34.4175, 'lon': 19.2361111}, {'city': 'umm kaddadah', 'lat': 13.6002208, 'lon': 26.6892786}, {'city': 'qaanaaq', 'lat': 77.4686357, 'lon': -69.2222746}, {'city': 'ushuaia', 'lat': -54.806115899999995, 'lon': -68.3184972880496}, {'city': 'luwuk', 'lat': -0.9528231, 'lon': 122.7880198}, {'city': 'illoqqortoormiut', 'lat': 70.4850588, 'lon': -21.9641992}, {'city': 'punta arenas', 'lat': -53.1625688, 'lon': -70.907822}, {'city': 'hilo', 'lat': 19.7073734, 'lon': -155.08158}, {'city': 'marcona', 'lat': -15.2155331, 'lon': -75.08303444567473}, {'city': 'siloam springs', 'lat': 36.1881365, 'lon': -94.5404962}, {'city': 'tsihombe', 'lat': -25.318547, 'lon': 45.484057}, {'city': 'bambey', 'lat': 14.69548, 'lon': -16.449262}, {'city': 'hobart', 'lat': -42.8825088, 'lon': 147.3281233}, {'city': 'vaini', 'lat': -21.1925671, 'lon': -175.1772797}, {'city': 'urumqi', 'lat': 43.419754, 'lon': 87.319461}, {'city': 'port alfred', 'lat': -33.5981844, 'lon': 26.8914772}, {'city': 'skagastrond', 'lat': 65.8233244, 'lon': -20.3005642}, {'city': 'port blair', 'lat': 11.6645348, 'lon': 92.7390448}, {'city': 'hithadhoo', 'lat': 1.7959425, 'lon': 73.38755195657038}, {'city': 'dikson', 'lat': 73.5083894, 'lon': 80.5123816}, {'city': 'georgetown', 'lat': -7.9289722, 'lon': -14.4133993}, {'city': 'coquimbo', 'lat': -29.9531928, 'lon': -71.3379884}, {'city': 'thompson', 'lat': 55.743347, 'lon': -97.863464}, {'city': 'rankovce', 'lat': 42.1686201, 'lon': 22.1165518}, {'city': 'dunedin', 'lat': -45.8740984, 'lon': 170.5035755}, {'city': 'busselton', 'lat': -33.644499, 'lon': 115.3488754}, {'city': 'puerto ayora', 'lat': -0.7471674, 'lon': -90.3134198}, {'city': 'muscat', 'lat': 23.61515, 'lon': 58.5912467}]\n",
      "<citipy.citipy.City object at 0x7fba2efbba90> cabo san lucas mx\n",
      "[{'city': 'vanimo', 'lat': -2.6847646, 'lon': 141.3009131}, {'city': 'albany', 'lat': -35.0247822, 'lon': 117.883608}, {'city': 'mar del plata', 'lat': -37.9977225, 'lon': -57.5482703}, {'city': 'saint george', 'lat': 32.3763819, 'lon': -64.68926342528714}, {'city': 'jiddah', 'lat': 21.5810088, 'lon': 39.1653612}, {'city': 'butaritari', 'lat': 2.9205375, 'lon': 172.91886331442205}, {'city': 'lebu', 'lat': -37.6099644, 'lon': -73.6559477}, {'city': 'minas', 'lat': -34.3773987, 'lon': -55.2382144}, {'city': 'hilo', 'lat': 19.7073734, 'lon': -155.08158}, {'city': 'butaritari', 'lat': 2.9205375, 'lon': 172.91886331442205}, {'city': 'leningradskiy', 'lat': 54.129108, 'lon': 79.236702}, {'city': 'vardo', 'lat': 70.3308174, 'lon': 30.961751972265887}, {'city': 'illoqqortoormiut', 'lat': 70.4850588, 'lon': -21.9641992}, {'city': 'odweyne', 'lat': 9.40701, 'lon': 45.06358}, {'city': 'chake chake', 'lat': -5.2440346, 'lon': 39.7685075}, {'city': 'bredasdorp', 'lat': -34.533055, 'lon': 20.042778}, {'city': 'jamestown', 'lat': -15.9277296, 'lon': -5.7160872}, {'city': 'punta arenas', 'lat': -53.1625688, 'lon': -70.907822}, {'city': 'rantepao', 'lat': -2.9704575, 'lon': 119.8987167}, {'city': 'wynyard', 'lat': 51.766667, 'lon': -104.183333}, {'city': 'esil', 'lat': 51.9601511, 'lon': 66.4088826}, {'city': 'khandyga', 'lat': 62.6477939, 'lon': 135.5750942}, {'city': 'norman wells', 'lat': 65.282401, 'lon': -126.832725}, {'city': 'attawapiskat', 'lat': 52.9244075, 'lon': -82.4270112}, {'city': 'matay', 'lat': 28.4176905, 'lon': 30.7861579}, {'city': 'novopavlovka', 'lat': 49.113228, 'lon': 41.036873}, {'city': 'nizhneyansk', 'lat': 71.440445, 'lon': 136.130646}, {'city': 'hilo', 'lat': 19.7073734, 'lon': -155.08158}, {'city': 'belushya guba', 'lat': 71.5376984, 'lon': 52.3427343}, {'city': 'bykovo', 'lat': 55.6311596, 'lon': 38.0761816}, {'city': 'mar del plata', 'lat': -37.9977225, 'lon': -57.5482703}, {'city': 'illoqqortoormiut', 'lat': 70.4850588, 'lon': -21.9641992}, {'city': 'busselton', 'lat': -33.644499, 'lon': 115.3488754}, {'city': 'hermanus', 'lat': -34.4175, 'lon': 19.2361111}, {'city': 'umm kaddadah', 'lat': 13.6002208, 'lon': 26.6892786}, {'city': 'qaanaaq', 'lat': 77.4686357, 'lon': -69.2222746}, {'city': 'ushuaia', 'lat': -54.806115899999995, 'lon': -68.3184972880496}, {'city': 'luwuk', 'lat': -0.9528231, 'lon': 122.7880198}, {'city': 'illoqqortoormiut', 'lat': 70.4850588, 'lon': -21.9641992}, {'city': 'punta arenas', 'lat': -53.1625688, 'lon': -70.907822}, {'city': 'hilo', 'lat': 19.7073734, 'lon': -155.08158}, {'city': 'marcona', 'lat': -15.2155331, 'lon': -75.08303444567473}, {'city': 'siloam springs', 'lat': 36.1881365, 'lon': -94.5404962}, {'city': 'tsihombe', 'lat': -25.318547, 'lon': 45.484057}, {'city': 'bambey', 'lat': 14.69548, 'lon': -16.449262}, {'city': 'hobart', 'lat': -42.8825088, 'lon': 147.3281233}, {'city': 'vaini', 'lat': -21.1925671, 'lon': -175.1772797}, {'city': 'urumqi', 'lat': 43.419754, 'lon': 87.319461}, {'city': 'port alfred', 'lat': -33.5981844, 'lon': 26.8914772}, {'city': 'skagastrond', 'lat': 65.8233244, 'lon': -20.3005642}, {'city': 'port blair', 'lat': 11.6645348, 'lon': 92.7390448}, {'city': 'hithadhoo', 'lat': 1.7959425, 'lon': 73.38755195657038}, {'city': 'dikson', 'lat': 73.5083894, 'lon': 80.5123816}, {'city': 'georgetown', 'lat': -7.9289722, 'lon': -14.4133993}, {'city': 'coquimbo', 'lat': -29.9531928, 'lon': -71.3379884}, {'city': 'thompson', 'lat': 55.743347, 'lon': -97.863464}, {'city': 'rankovce', 'lat': 42.1686201, 'lon': 22.1165518}, {'city': 'dunedin', 'lat': -45.8740984, 'lon': 170.5035755}, {'city': 'busselton', 'lat': -33.644499, 'lon': 115.3488754}, {'city': 'puerto ayora', 'lat': -0.7471674, 'lon': -90.3134198}, {'city': 'muscat', 'lat': 23.61515, 'lon': 58.5912467}, {'city': 'cabo san lucas', 'lat': 22.8938884, 'lon': -109.9200604}]\n",
      "<citipy.citipy.City object at 0x7fba2f4b3820> airai pw\n",
      "[{'city': 'vanimo', 'lat': -2.6847646, 'lon': 141.3009131}, {'city': 'albany', 'lat': -35.0247822, 'lon': 117.883608}, {'city': 'mar del plata', 'lat': -37.9977225, 'lon': -57.5482703}, {'city': 'saint george', 'lat': 32.3763819, 'lon': -64.68926342528714}, {'city': 'jiddah', 'lat': 21.5810088, 'lon': 39.1653612}, {'city': 'butaritari', 'lat': 2.9205375, 'lon': 172.91886331442205}, {'city': 'lebu', 'lat': -37.6099644, 'lon': -73.6559477}, {'city': 'minas', 'lat': -34.3773987, 'lon': -55.2382144}, {'city': 'hilo', 'lat': 19.7073734, 'lon': -155.08158}, {'city': 'butaritari', 'lat': 2.9205375, 'lon': 172.91886331442205}, {'city': 'leningradskiy', 'lat': 54.129108, 'lon': 79.236702}, {'city': 'vardo', 'lat': 70.3308174, 'lon': 30.961751972265887}, {'city': 'illoqqortoormiut', 'lat': 70.4850588, 'lon': -21.9641992}, {'city': 'odweyne', 'lat': 9.40701, 'lon': 45.06358}, {'city': 'chake chake', 'lat': -5.2440346, 'lon': 39.7685075}, {'city': 'bredasdorp', 'lat': -34.533055, 'lon': 20.042778}, {'city': 'jamestown', 'lat': -15.9277296, 'lon': -5.7160872}, {'city': 'punta arenas', 'lat': -53.1625688, 'lon': -70.907822}, {'city': 'rantepao', 'lat': -2.9704575, 'lon': 119.8987167}, {'city': 'wynyard', 'lat': 51.766667, 'lon': -104.183333}, {'city': 'esil', 'lat': 51.9601511, 'lon': 66.4088826}, {'city': 'khandyga', 'lat': 62.6477939, 'lon': 135.5750942}, {'city': 'norman wells', 'lat': 65.282401, 'lon': -126.832725}, {'city': 'attawapiskat', 'lat': 52.9244075, 'lon': -82.4270112}, {'city': 'matay', 'lat': 28.4176905, 'lon': 30.7861579}, {'city': 'novopavlovka', 'lat': 49.113228, 'lon': 41.036873}, {'city': 'nizhneyansk', 'lat': 71.440445, 'lon': 136.130646}, {'city': 'hilo', 'lat': 19.7073734, 'lon': -155.08158}, {'city': 'belushya guba', 'lat': 71.5376984, 'lon': 52.3427343}, {'city': 'bykovo', 'lat': 55.6311596, 'lon': 38.0761816}, {'city': 'mar del plata', 'lat': -37.9977225, 'lon': -57.5482703}, {'city': 'illoqqortoormiut', 'lat': 70.4850588, 'lon': -21.9641992}, {'city': 'busselton', 'lat': -33.644499, 'lon': 115.3488754}, {'city': 'hermanus', 'lat': -34.4175, 'lon': 19.2361111}, {'city': 'umm kaddadah', 'lat': 13.6002208, 'lon': 26.6892786}, {'city': 'qaanaaq', 'lat': 77.4686357, 'lon': -69.2222746}, {'city': 'ushuaia', 'lat': -54.806115899999995, 'lon': -68.3184972880496}, {'city': 'luwuk', 'lat': -0.9528231, 'lon': 122.7880198}, {'city': 'illoqqortoormiut', 'lat': 70.4850588, 'lon': -21.9641992}, {'city': 'punta arenas', 'lat': -53.1625688, 'lon': -70.907822}, {'city': 'hilo', 'lat': 19.7073734, 'lon': -155.08158}, {'city': 'marcona', 'lat': -15.2155331, 'lon': -75.08303444567473}, {'city': 'siloam springs', 'lat': 36.1881365, 'lon': -94.5404962}, {'city': 'tsihombe', 'lat': -25.318547, 'lon': 45.484057}, {'city': 'bambey', 'lat': 14.69548, 'lon': -16.449262}, {'city': 'hobart', 'lat': -42.8825088, 'lon': 147.3281233}, {'city': 'vaini', 'lat': -21.1925671, 'lon': -175.1772797}, {'city': 'urumqi', 'lat': 43.419754, 'lon': 87.319461}, {'city': 'port alfred', 'lat': -33.5981844, 'lon': 26.8914772}, {'city': 'skagastrond', 'lat': 65.8233244, 'lon': -20.3005642}, {'city': 'port blair', 'lat': 11.6645348, 'lon': 92.7390448}, {'city': 'hithadhoo', 'lat': 1.7959425, 'lon': 73.38755195657038}, {'city': 'dikson', 'lat': 73.5083894, 'lon': 80.5123816}, {'city': 'georgetown', 'lat': -7.9289722, 'lon': -14.4133993}, {'city': 'coquimbo', 'lat': -29.9531928, 'lon': -71.3379884}, {'city': 'thompson', 'lat': 55.743347, 'lon': -97.863464}, {'city': 'rankovce', 'lat': 42.1686201, 'lon': 22.1165518}, {'city': 'dunedin', 'lat': -45.8740984, 'lon': 170.5035755}, {'city': 'busselton', 'lat': -33.644499, 'lon': 115.3488754}, {'city': 'puerto ayora', 'lat': -0.7471674, 'lon': -90.3134198}, {'city': 'muscat', 'lat': 23.61515, 'lon': 58.5912467}, {'city': 'cabo san lucas', 'lat': 22.8938884, 'lon': -109.9200604}, {'city': 'airai', 'lat': 7.3599342, 'lon': 134.5601154}]\n",
      "<citipy.citipy.City object at 0x7fba2e091030> carnarvon au\n"
     ]
    },
    {
     "name": "stdout",
     "output_type": "stream",
     "text": [
      "[{'city': 'vanimo', 'lat': -2.6847646, 'lon': 141.3009131}, {'city': 'albany', 'lat': -35.0247822, 'lon': 117.883608}, {'city': 'mar del plata', 'lat': -37.9977225, 'lon': -57.5482703}, {'city': 'saint george', 'lat': 32.3763819, 'lon': -64.68926342528714}, {'city': 'jiddah', 'lat': 21.5810088, 'lon': 39.1653612}, {'city': 'butaritari', 'lat': 2.9205375, 'lon': 172.91886331442205}, {'city': 'lebu', 'lat': -37.6099644, 'lon': -73.6559477}, {'city': 'minas', 'lat': -34.3773987, 'lon': -55.2382144}, {'city': 'hilo', 'lat': 19.7073734, 'lon': -155.08158}, {'city': 'butaritari', 'lat': 2.9205375, 'lon': 172.91886331442205}, {'city': 'leningradskiy', 'lat': 54.129108, 'lon': 79.236702}, {'city': 'vardo', 'lat': 70.3308174, 'lon': 30.961751972265887}, {'city': 'illoqqortoormiut', 'lat': 70.4850588, 'lon': -21.9641992}, {'city': 'odweyne', 'lat': 9.40701, 'lon': 45.06358}, {'city': 'chake chake', 'lat': -5.2440346, 'lon': 39.7685075}, {'city': 'bredasdorp', 'lat': -34.533055, 'lon': 20.042778}, {'city': 'jamestown', 'lat': -15.9277296, 'lon': -5.7160872}, {'city': 'punta arenas', 'lat': -53.1625688, 'lon': -70.907822}, {'city': 'rantepao', 'lat': -2.9704575, 'lon': 119.8987167}, {'city': 'wynyard', 'lat': 51.766667, 'lon': -104.183333}, {'city': 'esil', 'lat': 51.9601511, 'lon': 66.4088826}, {'city': 'khandyga', 'lat': 62.6477939, 'lon': 135.5750942}, {'city': 'norman wells', 'lat': 65.282401, 'lon': -126.832725}, {'city': 'attawapiskat', 'lat': 52.9244075, 'lon': -82.4270112}, {'city': 'matay', 'lat': 28.4176905, 'lon': 30.7861579}, {'city': 'novopavlovka', 'lat': 49.113228, 'lon': 41.036873}, {'city': 'nizhneyansk', 'lat': 71.440445, 'lon': 136.130646}, {'city': 'hilo', 'lat': 19.7073734, 'lon': -155.08158}, {'city': 'belushya guba', 'lat': 71.5376984, 'lon': 52.3427343}, {'city': 'bykovo', 'lat': 55.6311596, 'lon': 38.0761816}, {'city': 'mar del plata', 'lat': -37.9977225, 'lon': -57.5482703}, {'city': 'illoqqortoormiut', 'lat': 70.4850588, 'lon': -21.9641992}, {'city': 'busselton', 'lat': -33.644499, 'lon': 115.3488754}, {'city': 'hermanus', 'lat': -34.4175, 'lon': 19.2361111}, {'city': 'umm kaddadah', 'lat': 13.6002208, 'lon': 26.6892786}, {'city': 'qaanaaq', 'lat': 77.4686357, 'lon': -69.2222746}, {'city': 'ushuaia', 'lat': -54.806115899999995, 'lon': -68.3184972880496}, {'city': 'luwuk', 'lat': -0.9528231, 'lon': 122.7880198}, {'city': 'illoqqortoormiut', 'lat': 70.4850588, 'lon': -21.9641992}, {'city': 'punta arenas', 'lat': -53.1625688, 'lon': -70.907822}, {'city': 'hilo', 'lat': 19.7073734, 'lon': -155.08158}, {'city': 'marcona', 'lat': -15.2155331, 'lon': -75.08303444567473}, {'city': 'siloam springs', 'lat': 36.1881365, 'lon': -94.5404962}, {'city': 'tsihombe', 'lat': -25.318547, 'lon': 45.484057}, {'city': 'bambey', 'lat': 14.69548, 'lon': -16.449262}, {'city': 'hobart', 'lat': -42.8825088, 'lon': 147.3281233}, {'city': 'vaini', 'lat': -21.1925671, 'lon': -175.1772797}, {'city': 'urumqi', 'lat': 43.419754, 'lon': 87.319461}, {'city': 'port alfred', 'lat': -33.5981844, 'lon': 26.8914772}, {'city': 'skagastrond', 'lat': 65.8233244, 'lon': -20.3005642}, {'city': 'port blair', 'lat': 11.6645348, 'lon': 92.7390448}, {'city': 'hithadhoo', 'lat': 1.7959425, 'lon': 73.38755195657038}, {'city': 'dikson', 'lat': 73.5083894, 'lon': 80.5123816}, {'city': 'georgetown', 'lat': -7.9289722, 'lon': -14.4133993}, {'city': 'coquimbo', 'lat': -29.9531928, 'lon': -71.3379884}, {'city': 'thompson', 'lat': 55.743347, 'lon': -97.863464}, {'city': 'rankovce', 'lat': 42.1686201, 'lon': 22.1165518}, {'city': 'dunedin', 'lat': -45.8740984, 'lon': 170.5035755}, {'city': 'busselton', 'lat': -33.644499, 'lon': 115.3488754}, {'city': 'puerto ayora', 'lat': -0.7471674, 'lon': -90.3134198}, {'city': 'muscat', 'lat': 23.61515, 'lon': 58.5912467}, {'city': 'cabo san lucas', 'lat': 22.8938884, 'lon': -109.9200604}, {'city': 'airai', 'lat': 7.3599342, 'lon': 134.5601154}, {'city': 'carnarvon', 'lat': -24.8826131, 'lon': 113.6576486}]\n",
      "<citipy.citipy.City object at 0x7fba2e2f92a0> quesnel ca\n",
      "[{'city': 'vanimo', 'lat': -2.6847646, 'lon': 141.3009131}, {'city': 'albany', 'lat': -35.0247822, 'lon': 117.883608}, {'city': 'mar del plata', 'lat': -37.9977225, 'lon': -57.5482703}, {'city': 'saint george', 'lat': 32.3763819, 'lon': -64.68926342528714}, {'city': 'jiddah', 'lat': 21.5810088, 'lon': 39.1653612}, {'city': 'butaritari', 'lat': 2.9205375, 'lon': 172.91886331442205}, {'city': 'lebu', 'lat': -37.6099644, 'lon': -73.6559477}, {'city': 'minas', 'lat': -34.3773987, 'lon': -55.2382144}, {'city': 'hilo', 'lat': 19.7073734, 'lon': -155.08158}, {'city': 'butaritari', 'lat': 2.9205375, 'lon': 172.91886331442205}, {'city': 'leningradskiy', 'lat': 54.129108, 'lon': 79.236702}, {'city': 'vardo', 'lat': 70.3308174, 'lon': 30.961751972265887}, {'city': 'illoqqortoormiut', 'lat': 70.4850588, 'lon': -21.9641992}, {'city': 'odweyne', 'lat': 9.40701, 'lon': 45.06358}, {'city': 'chake chake', 'lat': -5.2440346, 'lon': 39.7685075}, {'city': 'bredasdorp', 'lat': -34.533055, 'lon': 20.042778}, {'city': 'jamestown', 'lat': -15.9277296, 'lon': -5.7160872}, {'city': 'punta arenas', 'lat': -53.1625688, 'lon': -70.907822}, {'city': 'rantepao', 'lat': -2.9704575, 'lon': 119.8987167}, {'city': 'wynyard', 'lat': 51.766667, 'lon': -104.183333}, {'city': 'esil', 'lat': 51.9601511, 'lon': 66.4088826}, {'city': 'khandyga', 'lat': 62.6477939, 'lon': 135.5750942}, {'city': 'norman wells', 'lat': 65.282401, 'lon': -126.832725}, {'city': 'attawapiskat', 'lat': 52.9244075, 'lon': -82.4270112}, {'city': 'matay', 'lat': 28.4176905, 'lon': 30.7861579}, {'city': 'novopavlovka', 'lat': 49.113228, 'lon': 41.036873}, {'city': 'nizhneyansk', 'lat': 71.440445, 'lon': 136.130646}, {'city': 'hilo', 'lat': 19.7073734, 'lon': -155.08158}, {'city': 'belushya guba', 'lat': 71.5376984, 'lon': 52.3427343}, {'city': 'bykovo', 'lat': 55.6311596, 'lon': 38.0761816}, {'city': 'mar del plata', 'lat': -37.9977225, 'lon': -57.5482703}, {'city': 'illoqqortoormiut', 'lat': 70.4850588, 'lon': -21.9641992}, {'city': 'busselton', 'lat': -33.644499, 'lon': 115.3488754}, {'city': 'hermanus', 'lat': -34.4175, 'lon': 19.2361111}, {'city': 'umm kaddadah', 'lat': 13.6002208, 'lon': 26.6892786}, {'city': 'qaanaaq', 'lat': 77.4686357, 'lon': -69.2222746}, {'city': 'ushuaia', 'lat': -54.806115899999995, 'lon': -68.3184972880496}, {'city': 'luwuk', 'lat': -0.9528231, 'lon': 122.7880198}, {'city': 'illoqqortoormiut', 'lat': 70.4850588, 'lon': -21.9641992}, {'city': 'punta arenas', 'lat': -53.1625688, 'lon': -70.907822}, {'city': 'hilo', 'lat': 19.7073734, 'lon': -155.08158}, {'city': 'marcona', 'lat': -15.2155331, 'lon': -75.08303444567473}, {'city': 'siloam springs', 'lat': 36.1881365, 'lon': -94.5404962}, {'city': 'tsihombe', 'lat': -25.318547, 'lon': 45.484057}, {'city': 'bambey', 'lat': 14.69548, 'lon': -16.449262}, {'city': 'hobart', 'lat': -42.8825088, 'lon': 147.3281233}, {'city': 'vaini', 'lat': -21.1925671, 'lon': -175.1772797}, {'city': 'urumqi', 'lat': 43.419754, 'lon': 87.319461}, {'city': 'port alfred', 'lat': -33.5981844, 'lon': 26.8914772}, {'city': 'skagastrond', 'lat': 65.8233244, 'lon': -20.3005642}, {'city': 'port blair', 'lat': 11.6645348, 'lon': 92.7390448}, {'city': 'hithadhoo', 'lat': 1.7959425, 'lon': 73.38755195657038}, {'city': 'dikson', 'lat': 73.5083894, 'lon': 80.5123816}, {'city': 'georgetown', 'lat': -7.9289722, 'lon': -14.4133993}, {'city': 'coquimbo', 'lat': -29.9531928, 'lon': -71.3379884}, {'city': 'thompson', 'lat': 55.743347, 'lon': -97.863464}, {'city': 'rankovce', 'lat': 42.1686201, 'lon': 22.1165518}, {'city': 'dunedin', 'lat': -45.8740984, 'lon': 170.5035755}, {'city': 'busselton', 'lat': -33.644499, 'lon': 115.3488754}, {'city': 'puerto ayora', 'lat': -0.7471674, 'lon': -90.3134198}, {'city': 'muscat', 'lat': 23.61515, 'lon': 58.5912467}, {'city': 'cabo san lucas', 'lat': 22.8938884, 'lon': -109.9200604}, {'city': 'airai', 'lat': 7.3599342, 'lon': 134.5601154}, {'city': 'carnarvon', 'lat': -24.8826131, 'lon': 113.6576486}, {'city': 'quesnel', 'lat': 52.9794279, 'lon': -122.493627}]\n",
      "<citipy.citipy.City object at 0x7fba2ea50ee0> langsa id\n",
      "[{'city': 'vanimo', 'lat': -2.6847646, 'lon': 141.3009131}, {'city': 'albany', 'lat': -35.0247822, 'lon': 117.883608}, {'city': 'mar del plata', 'lat': -37.9977225, 'lon': -57.5482703}, {'city': 'saint george', 'lat': 32.3763819, 'lon': -64.68926342528714}, {'city': 'jiddah', 'lat': 21.5810088, 'lon': 39.1653612}, {'city': 'butaritari', 'lat': 2.9205375, 'lon': 172.91886331442205}, {'city': 'lebu', 'lat': -37.6099644, 'lon': -73.6559477}, {'city': 'minas', 'lat': -34.3773987, 'lon': -55.2382144}, {'city': 'hilo', 'lat': 19.7073734, 'lon': -155.08158}, {'city': 'butaritari', 'lat': 2.9205375, 'lon': 172.91886331442205}, {'city': 'leningradskiy', 'lat': 54.129108, 'lon': 79.236702}, {'city': 'vardo', 'lat': 70.3308174, 'lon': 30.961751972265887}, {'city': 'illoqqortoormiut', 'lat': 70.4850588, 'lon': -21.9641992}, {'city': 'odweyne', 'lat': 9.40701, 'lon': 45.06358}, {'city': 'chake chake', 'lat': -5.2440346, 'lon': 39.7685075}, {'city': 'bredasdorp', 'lat': -34.533055, 'lon': 20.042778}, {'city': 'jamestown', 'lat': -15.9277296, 'lon': -5.7160872}, {'city': 'punta arenas', 'lat': -53.1625688, 'lon': -70.907822}, {'city': 'rantepao', 'lat': -2.9704575, 'lon': 119.8987167}, {'city': 'wynyard', 'lat': 51.766667, 'lon': -104.183333}, {'city': 'esil', 'lat': 51.9601511, 'lon': 66.4088826}, {'city': 'khandyga', 'lat': 62.6477939, 'lon': 135.5750942}, {'city': 'norman wells', 'lat': 65.282401, 'lon': -126.832725}, {'city': 'attawapiskat', 'lat': 52.9244075, 'lon': -82.4270112}, {'city': 'matay', 'lat': 28.4176905, 'lon': 30.7861579}, {'city': 'novopavlovka', 'lat': 49.113228, 'lon': 41.036873}, {'city': 'nizhneyansk', 'lat': 71.440445, 'lon': 136.130646}, {'city': 'hilo', 'lat': 19.7073734, 'lon': -155.08158}, {'city': 'belushya guba', 'lat': 71.5376984, 'lon': 52.3427343}, {'city': 'bykovo', 'lat': 55.6311596, 'lon': 38.0761816}, {'city': 'mar del plata', 'lat': -37.9977225, 'lon': -57.5482703}, {'city': 'illoqqortoormiut', 'lat': 70.4850588, 'lon': -21.9641992}, {'city': 'busselton', 'lat': -33.644499, 'lon': 115.3488754}, {'city': 'hermanus', 'lat': -34.4175, 'lon': 19.2361111}, {'city': 'umm kaddadah', 'lat': 13.6002208, 'lon': 26.6892786}, {'city': 'qaanaaq', 'lat': 77.4686357, 'lon': -69.2222746}, {'city': 'ushuaia', 'lat': -54.806115899999995, 'lon': -68.3184972880496}, {'city': 'luwuk', 'lat': -0.9528231, 'lon': 122.7880198}, {'city': 'illoqqortoormiut', 'lat': 70.4850588, 'lon': -21.9641992}, {'city': 'punta arenas', 'lat': -53.1625688, 'lon': -70.907822}, {'city': 'hilo', 'lat': 19.7073734, 'lon': -155.08158}, {'city': 'marcona', 'lat': -15.2155331, 'lon': -75.08303444567473}, {'city': 'siloam springs', 'lat': 36.1881365, 'lon': -94.5404962}, {'city': 'tsihombe', 'lat': -25.318547, 'lon': 45.484057}, {'city': 'bambey', 'lat': 14.69548, 'lon': -16.449262}, {'city': 'hobart', 'lat': -42.8825088, 'lon': 147.3281233}, {'city': 'vaini', 'lat': -21.1925671, 'lon': -175.1772797}, {'city': 'urumqi', 'lat': 43.419754, 'lon': 87.319461}, {'city': 'port alfred', 'lat': -33.5981844, 'lon': 26.8914772}, {'city': 'skagastrond', 'lat': 65.8233244, 'lon': -20.3005642}, {'city': 'port blair', 'lat': 11.6645348, 'lon': 92.7390448}, {'city': 'hithadhoo', 'lat': 1.7959425, 'lon': 73.38755195657038}, {'city': 'dikson', 'lat': 73.5083894, 'lon': 80.5123816}, {'city': 'georgetown', 'lat': -7.9289722, 'lon': -14.4133993}, {'city': 'coquimbo', 'lat': -29.9531928, 'lon': -71.3379884}, {'city': 'thompson', 'lat': 55.743347, 'lon': -97.863464}, {'city': 'rankovce', 'lat': 42.1686201, 'lon': 22.1165518}, {'city': 'dunedin', 'lat': -45.8740984, 'lon': 170.5035755}, {'city': 'busselton', 'lat': -33.644499, 'lon': 115.3488754}, {'city': 'puerto ayora', 'lat': -0.7471674, 'lon': -90.3134198}, {'city': 'muscat', 'lat': 23.61515, 'lon': 58.5912467}, {'city': 'cabo san lucas', 'lat': 22.8938884, 'lon': -109.9200604}, {'city': 'airai', 'lat': 7.3599342, 'lon': 134.5601154}, {'city': 'carnarvon', 'lat': -24.8826131, 'lon': 113.6576486}, {'city': 'quesnel', 'lat': 52.9794279, 'lon': -122.493627}, {'city': 'langsa', 'lat': 4.4730892, 'lon': 97.9681841}]\n",
      "<citipy.citipy.City object at 0x7fba2f8867a0> srednekolymsk ru\n",
      "[{'city': 'vanimo', 'lat': -2.6847646, 'lon': 141.3009131}, {'city': 'albany', 'lat': -35.0247822, 'lon': 117.883608}, {'city': 'mar del plata', 'lat': -37.9977225, 'lon': -57.5482703}, {'city': 'saint george', 'lat': 32.3763819, 'lon': -64.68926342528714}, {'city': 'jiddah', 'lat': 21.5810088, 'lon': 39.1653612}, {'city': 'butaritari', 'lat': 2.9205375, 'lon': 172.91886331442205}, {'city': 'lebu', 'lat': -37.6099644, 'lon': -73.6559477}, {'city': 'minas', 'lat': -34.3773987, 'lon': -55.2382144}, {'city': 'hilo', 'lat': 19.7073734, 'lon': -155.08158}, {'city': 'butaritari', 'lat': 2.9205375, 'lon': 172.91886331442205}, {'city': 'leningradskiy', 'lat': 54.129108, 'lon': 79.236702}, {'city': 'vardo', 'lat': 70.3308174, 'lon': 30.961751972265887}, {'city': 'illoqqortoormiut', 'lat': 70.4850588, 'lon': -21.9641992}, {'city': 'odweyne', 'lat': 9.40701, 'lon': 45.06358}, {'city': 'chake chake', 'lat': -5.2440346, 'lon': 39.7685075}, {'city': 'bredasdorp', 'lat': -34.533055, 'lon': 20.042778}, {'city': 'jamestown', 'lat': -15.9277296, 'lon': -5.7160872}, {'city': 'punta arenas', 'lat': -53.1625688, 'lon': -70.907822}, {'city': 'rantepao', 'lat': -2.9704575, 'lon': 119.8987167}, {'city': 'wynyard', 'lat': 51.766667, 'lon': -104.183333}, {'city': 'esil', 'lat': 51.9601511, 'lon': 66.4088826}, {'city': 'khandyga', 'lat': 62.6477939, 'lon': 135.5750942}, {'city': 'norman wells', 'lat': 65.282401, 'lon': -126.832725}, {'city': 'attawapiskat', 'lat': 52.9244075, 'lon': -82.4270112}, {'city': 'matay', 'lat': 28.4176905, 'lon': 30.7861579}, {'city': 'novopavlovka', 'lat': 49.113228, 'lon': 41.036873}, {'city': 'nizhneyansk', 'lat': 71.440445, 'lon': 136.130646}, {'city': 'hilo', 'lat': 19.7073734, 'lon': -155.08158}, {'city': 'belushya guba', 'lat': 71.5376984, 'lon': 52.3427343}, {'city': 'bykovo', 'lat': 55.6311596, 'lon': 38.0761816}, {'city': 'mar del plata', 'lat': -37.9977225, 'lon': -57.5482703}, {'city': 'illoqqortoormiut', 'lat': 70.4850588, 'lon': -21.9641992}, {'city': 'busselton', 'lat': -33.644499, 'lon': 115.3488754}, {'city': 'hermanus', 'lat': -34.4175, 'lon': 19.2361111}, {'city': 'umm kaddadah', 'lat': 13.6002208, 'lon': 26.6892786}, {'city': 'qaanaaq', 'lat': 77.4686357, 'lon': -69.2222746}, {'city': 'ushuaia', 'lat': -54.806115899999995, 'lon': -68.3184972880496}, {'city': 'luwuk', 'lat': -0.9528231, 'lon': 122.7880198}, {'city': 'illoqqortoormiut', 'lat': 70.4850588, 'lon': -21.9641992}, {'city': 'punta arenas', 'lat': -53.1625688, 'lon': -70.907822}, {'city': 'hilo', 'lat': 19.7073734, 'lon': -155.08158}, {'city': 'marcona', 'lat': -15.2155331, 'lon': -75.08303444567473}, {'city': 'siloam springs', 'lat': 36.1881365, 'lon': -94.5404962}, {'city': 'tsihombe', 'lat': -25.318547, 'lon': 45.484057}, {'city': 'bambey', 'lat': 14.69548, 'lon': -16.449262}, {'city': 'hobart', 'lat': -42.8825088, 'lon': 147.3281233}, {'city': 'vaini', 'lat': -21.1925671, 'lon': -175.1772797}, {'city': 'urumqi', 'lat': 43.419754, 'lon': 87.319461}, {'city': 'port alfred', 'lat': -33.5981844, 'lon': 26.8914772}, {'city': 'skagastrond', 'lat': 65.8233244, 'lon': -20.3005642}, {'city': 'port blair', 'lat': 11.6645348, 'lon': 92.7390448}, {'city': 'hithadhoo', 'lat': 1.7959425, 'lon': 73.38755195657038}, {'city': 'dikson', 'lat': 73.5083894, 'lon': 80.5123816}, {'city': 'georgetown', 'lat': -7.9289722, 'lon': -14.4133993}, {'city': 'coquimbo', 'lat': -29.9531928, 'lon': -71.3379884}, {'city': 'thompson', 'lat': 55.743347, 'lon': -97.863464}, {'city': 'rankovce', 'lat': 42.1686201, 'lon': 22.1165518}, {'city': 'dunedin', 'lat': -45.8740984, 'lon': 170.5035755}, {'city': 'busselton', 'lat': -33.644499, 'lon': 115.3488754}, {'city': 'puerto ayora', 'lat': -0.7471674, 'lon': -90.3134198}, {'city': 'muscat', 'lat': 23.61515, 'lon': 58.5912467}, {'city': 'cabo san lucas', 'lat': 22.8938884, 'lon': -109.9200604}, {'city': 'airai', 'lat': 7.3599342, 'lon': 134.5601154}, {'city': 'carnarvon', 'lat': -24.8826131, 'lon': 113.6576486}, {'city': 'quesnel', 'lat': 52.9794279, 'lon': -122.493627}, {'city': 'langsa', 'lat': 4.4730892, 'lon': 97.9681841}, {'city': 'srednekolymsk', 'lat': 67.455497, 'lon': 153.7071456}]\n",
      "<citipy.citipy.City object at 0x7fba2e158160> saint george bm\n",
      "[{'city': 'vanimo', 'lat': -2.6847646, 'lon': 141.3009131}, {'city': 'albany', 'lat': -35.0247822, 'lon': 117.883608}, {'city': 'mar del plata', 'lat': -37.9977225, 'lon': -57.5482703}, {'city': 'saint george', 'lat': 32.3763819, 'lon': -64.68926342528714}, {'city': 'jiddah', 'lat': 21.5810088, 'lon': 39.1653612}, {'city': 'butaritari', 'lat': 2.9205375, 'lon': 172.91886331442205}, {'city': 'lebu', 'lat': -37.6099644, 'lon': -73.6559477}, {'city': 'minas', 'lat': -34.3773987, 'lon': -55.2382144}, {'city': 'hilo', 'lat': 19.7073734, 'lon': -155.08158}, {'city': 'butaritari', 'lat': 2.9205375, 'lon': 172.91886331442205}, {'city': 'leningradskiy', 'lat': 54.129108, 'lon': 79.236702}, {'city': 'vardo', 'lat': 70.3308174, 'lon': 30.961751972265887}, {'city': 'illoqqortoormiut', 'lat': 70.4850588, 'lon': -21.9641992}, {'city': 'odweyne', 'lat': 9.40701, 'lon': 45.06358}, {'city': 'chake chake', 'lat': -5.2440346, 'lon': 39.7685075}, {'city': 'bredasdorp', 'lat': -34.533055, 'lon': 20.042778}, {'city': 'jamestown', 'lat': -15.9277296, 'lon': -5.7160872}, {'city': 'punta arenas', 'lat': -53.1625688, 'lon': -70.907822}, {'city': 'rantepao', 'lat': -2.9704575, 'lon': 119.8987167}, {'city': 'wynyard', 'lat': 51.766667, 'lon': -104.183333}, {'city': 'esil', 'lat': 51.9601511, 'lon': 66.4088826}, {'city': 'khandyga', 'lat': 62.6477939, 'lon': 135.5750942}, {'city': 'norman wells', 'lat': 65.282401, 'lon': -126.832725}, {'city': 'attawapiskat', 'lat': 52.9244075, 'lon': -82.4270112}, {'city': 'matay', 'lat': 28.4176905, 'lon': 30.7861579}, {'city': 'novopavlovka', 'lat': 49.113228, 'lon': 41.036873}, {'city': 'nizhneyansk', 'lat': 71.440445, 'lon': 136.130646}, {'city': 'hilo', 'lat': 19.7073734, 'lon': -155.08158}, {'city': 'belushya guba', 'lat': 71.5376984, 'lon': 52.3427343}, {'city': 'bykovo', 'lat': 55.6311596, 'lon': 38.0761816}, {'city': 'mar del plata', 'lat': -37.9977225, 'lon': -57.5482703}, {'city': 'illoqqortoormiut', 'lat': 70.4850588, 'lon': -21.9641992}, {'city': 'busselton', 'lat': -33.644499, 'lon': 115.3488754}, {'city': 'hermanus', 'lat': -34.4175, 'lon': 19.2361111}, {'city': 'umm kaddadah', 'lat': 13.6002208, 'lon': 26.6892786}, {'city': 'qaanaaq', 'lat': 77.4686357, 'lon': -69.2222746}, {'city': 'ushuaia', 'lat': -54.806115899999995, 'lon': -68.3184972880496}, {'city': 'luwuk', 'lat': -0.9528231, 'lon': 122.7880198}, {'city': 'illoqqortoormiut', 'lat': 70.4850588, 'lon': -21.9641992}, {'city': 'punta arenas', 'lat': -53.1625688, 'lon': -70.907822}, {'city': 'hilo', 'lat': 19.7073734, 'lon': -155.08158}, {'city': 'marcona', 'lat': -15.2155331, 'lon': -75.08303444567473}, {'city': 'siloam springs', 'lat': 36.1881365, 'lon': -94.5404962}, {'city': 'tsihombe', 'lat': -25.318547, 'lon': 45.484057}, {'city': 'bambey', 'lat': 14.69548, 'lon': -16.449262}, {'city': 'hobart', 'lat': -42.8825088, 'lon': 147.3281233}, {'city': 'vaini', 'lat': -21.1925671, 'lon': -175.1772797}, {'city': 'urumqi', 'lat': 43.419754, 'lon': 87.319461}, {'city': 'port alfred', 'lat': -33.5981844, 'lon': 26.8914772}, {'city': 'skagastrond', 'lat': 65.8233244, 'lon': -20.3005642}, {'city': 'port blair', 'lat': 11.6645348, 'lon': 92.7390448}, {'city': 'hithadhoo', 'lat': 1.7959425, 'lon': 73.38755195657038}, {'city': 'dikson', 'lat': 73.5083894, 'lon': 80.5123816}, {'city': 'georgetown', 'lat': -7.9289722, 'lon': -14.4133993}, {'city': 'coquimbo', 'lat': -29.9531928, 'lon': -71.3379884}, {'city': 'thompson', 'lat': 55.743347, 'lon': -97.863464}, {'city': 'rankovce', 'lat': 42.1686201, 'lon': 22.1165518}, {'city': 'dunedin', 'lat': -45.8740984, 'lon': 170.5035755}, {'city': 'busselton', 'lat': -33.644499, 'lon': 115.3488754}, {'city': 'puerto ayora', 'lat': -0.7471674, 'lon': -90.3134198}, {'city': 'muscat', 'lat': 23.61515, 'lon': 58.5912467}, {'city': 'cabo san lucas', 'lat': 22.8938884, 'lon': -109.9200604}, {'city': 'airai', 'lat': 7.3599342, 'lon': 134.5601154}, {'city': 'carnarvon', 'lat': -24.8826131, 'lon': 113.6576486}, {'city': 'quesnel', 'lat': 52.9794279, 'lon': -122.493627}, {'city': 'langsa', 'lat': 4.4730892, 'lon': 97.9681841}, {'city': 'srednekolymsk', 'lat': 67.455497, 'lon': 153.7071456}, {'city': 'saint george', 'lat': 32.3763819, 'lon': -64.68926342528714}]\n",
      "<citipy.citipy.City object at 0x7fba2e092860> hobart au\n",
      "[{'city': 'vanimo', 'lat': -2.6847646, 'lon': 141.3009131}, {'city': 'albany', 'lat': -35.0247822, 'lon': 117.883608}, {'city': 'mar del plata', 'lat': -37.9977225, 'lon': -57.5482703}, {'city': 'saint george', 'lat': 32.3763819, 'lon': -64.68926342528714}, {'city': 'jiddah', 'lat': 21.5810088, 'lon': 39.1653612}, {'city': 'butaritari', 'lat': 2.9205375, 'lon': 172.91886331442205}, {'city': 'lebu', 'lat': -37.6099644, 'lon': -73.6559477}, {'city': 'minas', 'lat': -34.3773987, 'lon': -55.2382144}, {'city': 'hilo', 'lat': 19.7073734, 'lon': -155.08158}, {'city': 'butaritari', 'lat': 2.9205375, 'lon': 172.91886331442205}, {'city': 'leningradskiy', 'lat': 54.129108, 'lon': 79.236702}, {'city': 'vardo', 'lat': 70.3308174, 'lon': 30.961751972265887}, {'city': 'illoqqortoormiut', 'lat': 70.4850588, 'lon': -21.9641992}, {'city': 'odweyne', 'lat': 9.40701, 'lon': 45.06358}, {'city': 'chake chake', 'lat': -5.2440346, 'lon': 39.7685075}, {'city': 'bredasdorp', 'lat': -34.533055, 'lon': 20.042778}, {'city': 'jamestown', 'lat': -15.9277296, 'lon': -5.7160872}, {'city': 'punta arenas', 'lat': -53.1625688, 'lon': -70.907822}, {'city': 'rantepao', 'lat': -2.9704575, 'lon': 119.8987167}, {'city': 'wynyard', 'lat': 51.766667, 'lon': -104.183333}, {'city': 'esil', 'lat': 51.9601511, 'lon': 66.4088826}, {'city': 'khandyga', 'lat': 62.6477939, 'lon': 135.5750942}, {'city': 'norman wells', 'lat': 65.282401, 'lon': -126.832725}, {'city': 'attawapiskat', 'lat': 52.9244075, 'lon': -82.4270112}, {'city': 'matay', 'lat': 28.4176905, 'lon': 30.7861579}, {'city': 'novopavlovka', 'lat': 49.113228, 'lon': 41.036873}, {'city': 'nizhneyansk', 'lat': 71.440445, 'lon': 136.130646}, {'city': 'hilo', 'lat': 19.7073734, 'lon': -155.08158}, {'city': 'belushya guba', 'lat': 71.5376984, 'lon': 52.3427343}, {'city': 'bykovo', 'lat': 55.6311596, 'lon': 38.0761816}, {'city': 'mar del plata', 'lat': -37.9977225, 'lon': -57.5482703}, {'city': 'illoqqortoormiut', 'lat': 70.4850588, 'lon': -21.9641992}, {'city': 'busselton', 'lat': -33.644499, 'lon': 115.3488754}, {'city': 'hermanus', 'lat': -34.4175, 'lon': 19.2361111}, {'city': 'umm kaddadah', 'lat': 13.6002208, 'lon': 26.6892786}, {'city': 'qaanaaq', 'lat': 77.4686357, 'lon': -69.2222746}, {'city': 'ushuaia', 'lat': -54.806115899999995, 'lon': -68.3184972880496}, {'city': 'luwuk', 'lat': -0.9528231, 'lon': 122.7880198}, {'city': 'illoqqortoormiut', 'lat': 70.4850588, 'lon': -21.9641992}, {'city': 'punta arenas', 'lat': -53.1625688, 'lon': -70.907822}, {'city': 'hilo', 'lat': 19.7073734, 'lon': -155.08158}, {'city': 'marcona', 'lat': -15.2155331, 'lon': -75.08303444567473}, {'city': 'siloam springs', 'lat': 36.1881365, 'lon': -94.5404962}, {'city': 'tsihombe', 'lat': -25.318547, 'lon': 45.484057}, {'city': 'bambey', 'lat': 14.69548, 'lon': -16.449262}, {'city': 'hobart', 'lat': -42.8825088, 'lon': 147.3281233}, {'city': 'vaini', 'lat': -21.1925671, 'lon': -175.1772797}, {'city': 'urumqi', 'lat': 43.419754, 'lon': 87.319461}, {'city': 'port alfred', 'lat': -33.5981844, 'lon': 26.8914772}, {'city': 'skagastrond', 'lat': 65.8233244, 'lon': -20.3005642}, {'city': 'port blair', 'lat': 11.6645348, 'lon': 92.7390448}, {'city': 'hithadhoo', 'lat': 1.7959425, 'lon': 73.38755195657038}, {'city': 'dikson', 'lat': 73.5083894, 'lon': 80.5123816}, {'city': 'georgetown', 'lat': -7.9289722, 'lon': -14.4133993}, {'city': 'coquimbo', 'lat': -29.9531928, 'lon': -71.3379884}, {'city': 'thompson', 'lat': 55.743347, 'lon': -97.863464}, {'city': 'rankovce', 'lat': 42.1686201, 'lon': 22.1165518}, {'city': 'dunedin', 'lat': -45.8740984, 'lon': 170.5035755}, {'city': 'busselton', 'lat': -33.644499, 'lon': 115.3488754}, {'city': 'puerto ayora', 'lat': -0.7471674, 'lon': -90.3134198}, {'city': 'muscat', 'lat': 23.61515, 'lon': 58.5912467}, {'city': 'cabo san lucas', 'lat': 22.8938884, 'lon': -109.9200604}, {'city': 'airai', 'lat': 7.3599342, 'lon': 134.5601154}, {'city': 'carnarvon', 'lat': -24.8826131, 'lon': 113.6576486}, {'city': 'quesnel', 'lat': 52.9794279, 'lon': -122.493627}, {'city': 'langsa', 'lat': 4.4730892, 'lon': 97.9681841}, {'city': 'srednekolymsk', 'lat': 67.455497, 'lon': 153.7071456}, {'city': 'saint george', 'lat': 32.3763819, 'lon': -64.68926342528714}, {'city': 'hobart', 'lat': -42.8825088, 'lon': 147.3281233}]\n",
      "<citipy.citipy.City object at 0x7fba2bb7ae30> codrington ag\n"
     ]
    },
    {
     "name": "stdout",
     "output_type": "stream",
     "text": [
      "[{'city': 'vanimo', 'lat': -2.6847646, 'lon': 141.3009131}, {'city': 'albany', 'lat': -35.0247822, 'lon': 117.883608}, {'city': 'mar del plata', 'lat': -37.9977225, 'lon': -57.5482703}, {'city': 'saint george', 'lat': 32.3763819, 'lon': -64.68926342528714}, {'city': 'jiddah', 'lat': 21.5810088, 'lon': 39.1653612}, {'city': 'butaritari', 'lat': 2.9205375, 'lon': 172.91886331442205}, {'city': 'lebu', 'lat': -37.6099644, 'lon': -73.6559477}, {'city': 'minas', 'lat': -34.3773987, 'lon': -55.2382144}, {'city': 'hilo', 'lat': 19.7073734, 'lon': -155.08158}, {'city': 'butaritari', 'lat': 2.9205375, 'lon': 172.91886331442205}, {'city': 'leningradskiy', 'lat': 54.129108, 'lon': 79.236702}, {'city': 'vardo', 'lat': 70.3308174, 'lon': 30.961751972265887}, {'city': 'illoqqortoormiut', 'lat': 70.4850588, 'lon': -21.9641992}, {'city': 'odweyne', 'lat': 9.40701, 'lon': 45.06358}, {'city': 'chake chake', 'lat': -5.2440346, 'lon': 39.7685075}, {'city': 'bredasdorp', 'lat': -34.533055, 'lon': 20.042778}, {'city': 'jamestown', 'lat': -15.9277296, 'lon': -5.7160872}, {'city': 'punta arenas', 'lat': -53.1625688, 'lon': -70.907822}, {'city': 'rantepao', 'lat': -2.9704575, 'lon': 119.8987167}, {'city': 'wynyard', 'lat': 51.766667, 'lon': -104.183333}, {'city': 'esil', 'lat': 51.9601511, 'lon': 66.4088826}, {'city': 'khandyga', 'lat': 62.6477939, 'lon': 135.5750942}, {'city': 'norman wells', 'lat': 65.282401, 'lon': -126.832725}, {'city': 'attawapiskat', 'lat': 52.9244075, 'lon': -82.4270112}, {'city': 'matay', 'lat': 28.4176905, 'lon': 30.7861579}, {'city': 'novopavlovka', 'lat': 49.113228, 'lon': 41.036873}, {'city': 'nizhneyansk', 'lat': 71.440445, 'lon': 136.130646}, {'city': 'hilo', 'lat': 19.7073734, 'lon': -155.08158}, {'city': 'belushya guba', 'lat': 71.5376984, 'lon': 52.3427343}, {'city': 'bykovo', 'lat': 55.6311596, 'lon': 38.0761816}, {'city': 'mar del plata', 'lat': -37.9977225, 'lon': -57.5482703}, {'city': 'illoqqortoormiut', 'lat': 70.4850588, 'lon': -21.9641992}, {'city': 'busselton', 'lat': -33.644499, 'lon': 115.3488754}, {'city': 'hermanus', 'lat': -34.4175, 'lon': 19.2361111}, {'city': 'umm kaddadah', 'lat': 13.6002208, 'lon': 26.6892786}, {'city': 'qaanaaq', 'lat': 77.4686357, 'lon': -69.2222746}, {'city': 'ushuaia', 'lat': -54.806115899999995, 'lon': -68.3184972880496}, {'city': 'luwuk', 'lat': -0.9528231, 'lon': 122.7880198}, {'city': 'illoqqortoormiut', 'lat': 70.4850588, 'lon': -21.9641992}, {'city': 'punta arenas', 'lat': -53.1625688, 'lon': -70.907822}, {'city': 'hilo', 'lat': 19.7073734, 'lon': -155.08158}, {'city': 'marcona', 'lat': -15.2155331, 'lon': -75.08303444567473}, {'city': 'siloam springs', 'lat': 36.1881365, 'lon': -94.5404962}, {'city': 'tsihombe', 'lat': -25.318547, 'lon': 45.484057}, {'city': 'bambey', 'lat': 14.69548, 'lon': -16.449262}, {'city': 'hobart', 'lat': -42.8825088, 'lon': 147.3281233}, {'city': 'vaini', 'lat': -21.1925671, 'lon': -175.1772797}, {'city': 'urumqi', 'lat': 43.419754, 'lon': 87.319461}, {'city': 'port alfred', 'lat': -33.5981844, 'lon': 26.8914772}, {'city': 'skagastrond', 'lat': 65.8233244, 'lon': -20.3005642}, {'city': 'port blair', 'lat': 11.6645348, 'lon': 92.7390448}, {'city': 'hithadhoo', 'lat': 1.7959425, 'lon': 73.38755195657038}, {'city': 'dikson', 'lat': 73.5083894, 'lon': 80.5123816}, {'city': 'georgetown', 'lat': -7.9289722, 'lon': -14.4133993}, {'city': 'coquimbo', 'lat': -29.9531928, 'lon': -71.3379884}, {'city': 'thompson', 'lat': 55.743347, 'lon': -97.863464}, {'city': 'rankovce', 'lat': 42.1686201, 'lon': 22.1165518}, {'city': 'dunedin', 'lat': -45.8740984, 'lon': 170.5035755}, {'city': 'busselton', 'lat': -33.644499, 'lon': 115.3488754}, {'city': 'puerto ayora', 'lat': -0.7471674, 'lon': -90.3134198}, {'city': 'muscat', 'lat': 23.61515, 'lon': 58.5912467}, {'city': 'cabo san lucas', 'lat': 22.8938884, 'lon': -109.9200604}, {'city': 'airai', 'lat': 7.3599342, 'lon': 134.5601154}, {'city': 'carnarvon', 'lat': -24.8826131, 'lon': 113.6576486}, {'city': 'quesnel', 'lat': 52.9794279, 'lon': -122.493627}, {'city': 'langsa', 'lat': 4.4730892, 'lon': 97.9681841}, {'city': 'srednekolymsk', 'lat': 67.455497, 'lon': 153.7071456}, {'city': 'saint george', 'lat': 32.3763819, 'lon': -64.68926342528714}, {'city': 'hobart', 'lat': -42.8825088, 'lon': 147.3281233}, {'city': 'codrington', 'lat': 17.640463, 'lon': -61.8255199}]\n",
      "<citipy.citipy.City object at 0x7fba2bbbba60> ushuaia ar\n",
      "[{'city': 'vanimo', 'lat': -2.6847646, 'lon': 141.3009131}, {'city': 'albany', 'lat': -35.0247822, 'lon': 117.883608}, {'city': 'mar del plata', 'lat': -37.9977225, 'lon': -57.5482703}, {'city': 'saint george', 'lat': 32.3763819, 'lon': -64.68926342528714}, {'city': 'jiddah', 'lat': 21.5810088, 'lon': 39.1653612}, {'city': 'butaritari', 'lat': 2.9205375, 'lon': 172.91886331442205}, {'city': 'lebu', 'lat': -37.6099644, 'lon': -73.6559477}, {'city': 'minas', 'lat': -34.3773987, 'lon': -55.2382144}, {'city': 'hilo', 'lat': 19.7073734, 'lon': -155.08158}, {'city': 'butaritari', 'lat': 2.9205375, 'lon': 172.91886331442205}, {'city': 'leningradskiy', 'lat': 54.129108, 'lon': 79.236702}, {'city': 'vardo', 'lat': 70.3308174, 'lon': 30.961751972265887}, {'city': 'illoqqortoormiut', 'lat': 70.4850588, 'lon': -21.9641992}, {'city': 'odweyne', 'lat': 9.40701, 'lon': 45.06358}, {'city': 'chake chake', 'lat': -5.2440346, 'lon': 39.7685075}, {'city': 'bredasdorp', 'lat': -34.533055, 'lon': 20.042778}, {'city': 'jamestown', 'lat': -15.9277296, 'lon': -5.7160872}, {'city': 'punta arenas', 'lat': -53.1625688, 'lon': -70.907822}, {'city': 'rantepao', 'lat': -2.9704575, 'lon': 119.8987167}, {'city': 'wynyard', 'lat': 51.766667, 'lon': -104.183333}, {'city': 'esil', 'lat': 51.9601511, 'lon': 66.4088826}, {'city': 'khandyga', 'lat': 62.6477939, 'lon': 135.5750942}, {'city': 'norman wells', 'lat': 65.282401, 'lon': -126.832725}, {'city': 'attawapiskat', 'lat': 52.9244075, 'lon': -82.4270112}, {'city': 'matay', 'lat': 28.4176905, 'lon': 30.7861579}, {'city': 'novopavlovka', 'lat': 49.113228, 'lon': 41.036873}, {'city': 'nizhneyansk', 'lat': 71.440445, 'lon': 136.130646}, {'city': 'hilo', 'lat': 19.7073734, 'lon': -155.08158}, {'city': 'belushya guba', 'lat': 71.5376984, 'lon': 52.3427343}, {'city': 'bykovo', 'lat': 55.6311596, 'lon': 38.0761816}, {'city': 'mar del plata', 'lat': -37.9977225, 'lon': -57.5482703}, {'city': 'illoqqortoormiut', 'lat': 70.4850588, 'lon': -21.9641992}, {'city': 'busselton', 'lat': -33.644499, 'lon': 115.3488754}, {'city': 'hermanus', 'lat': -34.4175, 'lon': 19.2361111}, {'city': 'umm kaddadah', 'lat': 13.6002208, 'lon': 26.6892786}, {'city': 'qaanaaq', 'lat': 77.4686357, 'lon': -69.2222746}, {'city': 'ushuaia', 'lat': -54.806115899999995, 'lon': -68.3184972880496}, {'city': 'luwuk', 'lat': -0.9528231, 'lon': 122.7880198}, {'city': 'illoqqortoormiut', 'lat': 70.4850588, 'lon': -21.9641992}, {'city': 'punta arenas', 'lat': -53.1625688, 'lon': -70.907822}, {'city': 'hilo', 'lat': 19.7073734, 'lon': -155.08158}, {'city': 'marcona', 'lat': -15.2155331, 'lon': -75.08303444567473}, {'city': 'siloam springs', 'lat': 36.1881365, 'lon': -94.5404962}, {'city': 'tsihombe', 'lat': -25.318547, 'lon': 45.484057}, {'city': 'bambey', 'lat': 14.69548, 'lon': -16.449262}, {'city': 'hobart', 'lat': -42.8825088, 'lon': 147.3281233}, {'city': 'vaini', 'lat': -21.1925671, 'lon': -175.1772797}, {'city': 'urumqi', 'lat': 43.419754, 'lon': 87.319461}, {'city': 'port alfred', 'lat': -33.5981844, 'lon': 26.8914772}, {'city': 'skagastrond', 'lat': 65.8233244, 'lon': -20.3005642}, {'city': 'port blair', 'lat': 11.6645348, 'lon': 92.7390448}, {'city': 'hithadhoo', 'lat': 1.7959425, 'lon': 73.38755195657038}, {'city': 'dikson', 'lat': 73.5083894, 'lon': 80.5123816}, {'city': 'georgetown', 'lat': -7.9289722, 'lon': -14.4133993}, {'city': 'coquimbo', 'lat': -29.9531928, 'lon': -71.3379884}, {'city': 'thompson', 'lat': 55.743347, 'lon': -97.863464}, {'city': 'rankovce', 'lat': 42.1686201, 'lon': 22.1165518}, {'city': 'dunedin', 'lat': -45.8740984, 'lon': 170.5035755}, {'city': 'busselton', 'lat': -33.644499, 'lon': 115.3488754}, {'city': 'puerto ayora', 'lat': -0.7471674, 'lon': -90.3134198}, {'city': 'muscat', 'lat': 23.61515, 'lon': 58.5912467}, {'city': 'cabo san lucas', 'lat': 22.8938884, 'lon': -109.9200604}, {'city': 'airai', 'lat': 7.3599342, 'lon': 134.5601154}, {'city': 'carnarvon', 'lat': -24.8826131, 'lon': 113.6576486}, {'city': 'quesnel', 'lat': 52.9794279, 'lon': -122.493627}, {'city': 'langsa', 'lat': 4.4730892, 'lon': 97.9681841}, {'city': 'srednekolymsk', 'lat': 67.455497, 'lon': 153.7071456}, {'city': 'saint george', 'lat': 32.3763819, 'lon': -64.68926342528714}, {'city': 'hobart', 'lat': -42.8825088, 'lon': 147.3281233}, {'city': 'codrington', 'lat': 17.640463, 'lon': -61.8255199}, {'city': 'ushuaia', 'lat': -54.806115899999995, 'lon': -68.3184972880496}]\n",
      "<citipy.citipy.City object at 0x7fba2f1c28c0> mataura pf\n",
      "<citipy.citipy.City object at 0x7fba2f4a3820> ribeira grande pt\n",
      "[{'city': 'vanimo', 'lat': -2.6847646, 'lon': 141.3009131}, {'city': 'albany', 'lat': -35.0247822, 'lon': 117.883608}, {'city': 'mar del plata', 'lat': -37.9977225, 'lon': -57.5482703}, {'city': 'saint george', 'lat': 32.3763819, 'lon': -64.68926342528714}, {'city': 'jiddah', 'lat': 21.5810088, 'lon': 39.1653612}, {'city': 'butaritari', 'lat': 2.9205375, 'lon': 172.91886331442205}, {'city': 'lebu', 'lat': -37.6099644, 'lon': -73.6559477}, {'city': 'minas', 'lat': -34.3773987, 'lon': -55.2382144}, {'city': 'hilo', 'lat': 19.7073734, 'lon': -155.08158}, {'city': 'butaritari', 'lat': 2.9205375, 'lon': 172.91886331442205}, {'city': 'leningradskiy', 'lat': 54.129108, 'lon': 79.236702}, {'city': 'vardo', 'lat': 70.3308174, 'lon': 30.961751972265887}, {'city': 'illoqqortoormiut', 'lat': 70.4850588, 'lon': -21.9641992}, {'city': 'odweyne', 'lat': 9.40701, 'lon': 45.06358}, {'city': 'chake chake', 'lat': -5.2440346, 'lon': 39.7685075}, {'city': 'bredasdorp', 'lat': -34.533055, 'lon': 20.042778}, {'city': 'jamestown', 'lat': -15.9277296, 'lon': -5.7160872}, {'city': 'punta arenas', 'lat': -53.1625688, 'lon': -70.907822}, {'city': 'rantepao', 'lat': -2.9704575, 'lon': 119.8987167}, {'city': 'wynyard', 'lat': 51.766667, 'lon': -104.183333}, {'city': 'esil', 'lat': 51.9601511, 'lon': 66.4088826}, {'city': 'khandyga', 'lat': 62.6477939, 'lon': 135.5750942}, {'city': 'norman wells', 'lat': 65.282401, 'lon': -126.832725}, {'city': 'attawapiskat', 'lat': 52.9244075, 'lon': -82.4270112}, {'city': 'matay', 'lat': 28.4176905, 'lon': 30.7861579}, {'city': 'novopavlovka', 'lat': 49.113228, 'lon': 41.036873}, {'city': 'nizhneyansk', 'lat': 71.440445, 'lon': 136.130646}, {'city': 'hilo', 'lat': 19.7073734, 'lon': -155.08158}, {'city': 'belushya guba', 'lat': 71.5376984, 'lon': 52.3427343}, {'city': 'bykovo', 'lat': 55.6311596, 'lon': 38.0761816}, {'city': 'mar del plata', 'lat': -37.9977225, 'lon': -57.5482703}, {'city': 'illoqqortoormiut', 'lat': 70.4850588, 'lon': -21.9641992}, {'city': 'busselton', 'lat': -33.644499, 'lon': 115.3488754}, {'city': 'hermanus', 'lat': -34.4175, 'lon': 19.2361111}, {'city': 'umm kaddadah', 'lat': 13.6002208, 'lon': 26.6892786}, {'city': 'qaanaaq', 'lat': 77.4686357, 'lon': -69.2222746}, {'city': 'ushuaia', 'lat': -54.806115899999995, 'lon': -68.3184972880496}, {'city': 'luwuk', 'lat': -0.9528231, 'lon': 122.7880198}, {'city': 'illoqqortoormiut', 'lat': 70.4850588, 'lon': -21.9641992}, {'city': 'punta arenas', 'lat': -53.1625688, 'lon': -70.907822}, {'city': 'hilo', 'lat': 19.7073734, 'lon': -155.08158}, {'city': 'marcona', 'lat': -15.2155331, 'lon': -75.08303444567473}, {'city': 'siloam springs', 'lat': 36.1881365, 'lon': -94.5404962}, {'city': 'tsihombe', 'lat': -25.318547, 'lon': 45.484057}, {'city': 'bambey', 'lat': 14.69548, 'lon': -16.449262}, {'city': 'hobart', 'lat': -42.8825088, 'lon': 147.3281233}, {'city': 'vaini', 'lat': -21.1925671, 'lon': -175.1772797}, {'city': 'urumqi', 'lat': 43.419754, 'lon': 87.319461}, {'city': 'port alfred', 'lat': -33.5981844, 'lon': 26.8914772}, {'city': 'skagastrond', 'lat': 65.8233244, 'lon': -20.3005642}, {'city': 'port blair', 'lat': 11.6645348, 'lon': 92.7390448}, {'city': 'hithadhoo', 'lat': 1.7959425, 'lon': 73.38755195657038}, {'city': 'dikson', 'lat': 73.5083894, 'lon': 80.5123816}, {'city': 'georgetown', 'lat': -7.9289722, 'lon': -14.4133993}, {'city': 'coquimbo', 'lat': -29.9531928, 'lon': -71.3379884}, {'city': 'thompson', 'lat': 55.743347, 'lon': -97.863464}, {'city': 'rankovce', 'lat': 42.1686201, 'lon': 22.1165518}, {'city': 'dunedin', 'lat': -45.8740984, 'lon': 170.5035755}, {'city': 'busselton', 'lat': -33.644499, 'lon': 115.3488754}, {'city': 'puerto ayora', 'lat': -0.7471674, 'lon': -90.3134198}, {'city': 'muscat', 'lat': 23.61515, 'lon': 58.5912467}, {'city': 'cabo san lucas', 'lat': 22.8938884, 'lon': -109.9200604}, {'city': 'airai', 'lat': 7.3599342, 'lon': 134.5601154}, {'city': 'carnarvon', 'lat': -24.8826131, 'lon': 113.6576486}, {'city': 'quesnel', 'lat': 52.9794279, 'lon': -122.493627}, {'city': 'langsa', 'lat': 4.4730892, 'lon': 97.9681841}, {'city': 'srednekolymsk', 'lat': 67.455497, 'lon': 153.7071456}, {'city': 'saint george', 'lat': 32.3763819, 'lon': -64.68926342528714}, {'city': 'hobart', 'lat': -42.8825088, 'lon': 147.3281233}, {'city': 'codrington', 'lat': 17.640463, 'lon': -61.8255199}, {'city': 'ushuaia', 'lat': -54.806115899999995, 'lon': -68.3184972880496}, {'city': 'ribeira grande', 'lat': 37.8225227, 'lon': -25.5194914}]\n",
      "<citipy.citipy.City object at 0x7fba2e24b6a0> rolim de moura br\n"
     ]
    },
    {
     "name": "stdout",
     "output_type": "stream",
     "text": [
      "[{'city': 'vanimo', 'lat': -2.6847646, 'lon': 141.3009131}, {'city': 'albany', 'lat': -35.0247822, 'lon': 117.883608}, {'city': 'mar del plata', 'lat': -37.9977225, 'lon': -57.5482703}, {'city': 'saint george', 'lat': 32.3763819, 'lon': -64.68926342528714}, {'city': 'jiddah', 'lat': 21.5810088, 'lon': 39.1653612}, {'city': 'butaritari', 'lat': 2.9205375, 'lon': 172.91886331442205}, {'city': 'lebu', 'lat': -37.6099644, 'lon': -73.6559477}, {'city': 'minas', 'lat': -34.3773987, 'lon': -55.2382144}, {'city': 'hilo', 'lat': 19.7073734, 'lon': -155.08158}, {'city': 'butaritari', 'lat': 2.9205375, 'lon': 172.91886331442205}, {'city': 'leningradskiy', 'lat': 54.129108, 'lon': 79.236702}, {'city': 'vardo', 'lat': 70.3308174, 'lon': 30.961751972265887}, {'city': 'illoqqortoormiut', 'lat': 70.4850588, 'lon': -21.9641992}, {'city': 'odweyne', 'lat': 9.40701, 'lon': 45.06358}, {'city': 'chake chake', 'lat': -5.2440346, 'lon': 39.7685075}, {'city': 'bredasdorp', 'lat': -34.533055, 'lon': 20.042778}, {'city': 'jamestown', 'lat': -15.9277296, 'lon': -5.7160872}, {'city': 'punta arenas', 'lat': -53.1625688, 'lon': -70.907822}, {'city': 'rantepao', 'lat': -2.9704575, 'lon': 119.8987167}, {'city': 'wynyard', 'lat': 51.766667, 'lon': -104.183333}, {'city': 'esil', 'lat': 51.9601511, 'lon': 66.4088826}, {'city': 'khandyga', 'lat': 62.6477939, 'lon': 135.5750942}, {'city': 'norman wells', 'lat': 65.282401, 'lon': -126.832725}, {'city': 'attawapiskat', 'lat': 52.9244075, 'lon': -82.4270112}, {'city': 'matay', 'lat': 28.4176905, 'lon': 30.7861579}, {'city': 'novopavlovka', 'lat': 49.113228, 'lon': 41.036873}, {'city': 'nizhneyansk', 'lat': 71.440445, 'lon': 136.130646}, {'city': 'hilo', 'lat': 19.7073734, 'lon': -155.08158}, {'city': 'belushya guba', 'lat': 71.5376984, 'lon': 52.3427343}, {'city': 'bykovo', 'lat': 55.6311596, 'lon': 38.0761816}, {'city': 'mar del plata', 'lat': -37.9977225, 'lon': -57.5482703}, {'city': 'illoqqortoormiut', 'lat': 70.4850588, 'lon': -21.9641992}, {'city': 'busselton', 'lat': -33.644499, 'lon': 115.3488754}, {'city': 'hermanus', 'lat': -34.4175, 'lon': 19.2361111}, {'city': 'umm kaddadah', 'lat': 13.6002208, 'lon': 26.6892786}, {'city': 'qaanaaq', 'lat': 77.4686357, 'lon': -69.2222746}, {'city': 'ushuaia', 'lat': -54.806115899999995, 'lon': -68.3184972880496}, {'city': 'luwuk', 'lat': -0.9528231, 'lon': 122.7880198}, {'city': 'illoqqortoormiut', 'lat': 70.4850588, 'lon': -21.9641992}, {'city': 'punta arenas', 'lat': -53.1625688, 'lon': -70.907822}, {'city': 'hilo', 'lat': 19.7073734, 'lon': -155.08158}, {'city': 'marcona', 'lat': -15.2155331, 'lon': -75.08303444567473}, {'city': 'siloam springs', 'lat': 36.1881365, 'lon': -94.5404962}, {'city': 'tsihombe', 'lat': -25.318547, 'lon': 45.484057}, {'city': 'bambey', 'lat': 14.69548, 'lon': -16.449262}, {'city': 'hobart', 'lat': -42.8825088, 'lon': 147.3281233}, {'city': 'vaini', 'lat': -21.1925671, 'lon': -175.1772797}, {'city': 'urumqi', 'lat': 43.419754, 'lon': 87.319461}, {'city': 'port alfred', 'lat': -33.5981844, 'lon': 26.8914772}, {'city': 'skagastrond', 'lat': 65.8233244, 'lon': -20.3005642}, {'city': 'port blair', 'lat': 11.6645348, 'lon': 92.7390448}, {'city': 'hithadhoo', 'lat': 1.7959425, 'lon': 73.38755195657038}, {'city': 'dikson', 'lat': 73.5083894, 'lon': 80.5123816}, {'city': 'georgetown', 'lat': -7.9289722, 'lon': -14.4133993}, {'city': 'coquimbo', 'lat': -29.9531928, 'lon': -71.3379884}, {'city': 'thompson', 'lat': 55.743347, 'lon': -97.863464}, {'city': 'rankovce', 'lat': 42.1686201, 'lon': 22.1165518}, {'city': 'dunedin', 'lat': -45.8740984, 'lon': 170.5035755}, {'city': 'busselton', 'lat': -33.644499, 'lon': 115.3488754}, {'city': 'puerto ayora', 'lat': -0.7471674, 'lon': -90.3134198}, {'city': 'muscat', 'lat': 23.61515, 'lon': 58.5912467}, {'city': 'cabo san lucas', 'lat': 22.8938884, 'lon': -109.9200604}, {'city': 'airai', 'lat': 7.3599342, 'lon': 134.5601154}, {'city': 'carnarvon', 'lat': -24.8826131, 'lon': 113.6576486}, {'city': 'quesnel', 'lat': 52.9794279, 'lon': -122.493627}, {'city': 'langsa', 'lat': 4.4730892, 'lon': 97.9681841}, {'city': 'srednekolymsk', 'lat': 67.455497, 'lon': 153.7071456}, {'city': 'saint george', 'lat': 32.3763819, 'lon': -64.68926342528714}, {'city': 'hobart', 'lat': -42.8825088, 'lon': 147.3281233}, {'city': 'codrington', 'lat': 17.640463, 'lon': -61.8255199}, {'city': 'ushuaia', 'lat': -54.806115899999995, 'lon': -68.3184972880496}, {'city': 'ribeira grande', 'lat': 37.8225227, 'lon': -25.5194914}, {'city': 'rolim de moura', 'lat': -11.727071, 'lon': -61.771411}]\n",
      "<citipy.citipy.City object at 0x7fba2f1c28c0> mataura pf\n",
      "<citipy.citipy.City object at 0x7fba2f1c2ef0> rikitea pf\n",
      "<citipy.citipy.City object at 0x7fba2fbc8b50> rosaryville us\n",
      "[{'city': 'vanimo', 'lat': -2.6847646, 'lon': 141.3009131}, {'city': 'albany', 'lat': -35.0247822, 'lon': 117.883608}, {'city': 'mar del plata', 'lat': -37.9977225, 'lon': -57.5482703}, {'city': 'saint george', 'lat': 32.3763819, 'lon': -64.68926342528714}, {'city': 'jiddah', 'lat': 21.5810088, 'lon': 39.1653612}, {'city': 'butaritari', 'lat': 2.9205375, 'lon': 172.91886331442205}, {'city': 'lebu', 'lat': -37.6099644, 'lon': -73.6559477}, {'city': 'minas', 'lat': -34.3773987, 'lon': -55.2382144}, {'city': 'hilo', 'lat': 19.7073734, 'lon': -155.08158}, {'city': 'butaritari', 'lat': 2.9205375, 'lon': 172.91886331442205}, {'city': 'leningradskiy', 'lat': 54.129108, 'lon': 79.236702}, {'city': 'vardo', 'lat': 70.3308174, 'lon': 30.961751972265887}, {'city': 'illoqqortoormiut', 'lat': 70.4850588, 'lon': -21.9641992}, {'city': 'odweyne', 'lat': 9.40701, 'lon': 45.06358}, {'city': 'chake chake', 'lat': -5.2440346, 'lon': 39.7685075}, {'city': 'bredasdorp', 'lat': -34.533055, 'lon': 20.042778}, {'city': 'jamestown', 'lat': -15.9277296, 'lon': -5.7160872}, {'city': 'punta arenas', 'lat': -53.1625688, 'lon': -70.907822}, {'city': 'rantepao', 'lat': -2.9704575, 'lon': 119.8987167}, {'city': 'wynyard', 'lat': 51.766667, 'lon': -104.183333}, {'city': 'esil', 'lat': 51.9601511, 'lon': 66.4088826}, {'city': 'khandyga', 'lat': 62.6477939, 'lon': 135.5750942}, {'city': 'norman wells', 'lat': 65.282401, 'lon': -126.832725}, {'city': 'attawapiskat', 'lat': 52.9244075, 'lon': -82.4270112}, {'city': 'matay', 'lat': 28.4176905, 'lon': 30.7861579}, {'city': 'novopavlovka', 'lat': 49.113228, 'lon': 41.036873}, {'city': 'nizhneyansk', 'lat': 71.440445, 'lon': 136.130646}, {'city': 'hilo', 'lat': 19.7073734, 'lon': -155.08158}, {'city': 'belushya guba', 'lat': 71.5376984, 'lon': 52.3427343}, {'city': 'bykovo', 'lat': 55.6311596, 'lon': 38.0761816}, {'city': 'mar del plata', 'lat': -37.9977225, 'lon': -57.5482703}, {'city': 'illoqqortoormiut', 'lat': 70.4850588, 'lon': -21.9641992}, {'city': 'busselton', 'lat': -33.644499, 'lon': 115.3488754}, {'city': 'hermanus', 'lat': -34.4175, 'lon': 19.2361111}, {'city': 'umm kaddadah', 'lat': 13.6002208, 'lon': 26.6892786}, {'city': 'qaanaaq', 'lat': 77.4686357, 'lon': -69.2222746}, {'city': 'ushuaia', 'lat': -54.806115899999995, 'lon': -68.3184972880496}, {'city': 'luwuk', 'lat': -0.9528231, 'lon': 122.7880198}, {'city': 'illoqqortoormiut', 'lat': 70.4850588, 'lon': -21.9641992}, {'city': 'punta arenas', 'lat': -53.1625688, 'lon': -70.907822}, {'city': 'hilo', 'lat': 19.7073734, 'lon': -155.08158}, {'city': 'marcona', 'lat': -15.2155331, 'lon': -75.08303444567473}, {'city': 'siloam springs', 'lat': 36.1881365, 'lon': -94.5404962}, {'city': 'tsihombe', 'lat': -25.318547, 'lon': 45.484057}, {'city': 'bambey', 'lat': 14.69548, 'lon': -16.449262}, {'city': 'hobart', 'lat': -42.8825088, 'lon': 147.3281233}, {'city': 'vaini', 'lat': -21.1925671, 'lon': -175.1772797}, {'city': 'urumqi', 'lat': 43.419754, 'lon': 87.319461}, {'city': 'port alfred', 'lat': -33.5981844, 'lon': 26.8914772}, {'city': 'skagastrond', 'lat': 65.8233244, 'lon': -20.3005642}, {'city': 'port blair', 'lat': 11.6645348, 'lon': 92.7390448}, {'city': 'hithadhoo', 'lat': 1.7959425, 'lon': 73.38755195657038}, {'city': 'dikson', 'lat': 73.5083894, 'lon': 80.5123816}, {'city': 'georgetown', 'lat': -7.9289722, 'lon': -14.4133993}, {'city': 'coquimbo', 'lat': -29.9531928, 'lon': -71.3379884}, {'city': 'thompson', 'lat': 55.743347, 'lon': -97.863464}, {'city': 'rankovce', 'lat': 42.1686201, 'lon': 22.1165518}, {'city': 'dunedin', 'lat': -45.8740984, 'lon': 170.5035755}, {'city': 'busselton', 'lat': -33.644499, 'lon': 115.3488754}, {'city': 'puerto ayora', 'lat': -0.7471674, 'lon': -90.3134198}, {'city': 'muscat', 'lat': 23.61515, 'lon': 58.5912467}, {'city': 'cabo san lucas', 'lat': 22.8938884, 'lon': -109.9200604}, {'city': 'airai', 'lat': 7.3599342, 'lon': 134.5601154}, {'city': 'carnarvon', 'lat': -24.8826131, 'lon': 113.6576486}, {'city': 'quesnel', 'lat': 52.9794279, 'lon': -122.493627}, {'city': 'langsa', 'lat': 4.4730892, 'lon': 97.9681841}, {'city': 'srednekolymsk', 'lat': 67.455497, 'lon': 153.7071456}, {'city': 'saint george', 'lat': 32.3763819, 'lon': -64.68926342528714}, {'city': 'hobart', 'lat': -42.8825088, 'lon': 147.3281233}, {'city': 'codrington', 'lat': 17.640463, 'lon': -61.8255199}, {'city': 'ushuaia', 'lat': -54.806115899999995, 'lon': -68.3184972880496}, {'city': 'ribeira grande', 'lat': 37.8225227, 'lon': -25.5194914}, {'city': 'rolim de moura', 'lat': -11.727071, 'lon': -61.771411}, {'city': 'rosaryville', 'lat': 38.7698662, 'lon': -76.8219551245767}]\n",
      "<citipy.citipy.City object at 0x7fba2f48ef50> lagoa pt\n",
      "[{'city': 'vanimo', 'lat': -2.6847646, 'lon': 141.3009131}, {'city': 'albany', 'lat': -35.0247822, 'lon': 117.883608}, {'city': 'mar del plata', 'lat': -37.9977225, 'lon': -57.5482703}, {'city': 'saint george', 'lat': 32.3763819, 'lon': -64.68926342528714}, {'city': 'jiddah', 'lat': 21.5810088, 'lon': 39.1653612}, {'city': 'butaritari', 'lat': 2.9205375, 'lon': 172.91886331442205}, {'city': 'lebu', 'lat': -37.6099644, 'lon': -73.6559477}, {'city': 'minas', 'lat': -34.3773987, 'lon': -55.2382144}, {'city': 'hilo', 'lat': 19.7073734, 'lon': -155.08158}, {'city': 'butaritari', 'lat': 2.9205375, 'lon': 172.91886331442205}, {'city': 'leningradskiy', 'lat': 54.129108, 'lon': 79.236702}, {'city': 'vardo', 'lat': 70.3308174, 'lon': 30.961751972265887}, {'city': 'illoqqortoormiut', 'lat': 70.4850588, 'lon': -21.9641992}, {'city': 'odweyne', 'lat': 9.40701, 'lon': 45.06358}, {'city': 'chake chake', 'lat': -5.2440346, 'lon': 39.7685075}, {'city': 'bredasdorp', 'lat': -34.533055, 'lon': 20.042778}, {'city': 'jamestown', 'lat': -15.9277296, 'lon': -5.7160872}, {'city': 'punta arenas', 'lat': -53.1625688, 'lon': -70.907822}, {'city': 'rantepao', 'lat': -2.9704575, 'lon': 119.8987167}, {'city': 'wynyard', 'lat': 51.766667, 'lon': -104.183333}, {'city': 'esil', 'lat': 51.9601511, 'lon': 66.4088826}, {'city': 'khandyga', 'lat': 62.6477939, 'lon': 135.5750942}, {'city': 'norman wells', 'lat': 65.282401, 'lon': -126.832725}, {'city': 'attawapiskat', 'lat': 52.9244075, 'lon': -82.4270112}, {'city': 'matay', 'lat': 28.4176905, 'lon': 30.7861579}, {'city': 'novopavlovka', 'lat': 49.113228, 'lon': 41.036873}, {'city': 'nizhneyansk', 'lat': 71.440445, 'lon': 136.130646}, {'city': 'hilo', 'lat': 19.7073734, 'lon': -155.08158}, {'city': 'belushya guba', 'lat': 71.5376984, 'lon': 52.3427343}, {'city': 'bykovo', 'lat': 55.6311596, 'lon': 38.0761816}, {'city': 'mar del plata', 'lat': -37.9977225, 'lon': -57.5482703}, {'city': 'illoqqortoormiut', 'lat': 70.4850588, 'lon': -21.9641992}, {'city': 'busselton', 'lat': -33.644499, 'lon': 115.3488754}, {'city': 'hermanus', 'lat': -34.4175, 'lon': 19.2361111}, {'city': 'umm kaddadah', 'lat': 13.6002208, 'lon': 26.6892786}, {'city': 'qaanaaq', 'lat': 77.4686357, 'lon': -69.2222746}, {'city': 'ushuaia', 'lat': -54.806115899999995, 'lon': -68.3184972880496}, {'city': 'luwuk', 'lat': -0.9528231, 'lon': 122.7880198}, {'city': 'illoqqortoormiut', 'lat': 70.4850588, 'lon': -21.9641992}, {'city': 'punta arenas', 'lat': -53.1625688, 'lon': -70.907822}, {'city': 'hilo', 'lat': 19.7073734, 'lon': -155.08158}, {'city': 'marcona', 'lat': -15.2155331, 'lon': -75.08303444567473}, {'city': 'siloam springs', 'lat': 36.1881365, 'lon': -94.5404962}, {'city': 'tsihombe', 'lat': -25.318547, 'lon': 45.484057}, {'city': 'bambey', 'lat': 14.69548, 'lon': -16.449262}, {'city': 'hobart', 'lat': -42.8825088, 'lon': 147.3281233}, {'city': 'vaini', 'lat': -21.1925671, 'lon': -175.1772797}, {'city': 'urumqi', 'lat': 43.419754, 'lon': 87.319461}, {'city': 'port alfred', 'lat': -33.5981844, 'lon': 26.8914772}, {'city': 'skagastrond', 'lat': 65.8233244, 'lon': -20.3005642}, {'city': 'port blair', 'lat': 11.6645348, 'lon': 92.7390448}, {'city': 'hithadhoo', 'lat': 1.7959425, 'lon': 73.38755195657038}, {'city': 'dikson', 'lat': 73.5083894, 'lon': 80.5123816}, {'city': 'georgetown', 'lat': -7.9289722, 'lon': -14.4133993}, {'city': 'coquimbo', 'lat': -29.9531928, 'lon': -71.3379884}, {'city': 'thompson', 'lat': 55.743347, 'lon': -97.863464}, {'city': 'rankovce', 'lat': 42.1686201, 'lon': 22.1165518}, {'city': 'dunedin', 'lat': -45.8740984, 'lon': 170.5035755}, {'city': 'busselton', 'lat': -33.644499, 'lon': 115.3488754}, {'city': 'puerto ayora', 'lat': -0.7471674, 'lon': -90.3134198}, {'city': 'muscat', 'lat': 23.61515, 'lon': 58.5912467}, {'city': 'cabo san lucas', 'lat': 22.8938884, 'lon': -109.9200604}, {'city': 'airai', 'lat': 7.3599342, 'lon': 134.5601154}, {'city': 'carnarvon', 'lat': -24.8826131, 'lon': 113.6576486}, {'city': 'quesnel', 'lat': 52.9794279, 'lon': -122.493627}, {'city': 'langsa', 'lat': 4.4730892, 'lon': 97.9681841}, {'city': 'srednekolymsk', 'lat': 67.455497, 'lon': 153.7071456}, {'city': 'saint george', 'lat': 32.3763819, 'lon': -64.68926342528714}, {'city': 'hobart', 'lat': -42.8825088, 'lon': 147.3281233}, {'city': 'codrington', 'lat': 17.640463, 'lon': -61.8255199}, {'city': 'ushuaia', 'lat': -54.806115899999995, 'lon': -68.3184972880496}, {'city': 'ribeira grande', 'lat': 37.8225227, 'lon': -25.5194914}, {'city': 'rolim de moura', 'lat': -11.727071, 'lon': -61.771411}, {'city': 'rosaryville', 'lat': 38.7698662, 'lon': -76.8219551245767}, {'city': 'lagoa', 'lat': 37.13258125, 'lon': -8.45505094811731}]\n",
      "<citipy.citipy.City object at 0x7fba2e1580d0> hamilton bm\n"
     ]
    },
    {
     "name": "stdout",
     "output_type": "stream",
     "text": [
      "[{'city': 'vanimo', 'lat': -2.6847646, 'lon': 141.3009131}, {'city': 'albany', 'lat': -35.0247822, 'lon': 117.883608}, {'city': 'mar del plata', 'lat': -37.9977225, 'lon': -57.5482703}, {'city': 'saint george', 'lat': 32.3763819, 'lon': -64.68926342528714}, {'city': 'jiddah', 'lat': 21.5810088, 'lon': 39.1653612}, {'city': 'butaritari', 'lat': 2.9205375, 'lon': 172.91886331442205}, {'city': 'lebu', 'lat': -37.6099644, 'lon': -73.6559477}, {'city': 'minas', 'lat': -34.3773987, 'lon': -55.2382144}, {'city': 'hilo', 'lat': 19.7073734, 'lon': -155.08158}, {'city': 'butaritari', 'lat': 2.9205375, 'lon': 172.91886331442205}, {'city': 'leningradskiy', 'lat': 54.129108, 'lon': 79.236702}, {'city': 'vardo', 'lat': 70.3308174, 'lon': 30.961751972265887}, {'city': 'illoqqortoormiut', 'lat': 70.4850588, 'lon': -21.9641992}, {'city': 'odweyne', 'lat': 9.40701, 'lon': 45.06358}, {'city': 'chake chake', 'lat': -5.2440346, 'lon': 39.7685075}, {'city': 'bredasdorp', 'lat': -34.533055, 'lon': 20.042778}, {'city': 'jamestown', 'lat': -15.9277296, 'lon': -5.7160872}, {'city': 'punta arenas', 'lat': -53.1625688, 'lon': -70.907822}, {'city': 'rantepao', 'lat': -2.9704575, 'lon': 119.8987167}, {'city': 'wynyard', 'lat': 51.766667, 'lon': -104.183333}, {'city': 'esil', 'lat': 51.9601511, 'lon': 66.4088826}, {'city': 'khandyga', 'lat': 62.6477939, 'lon': 135.5750942}, {'city': 'norman wells', 'lat': 65.282401, 'lon': -126.832725}, {'city': 'attawapiskat', 'lat': 52.9244075, 'lon': -82.4270112}, {'city': 'matay', 'lat': 28.4176905, 'lon': 30.7861579}, {'city': 'novopavlovka', 'lat': 49.113228, 'lon': 41.036873}, {'city': 'nizhneyansk', 'lat': 71.440445, 'lon': 136.130646}, {'city': 'hilo', 'lat': 19.7073734, 'lon': -155.08158}, {'city': 'belushya guba', 'lat': 71.5376984, 'lon': 52.3427343}, {'city': 'bykovo', 'lat': 55.6311596, 'lon': 38.0761816}, {'city': 'mar del plata', 'lat': -37.9977225, 'lon': -57.5482703}, {'city': 'illoqqortoormiut', 'lat': 70.4850588, 'lon': -21.9641992}, {'city': 'busselton', 'lat': -33.644499, 'lon': 115.3488754}, {'city': 'hermanus', 'lat': -34.4175, 'lon': 19.2361111}, {'city': 'umm kaddadah', 'lat': 13.6002208, 'lon': 26.6892786}, {'city': 'qaanaaq', 'lat': 77.4686357, 'lon': -69.2222746}, {'city': 'ushuaia', 'lat': -54.806115899999995, 'lon': -68.3184972880496}, {'city': 'luwuk', 'lat': -0.9528231, 'lon': 122.7880198}, {'city': 'illoqqortoormiut', 'lat': 70.4850588, 'lon': -21.9641992}, {'city': 'punta arenas', 'lat': -53.1625688, 'lon': -70.907822}, {'city': 'hilo', 'lat': 19.7073734, 'lon': -155.08158}, {'city': 'marcona', 'lat': -15.2155331, 'lon': -75.08303444567473}, {'city': 'siloam springs', 'lat': 36.1881365, 'lon': -94.5404962}, {'city': 'tsihombe', 'lat': -25.318547, 'lon': 45.484057}, {'city': 'bambey', 'lat': 14.69548, 'lon': -16.449262}, {'city': 'hobart', 'lat': -42.8825088, 'lon': 147.3281233}, {'city': 'vaini', 'lat': -21.1925671, 'lon': -175.1772797}, {'city': 'urumqi', 'lat': 43.419754, 'lon': 87.319461}, {'city': 'port alfred', 'lat': -33.5981844, 'lon': 26.8914772}, {'city': 'skagastrond', 'lat': 65.8233244, 'lon': -20.3005642}, {'city': 'port blair', 'lat': 11.6645348, 'lon': 92.7390448}, {'city': 'hithadhoo', 'lat': 1.7959425, 'lon': 73.38755195657038}, {'city': 'dikson', 'lat': 73.5083894, 'lon': 80.5123816}, {'city': 'georgetown', 'lat': -7.9289722, 'lon': -14.4133993}, {'city': 'coquimbo', 'lat': -29.9531928, 'lon': -71.3379884}, {'city': 'thompson', 'lat': 55.743347, 'lon': -97.863464}, {'city': 'rankovce', 'lat': 42.1686201, 'lon': 22.1165518}, {'city': 'dunedin', 'lat': -45.8740984, 'lon': 170.5035755}, {'city': 'busselton', 'lat': -33.644499, 'lon': 115.3488754}, {'city': 'puerto ayora', 'lat': -0.7471674, 'lon': -90.3134198}, {'city': 'muscat', 'lat': 23.61515, 'lon': 58.5912467}, {'city': 'cabo san lucas', 'lat': 22.8938884, 'lon': -109.9200604}, {'city': 'airai', 'lat': 7.3599342, 'lon': 134.5601154}, {'city': 'carnarvon', 'lat': -24.8826131, 'lon': 113.6576486}, {'city': 'quesnel', 'lat': 52.9794279, 'lon': -122.493627}, {'city': 'langsa', 'lat': 4.4730892, 'lon': 97.9681841}, {'city': 'srednekolymsk', 'lat': 67.455497, 'lon': 153.7071456}, {'city': 'saint george', 'lat': 32.3763819, 'lon': -64.68926342528714}, {'city': 'hobart', 'lat': -42.8825088, 'lon': 147.3281233}, {'city': 'codrington', 'lat': 17.640463, 'lon': -61.8255199}, {'city': 'ushuaia', 'lat': -54.806115899999995, 'lon': -68.3184972880496}, {'city': 'ribeira grande', 'lat': 37.8225227, 'lon': -25.5194914}, {'city': 'rolim de moura', 'lat': -11.727071, 'lon': -61.771411}, {'city': 'rosaryville', 'lat': 38.7698662, 'lon': -76.8219551245767}, {'city': 'lagoa', 'lat': 37.13258125, 'lon': -8.45505094811731}, {'city': 'hamilton', 'lat': 32.2956076, 'lon': -64.7827048}]\n",
      "<citipy.citipy.City object at 0x7fba2e2274c0> patos br\n",
      "[{'city': 'vanimo', 'lat': -2.6847646, 'lon': 141.3009131}, {'city': 'albany', 'lat': -35.0247822, 'lon': 117.883608}, {'city': 'mar del plata', 'lat': -37.9977225, 'lon': -57.5482703}, {'city': 'saint george', 'lat': 32.3763819, 'lon': -64.68926342528714}, {'city': 'jiddah', 'lat': 21.5810088, 'lon': 39.1653612}, {'city': 'butaritari', 'lat': 2.9205375, 'lon': 172.91886331442205}, {'city': 'lebu', 'lat': -37.6099644, 'lon': -73.6559477}, {'city': 'minas', 'lat': -34.3773987, 'lon': -55.2382144}, {'city': 'hilo', 'lat': 19.7073734, 'lon': -155.08158}, {'city': 'butaritari', 'lat': 2.9205375, 'lon': 172.91886331442205}, {'city': 'leningradskiy', 'lat': 54.129108, 'lon': 79.236702}, {'city': 'vardo', 'lat': 70.3308174, 'lon': 30.961751972265887}, {'city': 'illoqqortoormiut', 'lat': 70.4850588, 'lon': -21.9641992}, {'city': 'odweyne', 'lat': 9.40701, 'lon': 45.06358}, {'city': 'chake chake', 'lat': -5.2440346, 'lon': 39.7685075}, {'city': 'bredasdorp', 'lat': -34.533055, 'lon': 20.042778}, {'city': 'jamestown', 'lat': -15.9277296, 'lon': -5.7160872}, {'city': 'punta arenas', 'lat': -53.1625688, 'lon': -70.907822}, {'city': 'rantepao', 'lat': -2.9704575, 'lon': 119.8987167}, {'city': 'wynyard', 'lat': 51.766667, 'lon': -104.183333}, {'city': 'esil', 'lat': 51.9601511, 'lon': 66.4088826}, {'city': 'khandyga', 'lat': 62.6477939, 'lon': 135.5750942}, {'city': 'norman wells', 'lat': 65.282401, 'lon': -126.832725}, {'city': 'attawapiskat', 'lat': 52.9244075, 'lon': -82.4270112}, {'city': 'matay', 'lat': 28.4176905, 'lon': 30.7861579}, {'city': 'novopavlovka', 'lat': 49.113228, 'lon': 41.036873}, {'city': 'nizhneyansk', 'lat': 71.440445, 'lon': 136.130646}, {'city': 'hilo', 'lat': 19.7073734, 'lon': -155.08158}, {'city': 'belushya guba', 'lat': 71.5376984, 'lon': 52.3427343}, {'city': 'bykovo', 'lat': 55.6311596, 'lon': 38.0761816}, {'city': 'mar del plata', 'lat': -37.9977225, 'lon': -57.5482703}, {'city': 'illoqqortoormiut', 'lat': 70.4850588, 'lon': -21.9641992}, {'city': 'busselton', 'lat': -33.644499, 'lon': 115.3488754}, {'city': 'hermanus', 'lat': -34.4175, 'lon': 19.2361111}, {'city': 'umm kaddadah', 'lat': 13.6002208, 'lon': 26.6892786}, {'city': 'qaanaaq', 'lat': 77.4686357, 'lon': -69.2222746}, {'city': 'ushuaia', 'lat': -54.806115899999995, 'lon': -68.3184972880496}, {'city': 'luwuk', 'lat': -0.9528231, 'lon': 122.7880198}, {'city': 'illoqqortoormiut', 'lat': 70.4850588, 'lon': -21.9641992}, {'city': 'punta arenas', 'lat': -53.1625688, 'lon': -70.907822}, {'city': 'hilo', 'lat': 19.7073734, 'lon': -155.08158}, {'city': 'marcona', 'lat': -15.2155331, 'lon': -75.08303444567473}, {'city': 'siloam springs', 'lat': 36.1881365, 'lon': -94.5404962}, {'city': 'tsihombe', 'lat': -25.318547, 'lon': 45.484057}, {'city': 'bambey', 'lat': 14.69548, 'lon': -16.449262}, {'city': 'hobart', 'lat': -42.8825088, 'lon': 147.3281233}, {'city': 'vaini', 'lat': -21.1925671, 'lon': -175.1772797}, {'city': 'urumqi', 'lat': 43.419754, 'lon': 87.319461}, {'city': 'port alfred', 'lat': -33.5981844, 'lon': 26.8914772}, {'city': 'skagastrond', 'lat': 65.8233244, 'lon': -20.3005642}, {'city': 'port blair', 'lat': 11.6645348, 'lon': 92.7390448}, {'city': 'hithadhoo', 'lat': 1.7959425, 'lon': 73.38755195657038}, {'city': 'dikson', 'lat': 73.5083894, 'lon': 80.5123816}, {'city': 'georgetown', 'lat': -7.9289722, 'lon': -14.4133993}, {'city': 'coquimbo', 'lat': -29.9531928, 'lon': -71.3379884}, {'city': 'thompson', 'lat': 55.743347, 'lon': -97.863464}, {'city': 'rankovce', 'lat': 42.1686201, 'lon': 22.1165518}, {'city': 'dunedin', 'lat': -45.8740984, 'lon': 170.5035755}, {'city': 'busselton', 'lat': -33.644499, 'lon': 115.3488754}, {'city': 'puerto ayora', 'lat': -0.7471674, 'lon': -90.3134198}, {'city': 'muscat', 'lat': 23.61515, 'lon': 58.5912467}, {'city': 'cabo san lucas', 'lat': 22.8938884, 'lon': -109.9200604}, {'city': 'airai', 'lat': 7.3599342, 'lon': 134.5601154}, {'city': 'carnarvon', 'lat': -24.8826131, 'lon': 113.6576486}, {'city': 'quesnel', 'lat': 52.9794279, 'lon': -122.493627}, {'city': 'langsa', 'lat': 4.4730892, 'lon': 97.9681841}, {'city': 'srednekolymsk', 'lat': 67.455497, 'lon': 153.7071456}, {'city': 'saint george', 'lat': 32.3763819, 'lon': -64.68926342528714}, {'city': 'hobart', 'lat': -42.8825088, 'lon': 147.3281233}, {'city': 'codrington', 'lat': 17.640463, 'lon': -61.8255199}, {'city': 'ushuaia', 'lat': -54.806115899999995, 'lon': -68.3184972880496}, {'city': 'ribeira grande', 'lat': 37.8225227, 'lon': -25.5194914}, {'city': 'rolim de moura', 'lat': -11.727071, 'lon': -61.771411}, {'city': 'rosaryville', 'lat': 38.7698662, 'lon': -76.8219551245767}, {'city': 'lagoa', 'lat': 37.13258125, 'lon': -8.45505094811731}, {'city': 'hamilton', 'lat': 32.2956076, 'lon': -64.7827048}, {'city': 'patos', 'lat': -7.0258285, 'lon': -37.2766817}]\n",
      "<citipy.citipy.City object at 0x7fba2e25f790> sao gabriel da cachoeira br\n"
     ]
    },
    {
     "name": "stdout",
     "output_type": "stream",
     "text": [
      "[{'city': 'vanimo', 'lat': -2.6847646, 'lon': 141.3009131}, {'city': 'albany', 'lat': -35.0247822, 'lon': 117.883608}, {'city': 'mar del plata', 'lat': -37.9977225, 'lon': -57.5482703}, {'city': 'saint george', 'lat': 32.3763819, 'lon': -64.68926342528714}, {'city': 'jiddah', 'lat': 21.5810088, 'lon': 39.1653612}, {'city': 'butaritari', 'lat': 2.9205375, 'lon': 172.91886331442205}, {'city': 'lebu', 'lat': -37.6099644, 'lon': -73.6559477}, {'city': 'minas', 'lat': -34.3773987, 'lon': -55.2382144}, {'city': 'hilo', 'lat': 19.7073734, 'lon': -155.08158}, {'city': 'butaritari', 'lat': 2.9205375, 'lon': 172.91886331442205}, {'city': 'leningradskiy', 'lat': 54.129108, 'lon': 79.236702}, {'city': 'vardo', 'lat': 70.3308174, 'lon': 30.961751972265887}, {'city': 'illoqqortoormiut', 'lat': 70.4850588, 'lon': -21.9641992}, {'city': 'odweyne', 'lat': 9.40701, 'lon': 45.06358}, {'city': 'chake chake', 'lat': -5.2440346, 'lon': 39.7685075}, {'city': 'bredasdorp', 'lat': -34.533055, 'lon': 20.042778}, {'city': 'jamestown', 'lat': -15.9277296, 'lon': -5.7160872}, {'city': 'punta arenas', 'lat': -53.1625688, 'lon': -70.907822}, {'city': 'rantepao', 'lat': -2.9704575, 'lon': 119.8987167}, {'city': 'wynyard', 'lat': 51.766667, 'lon': -104.183333}, {'city': 'esil', 'lat': 51.9601511, 'lon': 66.4088826}, {'city': 'khandyga', 'lat': 62.6477939, 'lon': 135.5750942}, {'city': 'norman wells', 'lat': 65.282401, 'lon': -126.832725}, {'city': 'attawapiskat', 'lat': 52.9244075, 'lon': -82.4270112}, {'city': 'matay', 'lat': 28.4176905, 'lon': 30.7861579}, {'city': 'novopavlovka', 'lat': 49.113228, 'lon': 41.036873}, {'city': 'nizhneyansk', 'lat': 71.440445, 'lon': 136.130646}, {'city': 'hilo', 'lat': 19.7073734, 'lon': -155.08158}, {'city': 'belushya guba', 'lat': 71.5376984, 'lon': 52.3427343}, {'city': 'bykovo', 'lat': 55.6311596, 'lon': 38.0761816}, {'city': 'mar del plata', 'lat': -37.9977225, 'lon': -57.5482703}, {'city': 'illoqqortoormiut', 'lat': 70.4850588, 'lon': -21.9641992}, {'city': 'busselton', 'lat': -33.644499, 'lon': 115.3488754}, {'city': 'hermanus', 'lat': -34.4175, 'lon': 19.2361111}, {'city': 'umm kaddadah', 'lat': 13.6002208, 'lon': 26.6892786}, {'city': 'qaanaaq', 'lat': 77.4686357, 'lon': -69.2222746}, {'city': 'ushuaia', 'lat': -54.806115899999995, 'lon': -68.3184972880496}, {'city': 'luwuk', 'lat': -0.9528231, 'lon': 122.7880198}, {'city': 'illoqqortoormiut', 'lat': 70.4850588, 'lon': -21.9641992}, {'city': 'punta arenas', 'lat': -53.1625688, 'lon': -70.907822}, {'city': 'hilo', 'lat': 19.7073734, 'lon': -155.08158}, {'city': 'marcona', 'lat': -15.2155331, 'lon': -75.08303444567473}, {'city': 'siloam springs', 'lat': 36.1881365, 'lon': -94.5404962}, {'city': 'tsihombe', 'lat': -25.318547, 'lon': 45.484057}, {'city': 'bambey', 'lat': 14.69548, 'lon': -16.449262}, {'city': 'hobart', 'lat': -42.8825088, 'lon': 147.3281233}, {'city': 'vaini', 'lat': -21.1925671, 'lon': -175.1772797}, {'city': 'urumqi', 'lat': 43.419754, 'lon': 87.319461}, {'city': 'port alfred', 'lat': -33.5981844, 'lon': 26.8914772}, {'city': 'skagastrond', 'lat': 65.8233244, 'lon': -20.3005642}, {'city': 'port blair', 'lat': 11.6645348, 'lon': 92.7390448}, {'city': 'hithadhoo', 'lat': 1.7959425, 'lon': 73.38755195657038}, {'city': 'dikson', 'lat': 73.5083894, 'lon': 80.5123816}, {'city': 'georgetown', 'lat': -7.9289722, 'lon': -14.4133993}, {'city': 'coquimbo', 'lat': -29.9531928, 'lon': -71.3379884}, {'city': 'thompson', 'lat': 55.743347, 'lon': -97.863464}, {'city': 'rankovce', 'lat': 42.1686201, 'lon': 22.1165518}, {'city': 'dunedin', 'lat': -45.8740984, 'lon': 170.5035755}, {'city': 'busselton', 'lat': -33.644499, 'lon': 115.3488754}, {'city': 'puerto ayora', 'lat': -0.7471674, 'lon': -90.3134198}, {'city': 'muscat', 'lat': 23.61515, 'lon': 58.5912467}, {'city': 'cabo san lucas', 'lat': 22.8938884, 'lon': -109.9200604}, {'city': 'airai', 'lat': 7.3599342, 'lon': 134.5601154}, {'city': 'carnarvon', 'lat': -24.8826131, 'lon': 113.6576486}, {'city': 'quesnel', 'lat': 52.9794279, 'lon': -122.493627}, {'city': 'langsa', 'lat': 4.4730892, 'lon': 97.9681841}, {'city': 'srednekolymsk', 'lat': 67.455497, 'lon': 153.7071456}, {'city': 'saint george', 'lat': 32.3763819, 'lon': -64.68926342528714}, {'city': 'hobart', 'lat': -42.8825088, 'lon': 147.3281233}, {'city': 'codrington', 'lat': 17.640463, 'lon': -61.8255199}, {'city': 'ushuaia', 'lat': -54.806115899999995, 'lon': -68.3184972880496}, {'city': 'ribeira grande', 'lat': 37.8225227, 'lon': -25.5194914}, {'city': 'rolim de moura', 'lat': -11.727071, 'lon': -61.771411}, {'city': 'rosaryville', 'lat': 38.7698662, 'lon': -76.8219551245767}, {'city': 'lagoa', 'lat': 37.13258125, 'lon': -8.45505094811731}, {'city': 'hamilton', 'lat': 32.2956076, 'lon': -64.7827048}, {'city': 'patos', 'lat': -7.0258285, 'lon': -37.2766817}, {'city': 'sao gabriel da cachoeira', 'lat': -0.1249715, 'lon': -67.0813855}]\n",
      "<citipy.citipy.City object at 0x7fba2e8729b0> ilulissat gl\n",
      "[{'city': 'vanimo', 'lat': -2.6847646, 'lon': 141.3009131}, {'city': 'albany', 'lat': -35.0247822, 'lon': 117.883608}, {'city': 'mar del plata', 'lat': -37.9977225, 'lon': -57.5482703}, {'city': 'saint george', 'lat': 32.3763819, 'lon': -64.68926342528714}, {'city': 'jiddah', 'lat': 21.5810088, 'lon': 39.1653612}, {'city': 'butaritari', 'lat': 2.9205375, 'lon': 172.91886331442205}, {'city': 'lebu', 'lat': -37.6099644, 'lon': -73.6559477}, {'city': 'minas', 'lat': -34.3773987, 'lon': -55.2382144}, {'city': 'hilo', 'lat': 19.7073734, 'lon': -155.08158}, {'city': 'butaritari', 'lat': 2.9205375, 'lon': 172.91886331442205}, {'city': 'leningradskiy', 'lat': 54.129108, 'lon': 79.236702}, {'city': 'vardo', 'lat': 70.3308174, 'lon': 30.961751972265887}, {'city': 'illoqqortoormiut', 'lat': 70.4850588, 'lon': -21.9641992}, {'city': 'odweyne', 'lat': 9.40701, 'lon': 45.06358}, {'city': 'chake chake', 'lat': -5.2440346, 'lon': 39.7685075}, {'city': 'bredasdorp', 'lat': -34.533055, 'lon': 20.042778}, {'city': 'jamestown', 'lat': -15.9277296, 'lon': -5.7160872}, {'city': 'punta arenas', 'lat': -53.1625688, 'lon': -70.907822}, {'city': 'rantepao', 'lat': -2.9704575, 'lon': 119.8987167}, {'city': 'wynyard', 'lat': 51.766667, 'lon': -104.183333}, {'city': 'esil', 'lat': 51.9601511, 'lon': 66.4088826}, {'city': 'khandyga', 'lat': 62.6477939, 'lon': 135.5750942}, {'city': 'norman wells', 'lat': 65.282401, 'lon': -126.832725}, {'city': 'attawapiskat', 'lat': 52.9244075, 'lon': -82.4270112}, {'city': 'matay', 'lat': 28.4176905, 'lon': 30.7861579}, {'city': 'novopavlovka', 'lat': 49.113228, 'lon': 41.036873}, {'city': 'nizhneyansk', 'lat': 71.440445, 'lon': 136.130646}, {'city': 'hilo', 'lat': 19.7073734, 'lon': -155.08158}, {'city': 'belushya guba', 'lat': 71.5376984, 'lon': 52.3427343}, {'city': 'bykovo', 'lat': 55.6311596, 'lon': 38.0761816}, {'city': 'mar del plata', 'lat': -37.9977225, 'lon': -57.5482703}, {'city': 'illoqqortoormiut', 'lat': 70.4850588, 'lon': -21.9641992}, {'city': 'busselton', 'lat': -33.644499, 'lon': 115.3488754}, {'city': 'hermanus', 'lat': -34.4175, 'lon': 19.2361111}, {'city': 'umm kaddadah', 'lat': 13.6002208, 'lon': 26.6892786}, {'city': 'qaanaaq', 'lat': 77.4686357, 'lon': -69.2222746}, {'city': 'ushuaia', 'lat': -54.806115899999995, 'lon': -68.3184972880496}, {'city': 'luwuk', 'lat': -0.9528231, 'lon': 122.7880198}, {'city': 'illoqqortoormiut', 'lat': 70.4850588, 'lon': -21.9641992}, {'city': 'punta arenas', 'lat': -53.1625688, 'lon': -70.907822}, {'city': 'hilo', 'lat': 19.7073734, 'lon': -155.08158}, {'city': 'marcona', 'lat': -15.2155331, 'lon': -75.08303444567473}, {'city': 'siloam springs', 'lat': 36.1881365, 'lon': -94.5404962}, {'city': 'tsihombe', 'lat': -25.318547, 'lon': 45.484057}, {'city': 'bambey', 'lat': 14.69548, 'lon': -16.449262}, {'city': 'hobart', 'lat': -42.8825088, 'lon': 147.3281233}, {'city': 'vaini', 'lat': -21.1925671, 'lon': -175.1772797}, {'city': 'urumqi', 'lat': 43.419754, 'lon': 87.319461}, {'city': 'port alfred', 'lat': -33.5981844, 'lon': 26.8914772}, {'city': 'skagastrond', 'lat': 65.8233244, 'lon': -20.3005642}, {'city': 'port blair', 'lat': 11.6645348, 'lon': 92.7390448}, {'city': 'hithadhoo', 'lat': 1.7959425, 'lon': 73.38755195657038}, {'city': 'dikson', 'lat': 73.5083894, 'lon': 80.5123816}, {'city': 'georgetown', 'lat': -7.9289722, 'lon': -14.4133993}, {'city': 'coquimbo', 'lat': -29.9531928, 'lon': -71.3379884}, {'city': 'thompson', 'lat': 55.743347, 'lon': -97.863464}, {'city': 'rankovce', 'lat': 42.1686201, 'lon': 22.1165518}, {'city': 'dunedin', 'lat': -45.8740984, 'lon': 170.5035755}, {'city': 'busselton', 'lat': -33.644499, 'lon': 115.3488754}, {'city': 'puerto ayora', 'lat': -0.7471674, 'lon': -90.3134198}, {'city': 'muscat', 'lat': 23.61515, 'lon': 58.5912467}, {'city': 'cabo san lucas', 'lat': 22.8938884, 'lon': -109.9200604}, {'city': 'airai', 'lat': 7.3599342, 'lon': 134.5601154}, {'city': 'carnarvon', 'lat': -24.8826131, 'lon': 113.6576486}, {'city': 'quesnel', 'lat': 52.9794279, 'lon': -122.493627}, {'city': 'langsa', 'lat': 4.4730892, 'lon': 97.9681841}, {'city': 'srednekolymsk', 'lat': 67.455497, 'lon': 153.7071456}, {'city': 'saint george', 'lat': 32.3763819, 'lon': -64.68926342528714}, {'city': 'hobart', 'lat': -42.8825088, 'lon': 147.3281233}, {'city': 'codrington', 'lat': 17.640463, 'lon': -61.8255199}, {'city': 'ushuaia', 'lat': -54.806115899999995, 'lon': -68.3184972880496}, {'city': 'ribeira grande', 'lat': 37.8225227, 'lon': -25.5194914}, {'city': 'rolim de moura', 'lat': -11.727071, 'lon': -61.771411}, {'city': 'rosaryville', 'lat': 38.7698662, 'lon': -76.8219551245767}, {'city': 'lagoa', 'lat': 37.13258125, 'lon': -8.45505094811731}, {'city': 'hamilton', 'lat': 32.2956076, 'lon': -64.7827048}, {'city': 'patos', 'lat': -7.0258285, 'lon': -37.2766817}, {'city': 'sao gabriel da cachoeira', 'lat': -0.1249715, 'lon': -67.0813855}, {'city': 'ilulissat', 'lat': 69.2197127, 'lon': -51.0986385}]\n",
      "<citipy.citipy.City object at 0x7fba2f4d2020> saint-philippe re\n"
     ]
    },
    {
     "name": "stdout",
     "output_type": "stream",
     "text": [
      "<citipy.citipy.City object at 0x7fba2fefcaf0> pietersburg za\n",
      "[{'city': 'vanimo', 'lat': -2.6847646, 'lon': 141.3009131}, {'city': 'albany', 'lat': -35.0247822, 'lon': 117.883608}, {'city': 'mar del plata', 'lat': -37.9977225, 'lon': -57.5482703}, {'city': 'saint george', 'lat': 32.3763819, 'lon': -64.68926342528714}, {'city': 'jiddah', 'lat': 21.5810088, 'lon': 39.1653612}, {'city': 'butaritari', 'lat': 2.9205375, 'lon': 172.91886331442205}, {'city': 'lebu', 'lat': -37.6099644, 'lon': -73.6559477}, {'city': 'minas', 'lat': -34.3773987, 'lon': -55.2382144}, {'city': 'hilo', 'lat': 19.7073734, 'lon': -155.08158}, {'city': 'butaritari', 'lat': 2.9205375, 'lon': 172.91886331442205}, {'city': 'leningradskiy', 'lat': 54.129108, 'lon': 79.236702}, {'city': 'vardo', 'lat': 70.3308174, 'lon': 30.961751972265887}, {'city': 'illoqqortoormiut', 'lat': 70.4850588, 'lon': -21.9641992}, {'city': 'odweyne', 'lat': 9.40701, 'lon': 45.06358}, {'city': 'chake chake', 'lat': -5.2440346, 'lon': 39.7685075}, {'city': 'bredasdorp', 'lat': -34.533055, 'lon': 20.042778}, {'city': 'jamestown', 'lat': -15.9277296, 'lon': -5.7160872}, {'city': 'punta arenas', 'lat': -53.1625688, 'lon': -70.907822}, {'city': 'rantepao', 'lat': -2.9704575, 'lon': 119.8987167}, {'city': 'wynyard', 'lat': 51.766667, 'lon': -104.183333}, {'city': 'esil', 'lat': 51.9601511, 'lon': 66.4088826}, {'city': 'khandyga', 'lat': 62.6477939, 'lon': 135.5750942}, {'city': 'norman wells', 'lat': 65.282401, 'lon': -126.832725}, {'city': 'attawapiskat', 'lat': 52.9244075, 'lon': -82.4270112}, {'city': 'matay', 'lat': 28.4176905, 'lon': 30.7861579}, {'city': 'novopavlovka', 'lat': 49.113228, 'lon': 41.036873}, {'city': 'nizhneyansk', 'lat': 71.440445, 'lon': 136.130646}, {'city': 'hilo', 'lat': 19.7073734, 'lon': -155.08158}, {'city': 'belushya guba', 'lat': 71.5376984, 'lon': 52.3427343}, {'city': 'bykovo', 'lat': 55.6311596, 'lon': 38.0761816}, {'city': 'mar del plata', 'lat': -37.9977225, 'lon': -57.5482703}, {'city': 'illoqqortoormiut', 'lat': 70.4850588, 'lon': -21.9641992}, {'city': 'busselton', 'lat': -33.644499, 'lon': 115.3488754}, {'city': 'hermanus', 'lat': -34.4175, 'lon': 19.2361111}, {'city': 'umm kaddadah', 'lat': 13.6002208, 'lon': 26.6892786}, {'city': 'qaanaaq', 'lat': 77.4686357, 'lon': -69.2222746}, {'city': 'ushuaia', 'lat': -54.806115899999995, 'lon': -68.3184972880496}, {'city': 'luwuk', 'lat': -0.9528231, 'lon': 122.7880198}, {'city': 'illoqqortoormiut', 'lat': 70.4850588, 'lon': -21.9641992}, {'city': 'punta arenas', 'lat': -53.1625688, 'lon': -70.907822}, {'city': 'hilo', 'lat': 19.7073734, 'lon': -155.08158}, {'city': 'marcona', 'lat': -15.2155331, 'lon': -75.08303444567473}, {'city': 'siloam springs', 'lat': 36.1881365, 'lon': -94.5404962}, {'city': 'tsihombe', 'lat': -25.318547, 'lon': 45.484057}, {'city': 'bambey', 'lat': 14.69548, 'lon': -16.449262}, {'city': 'hobart', 'lat': -42.8825088, 'lon': 147.3281233}, {'city': 'vaini', 'lat': -21.1925671, 'lon': -175.1772797}, {'city': 'urumqi', 'lat': 43.419754, 'lon': 87.319461}, {'city': 'port alfred', 'lat': -33.5981844, 'lon': 26.8914772}, {'city': 'skagastrond', 'lat': 65.8233244, 'lon': -20.3005642}, {'city': 'port blair', 'lat': 11.6645348, 'lon': 92.7390448}, {'city': 'hithadhoo', 'lat': 1.7959425, 'lon': 73.38755195657038}, {'city': 'dikson', 'lat': 73.5083894, 'lon': 80.5123816}, {'city': 'georgetown', 'lat': -7.9289722, 'lon': -14.4133993}, {'city': 'coquimbo', 'lat': -29.9531928, 'lon': -71.3379884}, {'city': 'thompson', 'lat': 55.743347, 'lon': -97.863464}, {'city': 'rankovce', 'lat': 42.1686201, 'lon': 22.1165518}, {'city': 'dunedin', 'lat': -45.8740984, 'lon': 170.5035755}, {'city': 'busselton', 'lat': -33.644499, 'lon': 115.3488754}, {'city': 'puerto ayora', 'lat': -0.7471674, 'lon': -90.3134198}, {'city': 'muscat', 'lat': 23.61515, 'lon': 58.5912467}, {'city': 'cabo san lucas', 'lat': 22.8938884, 'lon': -109.9200604}, {'city': 'airai', 'lat': 7.3599342, 'lon': 134.5601154}, {'city': 'carnarvon', 'lat': -24.8826131, 'lon': 113.6576486}, {'city': 'quesnel', 'lat': 52.9794279, 'lon': -122.493627}, {'city': 'langsa', 'lat': 4.4730892, 'lon': 97.9681841}, {'city': 'srednekolymsk', 'lat': 67.455497, 'lon': 153.7071456}, {'city': 'saint george', 'lat': 32.3763819, 'lon': -64.68926342528714}, {'city': 'hobart', 'lat': -42.8825088, 'lon': 147.3281233}, {'city': 'codrington', 'lat': 17.640463, 'lon': -61.8255199}, {'city': 'ushuaia', 'lat': -54.806115899999995, 'lon': -68.3184972880496}, {'city': 'ribeira grande', 'lat': 37.8225227, 'lon': -25.5194914}, {'city': 'rolim de moura', 'lat': -11.727071, 'lon': -61.771411}, {'city': 'rosaryville', 'lat': 38.7698662, 'lon': -76.8219551245767}, {'city': 'lagoa', 'lat': 37.13258125, 'lon': -8.45505094811731}, {'city': 'hamilton', 'lat': 32.2956076, 'lon': -64.7827048}, {'city': 'patos', 'lat': -7.0258285, 'lon': -37.2766817}, {'city': 'sao gabriel da cachoeira', 'lat': -0.1249715, 'lon': -67.0813855}, {'city': 'ilulissat', 'lat': 69.2197127, 'lon': -51.0986385}, {'city': 'pietersburg', 'lat': -23.9058333, 'lon': 29.4613889}]\n",
      "<citipy.citipy.City object at 0x7fba2edff970> awjilah ly\n",
      "[{'city': 'vanimo', 'lat': -2.6847646, 'lon': 141.3009131}, {'city': 'albany', 'lat': -35.0247822, 'lon': 117.883608}, {'city': 'mar del plata', 'lat': -37.9977225, 'lon': -57.5482703}, {'city': 'saint george', 'lat': 32.3763819, 'lon': -64.68926342528714}, {'city': 'jiddah', 'lat': 21.5810088, 'lon': 39.1653612}, {'city': 'butaritari', 'lat': 2.9205375, 'lon': 172.91886331442205}, {'city': 'lebu', 'lat': -37.6099644, 'lon': -73.6559477}, {'city': 'minas', 'lat': -34.3773987, 'lon': -55.2382144}, {'city': 'hilo', 'lat': 19.7073734, 'lon': -155.08158}, {'city': 'butaritari', 'lat': 2.9205375, 'lon': 172.91886331442205}, {'city': 'leningradskiy', 'lat': 54.129108, 'lon': 79.236702}, {'city': 'vardo', 'lat': 70.3308174, 'lon': 30.961751972265887}, {'city': 'illoqqortoormiut', 'lat': 70.4850588, 'lon': -21.9641992}, {'city': 'odweyne', 'lat': 9.40701, 'lon': 45.06358}, {'city': 'chake chake', 'lat': -5.2440346, 'lon': 39.7685075}, {'city': 'bredasdorp', 'lat': -34.533055, 'lon': 20.042778}, {'city': 'jamestown', 'lat': -15.9277296, 'lon': -5.7160872}, {'city': 'punta arenas', 'lat': -53.1625688, 'lon': -70.907822}, {'city': 'rantepao', 'lat': -2.9704575, 'lon': 119.8987167}, {'city': 'wynyard', 'lat': 51.766667, 'lon': -104.183333}, {'city': 'esil', 'lat': 51.9601511, 'lon': 66.4088826}, {'city': 'khandyga', 'lat': 62.6477939, 'lon': 135.5750942}, {'city': 'norman wells', 'lat': 65.282401, 'lon': -126.832725}, {'city': 'attawapiskat', 'lat': 52.9244075, 'lon': -82.4270112}, {'city': 'matay', 'lat': 28.4176905, 'lon': 30.7861579}, {'city': 'novopavlovka', 'lat': 49.113228, 'lon': 41.036873}, {'city': 'nizhneyansk', 'lat': 71.440445, 'lon': 136.130646}, {'city': 'hilo', 'lat': 19.7073734, 'lon': -155.08158}, {'city': 'belushya guba', 'lat': 71.5376984, 'lon': 52.3427343}, {'city': 'bykovo', 'lat': 55.6311596, 'lon': 38.0761816}, {'city': 'mar del plata', 'lat': -37.9977225, 'lon': -57.5482703}, {'city': 'illoqqortoormiut', 'lat': 70.4850588, 'lon': -21.9641992}, {'city': 'busselton', 'lat': -33.644499, 'lon': 115.3488754}, {'city': 'hermanus', 'lat': -34.4175, 'lon': 19.2361111}, {'city': 'umm kaddadah', 'lat': 13.6002208, 'lon': 26.6892786}, {'city': 'qaanaaq', 'lat': 77.4686357, 'lon': -69.2222746}, {'city': 'ushuaia', 'lat': -54.806115899999995, 'lon': -68.3184972880496}, {'city': 'luwuk', 'lat': -0.9528231, 'lon': 122.7880198}, {'city': 'illoqqortoormiut', 'lat': 70.4850588, 'lon': -21.9641992}, {'city': 'punta arenas', 'lat': -53.1625688, 'lon': -70.907822}, {'city': 'hilo', 'lat': 19.7073734, 'lon': -155.08158}, {'city': 'marcona', 'lat': -15.2155331, 'lon': -75.08303444567473}, {'city': 'siloam springs', 'lat': 36.1881365, 'lon': -94.5404962}, {'city': 'tsihombe', 'lat': -25.318547, 'lon': 45.484057}, {'city': 'bambey', 'lat': 14.69548, 'lon': -16.449262}, {'city': 'hobart', 'lat': -42.8825088, 'lon': 147.3281233}, {'city': 'vaini', 'lat': -21.1925671, 'lon': -175.1772797}, {'city': 'urumqi', 'lat': 43.419754, 'lon': 87.319461}, {'city': 'port alfred', 'lat': -33.5981844, 'lon': 26.8914772}, {'city': 'skagastrond', 'lat': 65.8233244, 'lon': -20.3005642}, {'city': 'port blair', 'lat': 11.6645348, 'lon': 92.7390448}, {'city': 'hithadhoo', 'lat': 1.7959425, 'lon': 73.38755195657038}, {'city': 'dikson', 'lat': 73.5083894, 'lon': 80.5123816}, {'city': 'georgetown', 'lat': -7.9289722, 'lon': -14.4133993}, {'city': 'coquimbo', 'lat': -29.9531928, 'lon': -71.3379884}, {'city': 'thompson', 'lat': 55.743347, 'lon': -97.863464}, {'city': 'rankovce', 'lat': 42.1686201, 'lon': 22.1165518}, {'city': 'dunedin', 'lat': -45.8740984, 'lon': 170.5035755}, {'city': 'busselton', 'lat': -33.644499, 'lon': 115.3488754}, {'city': 'puerto ayora', 'lat': -0.7471674, 'lon': -90.3134198}, {'city': 'muscat', 'lat': 23.61515, 'lon': 58.5912467}, {'city': 'cabo san lucas', 'lat': 22.8938884, 'lon': -109.9200604}, {'city': 'airai', 'lat': 7.3599342, 'lon': 134.5601154}, {'city': 'carnarvon', 'lat': -24.8826131, 'lon': 113.6576486}, {'city': 'quesnel', 'lat': 52.9794279, 'lon': -122.493627}, {'city': 'langsa', 'lat': 4.4730892, 'lon': 97.9681841}, {'city': 'srednekolymsk', 'lat': 67.455497, 'lon': 153.7071456}, {'city': 'saint george', 'lat': 32.3763819, 'lon': -64.68926342528714}, {'city': 'hobart', 'lat': -42.8825088, 'lon': 147.3281233}, {'city': 'codrington', 'lat': 17.640463, 'lon': -61.8255199}, {'city': 'ushuaia', 'lat': -54.806115899999995, 'lon': -68.3184972880496}, {'city': 'ribeira grande', 'lat': 37.8225227, 'lon': -25.5194914}, {'city': 'rolim de moura', 'lat': -11.727071, 'lon': -61.771411}, {'city': 'rosaryville', 'lat': 38.7698662, 'lon': -76.8219551245767}, {'city': 'lagoa', 'lat': 37.13258125, 'lon': -8.45505094811731}, {'city': 'hamilton', 'lat': 32.2956076, 'lon': -64.7827048}, {'city': 'patos', 'lat': -7.0258285, 'lon': -37.2766817}, {'city': 'sao gabriel da cachoeira', 'lat': -0.1249715, 'lon': -67.0813855}, {'city': 'ilulissat', 'lat': 69.2197127, 'lon': -51.0986385}, {'city': 'pietersburg', 'lat': -23.9058333, 'lon': 29.4613889}, {'city': 'awjilah', 'lat': 29.140278, 'lon': 21.2975}]\n",
      "<citipy.citipy.City object at 0x7fba2e2fa410> saint anthony ca\n",
      "<citipy.citipy.City object at 0x7fba2e371300> punta arenas cl\n",
      "[{'city': 'vanimo', 'lat': -2.6847646, 'lon': 141.3009131}, {'city': 'albany', 'lat': -35.0247822, 'lon': 117.883608}, {'city': 'mar del plata', 'lat': -37.9977225, 'lon': -57.5482703}, {'city': 'saint george', 'lat': 32.3763819, 'lon': -64.68926342528714}, {'city': 'jiddah', 'lat': 21.5810088, 'lon': 39.1653612}, {'city': 'butaritari', 'lat': 2.9205375, 'lon': 172.91886331442205}, {'city': 'lebu', 'lat': -37.6099644, 'lon': -73.6559477}, {'city': 'minas', 'lat': -34.3773987, 'lon': -55.2382144}, {'city': 'hilo', 'lat': 19.7073734, 'lon': -155.08158}, {'city': 'butaritari', 'lat': 2.9205375, 'lon': 172.91886331442205}, {'city': 'leningradskiy', 'lat': 54.129108, 'lon': 79.236702}, {'city': 'vardo', 'lat': 70.3308174, 'lon': 30.961751972265887}, {'city': 'illoqqortoormiut', 'lat': 70.4850588, 'lon': -21.9641992}, {'city': 'odweyne', 'lat': 9.40701, 'lon': 45.06358}, {'city': 'chake chake', 'lat': -5.2440346, 'lon': 39.7685075}, {'city': 'bredasdorp', 'lat': -34.533055, 'lon': 20.042778}, {'city': 'jamestown', 'lat': -15.9277296, 'lon': -5.7160872}, {'city': 'punta arenas', 'lat': -53.1625688, 'lon': -70.907822}, {'city': 'rantepao', 'lat': -2.9704575, 'lon': 119.8987167}, {'city': 'wynyard', 'lat': 51.766667, 'lon': -104.183333}, {'city': 'esil', 'lat': 51.9601511, 'lon': 66.4088826}, {'city': 'khandyga', 'lat': 62.6477939, 'lon': 135.5750942}, {'city': 'norman wells', 'lat': 65.282401, 'lon': -126.832725}, {'city': 'attawapiskat', 'lat': 52.9244075, 'lon': -82.4270112}, {'city': 'matay', 'lat': 28.4176905, 'lon': 30.7861579}, {'city': 'novopavlovka', 'lat': 49.113228, 'lon': 41.036873}, {'city': 'nizhneyansk', 'lat': 71.440445, 'lon': 136.130646}, {'city': 'hilo', 'lat': 19.7073734, 'lon': -155.08158}, {'city': 'belushya guba', 'lat': 71.5376984, 'lon': 52.3427343}, {'city': 'bykovo', 'lat': 55.6311596, 'lon': 38.0761816}, {'city': 'mar del plata', 'lat': -37.9977225, 'lon': -57.5482703}, {'city': 'illoqqortoormiut', 'lat': 70.4850588, 'lon': -21.9641992}, {'city': 'busselton', 'lat': -33.644499, 'lon': 115.3488754}, {'city': 'hermanus', 'lat': -34.4175, 'lon': 19.2361111}, {'city': 'umm kaddadah', 'lat': 13.6002208, 'lon': 26.6892786}, {'city': 'qaanaaq', 'lat': 77.4686357, 'lon': -69.2222746}, {'city': 'ushuaia', 'lat': -54.806115899999995, 'lon': -68.3184972880496}, {'city': 'luwuk', 'lat': -0.9528231, 'lon': 122.7880198}, {'city': 'illoqqortoormiut', 'lat': 70.4850588, 'lon': -21.9641992}, {'city': 'punta arenas', 'lat': -53.1625688, 'lon': -70.907822}, {'city': 'hilo', 'lat': 19.7073734, 'lon': -155.08158}, {'city': 'marcona', 'lat': -15.2155331, 'lon': -75.08303444567473}, {'city': 'siloam springs', 'lat': 36.1881365, 'lon': -94.5404962}, {'city': 'tsihombe', 'lat': -25.318547, 'lon': 45.484057}, {'city': 'bambey', 'lat': 14.69548, 'lon': -16.449262}, {'city': 'hobart', 'lat': -42.8825088, 'lon': 147.3281233}, {'city': 'vaini', 'lat': -21.1925671, 'lon': -175.1772797}, {'city': 'urumqi', 'lat': 43.419754, 'lon': 87.319461}, {'city': 'port alfred', 'lat': -33.5981844, 'lon': 26.8914772}, {'city': 'skagastrond', 'lat': 65.8233244, 'lon': -20.3005642}, {'city': 'port blair', 'lat': 11.6645348, 'lon': 92.7390448}, {'city': 'hithadhoo', 'lat': 1.7959425, 'lon': 73.38755195657038}, {'city': 'dikson', 'lat': 73.5083894, 'lon': 80.5123816}, {'city': 'georgetown', 'lat': -7.9289722, 'lon': -14.4133993}, {'city': 'coquimbo', 'lat': -29.9531928, 'lon': -71.3379884}, {'city': 'thompson', 'lat': 55.743347, 'lon': -97.863464}, {'city': 'rankovce', 'lat': 42.1686201, 'lon': 22.1165518}, {'city': 'dunedin', 'lat': -45.8740984, 'lon': 170.5035755}, {'city': 'busselton', 'lat': -33.644499, 'lon': 115.3488754}, {'city': 'puerto ayora', 'lat': -0.7471674, 'lon': -90.3134198}, {'city': 'muscat', 'lat': 23.61515, 'lon': 58.5912467}, {'city': 'cabo san lucas', 'lat': 22.8938884, 'lon': -109.9200604}, {'city': 'airai', 'lat': 7.3599342, 'lon': 134.5601154}, {'city': 'carnarvon', 'lat': -24.8826131, 'lon': 113.6576486}, {'city': 'quesnel', 'lat': 52.9794279, 'lon': -122.493627}, {'city': 'langsa', 'lat': 4.4730892, 'lon': 97.9681841}, {'city': 'srednekolymsk', 'lat': 67.455497, 'lon': 153.7071456}, {'city': 'saint george', 'lat': 32.3763819, 'lon': -64.68926342528714}, {'city': 'hobart', 'lat': -42.8825088, 'lon': 147.3281233}, {'city': 'codrington', 'lat': 17.640463, 'lon': -61.8255199}, {'city': 'ushuaia', 'lat': -54.806115899999995, 'lon': -68.3184972880496}, {'city': 'ribeira grande', 'lat': 37.8225227, 'lon': -25.5194914}, {'city': 'rolim de moura', 'lat': -11.727071, 'lon': -61.771411}, {'city': 'rosaryville', 'lat': 38.7698662, 'lon': -76.8219551245767}, {'city': 'lagoa', 'lat': 37.13258125, 'lon': -8.45505094811731}, {'city': 'hamilton', 'lat': 32.2956076, 'lon': -64.7827048}, {'city': 'patos', 'lat': -7.0258285, 'lon': -37.2766817}, {'city': 'sao gabriel da cachoeira', 'lat': -0.1249715, 'lon': -67.0813855}, {'city': 'ilulissat', 'lat': 69.2197127, 'lon': -51.0986385}, {'city': 'pietersburg', 'lat': -23.9058333, 'lon': 29.4613889}, {'city': 'awjilah', 'lat': 29.140278, 'lon': 21.2975}, {'city': 'punta arenas', 'lat': -53.1625688, 'lon': -70.907822}]\n",
      "<citipy.citipy.City object at 0x7fba2e2c7fa0> grand centre ca\n"
     ]
    }
   ],
   "source": [
    "\n",
    "# Dependencies and Setup\n",
    "cities = []\n",
    "\n",
    "# Range of latitudes and longitudes\n",
    "lat_range = (-90, 90)\n",
    "lng_range = (-180, 180)\n",
    "\n",
    "# Create a set of random lat and lng combinations\n",
    "lats = np.random.uniform(lat_range[0], lat_range[1], size=1500)\n",
    "lngs = np.random.uniform(lng_range[0], lng_range[1], size=1500)\n",
    "lat_lngs = zip(lats, lngs)\n",
    "lat_lngs=list(lat_lngs)\n",
    "\n",
    "# Identify nearest city for each lat, lng combination\n",
    "for idx,lat_lng in enumerate(lat_lngs[0:100]):\n",
    "    city = citipy.nearest_city(lat_lng[0], lat_lng[1])\n",
    "    print(city, city.city_name, city.country_code)\n",
    "    city_name=city.city_name\n",
    "    country_code=city.country_code\n",
    "    location = rq.get(f'http://api.openweathermap.org/geo/1.0/direct?q={city_name},{country_code} \\\n",
    "    &appid={api_keys.weather_api_key}')\n",
    "    location=location.json()\n",
    "    try:\n",
    "        cities.append({\"city\": city_name,'lat':location[0]['lat'],'lon':location[0]['lon']})\n",
    "    except:\n",
    "        continue\n",
    "    print(cities)\n"
   ]
  },
  {
   "cell_type": "code",
   "execution_count": 10,
   "metadata": {},
   "outputs": [],
   "source": [
    "#%pip install geopy"
   ]
  },
  {
   "cell_type": "code",
   "execution_count": 11,
   "metadata": {},
   "outputs": [],
   "source": [
    "#pip install citipy"
   ]
  },
  {
   "cell_type": "markdown",
   "metadata": {},
   "source": [
    "### Generate the Cities List by Using the `citipy` Library"
   ]
  },
  {
   "cell_type": "code",
   "execution_count": 12,
   "metadata": {},
   "outputs": [
    {
     "name": "stdout",
     "output_type": "stream",
     "text": [
      "[{'city': 'vanimo', 'lat': -2.6847646, 'lon': 141.3009131}, {'city': 'albany', 'lat': -35.0247822, 'lon': 117.883608}, {'city': 'mar del plata', 'lat': -37.9977225, 'lon': -57.5482703}, {'city': 'saint george', 'lat': 32.3763819, 'lon': -64.68926342528714}, {'city': 'jiddah', 'lat': 21.5810088, 'lon': 39.1653612}, {'city': 'butaritari', 'lat': 2.9205375, 'lon': 172.91886331442205}, {'city': 'lebu', 'lat': -37.6099644, 'lon': -73.6559477}, {'city': 'minas', 'lat': -34.3773987, 'lon': -55.2382144}, {'city': 'hilo', 'lat': 19.7073734, 'lon': -155.08158}, {'city': 'butaritari', 'lat': 2.9205375, 'lon': 172.91886331442205}, {'city': 'leningradskiy', 'lat': 54.129108, 'lon': 79.236702}, {'city': 'vardo', 'lat': 70.3308174, 'lon': 30.961751972265887}, {'city': 'illoqqortoormiut', 'lat': 70.4850588, 'lon': -21.9641992}, {'city': 'odweyne', 'lat': 9.40701, 'lon': 45.06358}, {'city': 'chake chake', 'lat': -5.2440346, 'lon': 39.7685075}, {'city': 'bredasdorp', 'lat': -34.533055, 'lon': 20.042778}, {'city': 'jamestown', 'lat': -15.9277296, 'lon': -5.7160872}, {'city': 'punta arenas', 'lat': -53.1625688, 'lon': -70.907822}, {'city': 'rantepao', 'lat': -2.9704575, 'lon': 119.8987167}, {'city': 'wynyard', 'lat': 51.766667, 'lon': -104.183333}, {'city': 'esil', 'lat': 51.9601511, 'lon': 66.4088826}, {'city': 'khandyga', 'lat': 62.6477939, 'lon': 135.5750942}, {'city': 'norman wells', 'lat': 65.282401, 'lon': -126.832725}, {'city': 'attawapiskat', 'lat': 52.9244075, 'lon': -82.4270112}, {'city': 'matay', 'lat': 28.4176905, 'lon': 30.7861579}, {'city': 'novopavlovka', 'lat': 49.113228, 'lon': 41.036873}, {'city': 'nizhneyansk', 'lat': 71.440445, 'lon': 136.130646}, {'city': 'hilo', 'lat': 19.7073734, 'lon': -155.08158}, {'city': 'belushya guba', 'lat': 71.5376984, 'lon': 52.3427343}, {'city': 'bykovo', 'lat': 55.6311596, 'lon': 38.0761816}, {'city': 'mar del plata', 'lat': -37.9977225, 'lon': -57.5482703}, {'city': 'illoqqortoormiut', 'lat': 70.4850588, 'lon': -21.9641992}, {'city': 'busselton', 'lat': -33.644499, 'lon': 115.3488754}, {'city': 'hermanus', 'lat': -34.4175, 'lon': 19.2361111}, {'city': 'umm kaddadah', 'lat': 13.6002208, 'lon': 26.6892786}, {'city': 'qaanaaq', 'lat': 77.4686357, 'lon': -69.2222746}, {'city': 'ushuaia', 'lat': -54.806115899999995, 'lon': -68.3184972880496}, {'city': 'luwuk', 'lat': -0.9528231, 'lon': 122.7880198}, {'city': 'illoqqortoormiut', 'lat': 70.4850588, 'lon': -21.9641992}, {'city': 'punta arenas', 'lat': -53.1625688, 'lon': -70.907822}, {'city': 'hilo', 'lat': 19.7073734, 'lon': -155.08158}, {'city': 'marcona', 'lat': -15.2155331, 'lon': -75.08303444567473}, {'city': 'siloam springs', 'lat': 36.1881365, 'lon': -94.5404962}, {'city': 'tsihombe', 'lat': -25.318547, 'lon': 45.484057}, {'city': 'bambey', 'lat': 14.69548, 'lon': -16.449262}, {'city': 'hobart', 'lat': -42.8825088, 'lon': 147.3281233}, {'city': 'vaini', 'lat': -21.1925671, 'lon': -175.1772797}, {'city': 'urumqi', 'lat': 43.419754, 'lon': 87.319461}, {'city': 'port alfred', 'lat': -33.5981844, 'lon': 26.8914772}, {'city': 'skagastrond', 'lat': 65.8233244, 'lon': -20.3005642}, {'city': 'port blair', 'lat': 11.6645348, 'lon': 92.7390448}, {'city': 'hithadhoo', 'lat': 1.7959425, 'lon': 73.38755195657038}, {'city': 'dikson', 'lat': 73.5083894, 'lon': 80.5123816}, {'city': 'georgetown', 'lat': -7.9289722, 'lon': -14.4133993}, {'city': 'coquimbo', 'lat': -29.9531928, 'lon': -71.3379884}, {'city': 'thompson', 'lat': 55.743347, 'lon': -97.863464}, {'city': 'rankovce', 'lat': 42.1686201, 'lon': 22.1165518}, {'city': 'dunedin', 'lat': -45.8740984, 'lon': 170.5035755}, {'city': 'busselton', 'lat': -33.644499, 'lon': 115.3488754}, {'city': 'puerto ayora', 'lat': -0.7471674, 'lon': -90.3134198}, {'city': 'muscat', 'lat': 23.61515, 'lon': 58.5912467}, {'city': 'cabo san lucas', 'lat': 22.8938884, 'lon': -109.9200604}, {'city': 'airai', 'lat': 7.3599342, 'lon': 134.5601154}, {'city': 'carnarvon', 'lat': -24.8826131, 'lon': 113.6576486}, {'city': 'quesnel', 'lat': 52.9794279, 'lon': -122.493627}, {'city': 'langsa', 'lat': 4.4730892, 'lon': 97.9681841}, {'city': 'srednekolymsk', 'lat': 67.455497, 'lon': 153.7071456}, {'city': 'saint george', 'lat': 32.3763819, 'lon': -64.68926342528714}, {'city': 'hobart', 'lat': -42.8825088, 'lon': 147.3281233}, {'city': 'codrington', 'lat': 17.640463, 'lon': -61.8255199}, {'city': 'ushuaia', 'lat': -54.806115899999995, 'lon': -68.3184972880496}, {'city': 'ribeira grande', 'lat': 37.8225227, 'lon': -25.5194914}, {'city': 'rolim de moura', 'lat': -11.727071, 'lon': -61.771411}, {'city': 'rosaryville', 'lat': 38.7698662, 'lon': -76.8219551245767}, {'city': 'lagoa', 'lat': 37.13258125, 'lon': -8.45505094811731}, {'city': 'hamilton', 'lat': 32.2956076, 'lon': -64.7827048}, {'city': 'patos', 'lat': -7.0258285, 'lon': -37.2766817}, {'city': 'sao gabriel da cachoeira', 'lat': -0.1249715, 'lon': -67.0813855}, {'city': 'ilulissat', 'lat': 69.2197127, 'lon': -51.0986385}, {'city': 'pietersburg', 'lat': -23.9058333, 'lon': 29.4613889}, {'city': 'awjilah', 'lat': 29.140278, 'lon': 21.2975}, {'city': 'punta arenas', 'lat': -53.1625688, 'lon': -70.907822}]\n"
     ]
    }
   ],
   "source": [
    "print(cities)"
   ]
  },
  {
   "cell_type": "markdown",
   "metadata": {},
   "source": [
    "---"
   ]
  },
  {
   "cell_type": "markdown",
   "metadata": {},
   "source": [
    "## Requirement 1: Create Plots to Showcase the Relationship Between Weather Variables and Latitude\n",
    "\n",
    "### Use the OpenWeatherMap API to retrieve weather data from the cities list generated in the started code"
   ]
  },
  {
   "cell_type": "code",
   "execution_count": 13,
   "metadata": {},
   "outputs": [
    {
     "name": "stdout",
     "output_type": "stream",
     "text": [
      "Beginning Data Retrieval     \n",
      "-----------------------------\n",
      "Processing Record 1 of Set 1 | {'city': 'vanimo', 'lat': -2.6847646, 'lon': 141.3009131}\n",
      "-2.6848\n",
      "Processing Record 2 of Set 1 | {'city': 'albany', 'lat': -35.0247822, 'lon': 117.883608}\n",
      "-35.0248\n",
      "Processing Record 3 of Set 1 | {'city': 'mar del plata', 'lat': -37.9977225, 'lon': -57.5482703}\n",
      "-37.9977\n",
      "Processing Record 4 of Set 1 | {'city': 'saint george', 'lat': 32.3763819, 'lon': -64.68926342528714}\n",
      "32.3764\n",
      "Processing Record 5 of Set 1 | {'city': 'jiddah', 'lat': 21.5810088, 'lon': 39.1653612}\n",
      "21.581\n",
      "Processing Record 6 of Set 1 | {'city': 'butaritari', 'lat': 2.9205375, 'lon': 172.91886331442205}\n",
      "2.9205\n",
      "Processing Record 7 of Set 1 | {'city': 'lebu', 'lat': -37.6099644, 'lon': -73.6559477}\n",
      "-37.61\n",
      "Processing Record 8 of Set 1 | {'city': 'minas', 'lat': -34.3773987, 'lon': -55.2382144}\n",
      "-34.3774\n",
      "Processing Record 9 of Set 1 | {'city': 'hilo', 'lat': 19.7073734, 'lon': -155.08158}\n",
      "19.7074\n",
      "Processing Record 10 of Set 1 | {'city': 'butaritari', 'lat': 2.9205375, 'lon': 172.91886331442205}\n",
      "2.9205\n",
      "Processing Record 11 of Set 1 | {'city': 'leningradskiy', 'lat': 54.129108, 'lon': 79.236702}\n",
      "54.1291\n",
      "Processing Record 12 of Set 1 | {'city': 'vardo', 'lat': 70.3308174, 'lon': 30.961751972265887}\n",
      "70.3308\n",
      "Processing Record 13 of Set 1 | {'city': 'illoqqortoormiut', 'lat': 70.4850588, 'lon': -21.9641992}\n",
      "70.4851\n",
      "Processing Record 14 of Set 1 | {'city': 'odweyne', 'lat': 9.40701, 'lon': 45.06358}\n",
      "9.407\n",
      "Processing Record 15 of Set 1 | {'city': 'chake chake', 'lat': -5.2440346, 'lon': 39.7685075}\n",
      "-5.244\n",
      "Processing Record 16 of Set 1 | {'city': 'bredasdorp', 'lat': -34.533055, 'lon': 20.042778}\n",
      "-34.5331\n",
      "Processing Record 17 of Set 1 | {'city': 'jamestown', 'lat': -15.9277296, 'lon': -5.7160872}\n",
      "-15.9277\n",
      "Processing Record 18 of Set 1 | {'city': 'punta arenas', 'lat': -53.1625688, 'lon': -70.907822}\n",
      "-53.1626\n",
      "Processing Record 19 of Set 1 | {'city': 'rantepao', 'lat': -2.9704575, 'lon': 119.8987167}\n",
      "-2.9705\n",
      "Processing Record 20 of Set 1 | {'city': 'wynyard', 'lat': 51.766667, 'lon': -104.183333}\n",
      "51.7667\n",
      "Processing Record 21 of Set 1 | {'city': 'esil', 'lat': 51.9601511, 'lon': 66.4088826}\n",
      "51.9602\n",
      "Processing Record 22 of Set 1 | {'city': 'khandyga', 'lat': 62.6477939, 'lon': 135.5750942}\n",
      "62.6478\n",
      "Processing Record 23 of Set 1 | {'city': 'norman wells', 'lat': 65.282401, 'lon': -126.832725}\n",
      "65.2824\n",
      "Processing Record 24 of Set 1 | {'city': 'attawapiskat', 'lat': 52.9244075, 'lon': -82.4270112}\n",
      "52.9244\n",
      "Processing Record 25 of Set 1 | {'city': 'matay', 'lat': 28.4176905, 'lon': 30.7861579}\n",
      "28.4177\n",
      "Processing Record 26 of Set 1 | {'city': 'novopavlovka', 'lat': 49.113228, 'lon': 41.036873}\n",
      "49.1132\n",
      "Processing Record 27 of Set 1 | {'city': 'nizhneyansk', 'lat': 71.440445, 'lon': 136.130646}\n",
      "71.4404\n",
      "Processing Record 28 of Set 1 | {'city': 'hilo', 'lat': 19.7073734, 'lon': -155.08158}\n",
      "19.7074\n",
      "Processing Record 29 of Set 1 | {'city': 'belushya guba', 'lat': 71.5376984, 'lon': 52.3427343}\n",
      "71.5377\n",
      "City not found. Skipping...\n",
      "Processing Record 30 of Set 1 | {'city': 'bykovo', 'lat': 55.6311596, 'lon': 38.0761816}\n",
      "55.6312\n",
      "Processing Record 31 of Set 1 | {'city': 'mar del plata', 'lat': -37.9977225, 'lon': -57.5482703}\n",
      "-37.9977\n",
      "Processing Record 32 of Set 1 | {'city': 'illoqqortoormiut', 'lat': 70.4850588, 'lon': -21.9641992}\n",
      "70.4851\n",
      "Processing Record 33 of Set 1 | {'city': 'busselton', 'lat': -33.644499, 'lon': 115.3488754}\n",
      "-33.6445\n",
      "Processing Record 34 of Set 1 | {'city': 'hermanus', 'lat': -34.4175, 'lon': 19.2361111}\n",
      "-34.4175\n",
      "Processing Record 35 of Set 1 | {'city': 'umm kaddadah', 'lat': 13.6002208, 'lon': 26.6892786}\n",
      "13.6002\n",
      "Processing Record 36 of Set 1 | {'city': 'qaanaaq', 'lat': 77.4686357, 'lon': -69.2222746}\n",
      "77.4686\n",
      "Processing Record 37 of Set 1 | {'city': 'ushuaia', 'lat': -54.806115899999995, 'lon': -68.3184972880496}\n",
      "-54.8061\n",
      "Processing Record 38 of Set 1 | {'city': 'luwuk', 'lat': -0.9528231, 'lon': 122.7880198}\n",
      "-0.9528\n",
      "Processing Record 39 of Set 1 | {'city': 'illoqqortoormiut', 'lat': 70.4850588, 'lon': -21.9641992}\n",
      "70.4851\n",
      "Processing Record 40 of Set 1 | {'city': 'punta arenas', 'lat': -53.1625688, 'lon': -70.907822}\n",
      "-53.1626\n",
      "Processing Record 41 of Set 1 | {'city': 'hilo', 'lat': 19.7073734, 'lon': -155.08158}\n",
      "19.7074\n",
      "Processing Record 42 of Set 1 | {'city': 'marcona', 'lat': -15.2155331, 'lon': -75.08303444567473}\n",
      "-15.2155\n",
      "Processing Record 43 of Set 1 | {'city': 'siloam springs', 'lat': 36.1881365, 'lon': -94.5404962}\n",
      "36.1881\n",
      "Processing Record 44 of Set 1 | {'city': 'tsihombe', 'lat': -25.318547, 'lon': 45.484057}\n",
      "-25.3185\n",
      "Processing Record 45 of Set 1 | {'city': 'bambey', 'lat': 14.69548, 'lon': -16.449262}\n",
      "14.6955\n",
      "Processing Record 46 of Set 1 | {'city': 'hobart', 'lat': -42.8825088, 'lon': 147.3281233}\n",
      "-42.8825\n",
      "Processing Record 47 of Set 1 | {'city': 'vaini', 'lat': -21.1925671, 'lon': -175.1772797}\n",
      "-21.1926\n",
      "Processing Record 48 of Set 1 | {'city': 'urumqi', 'lat': 43.419754, 'lon': 87.319461}\n",
      "43.4198\n",
      "Processing Record 49 of Set 1 | {'city': 'port alfred', 'lat': -33.5981844, 'lon': 26.8914772}\n",
      "-33.5982\n",
      "Processing Record 50 of Set 1 | {'city': 'skagastrond', 'lat': 65.8233244, 'lon': -20.3005642}\n",
      "65.8233\n",
      "Processing Record 0 of Set 2 | {'city': 'port blair', 'lat': 11.6645348, 'lon': 92.7390448}\n",
      "11.6645\n",
      "Processing Record 1 of Set 2 | {'city': 'hithadhoo', 'lat': 1.7959425, 'lon': 73.38755195657038}\n",
      "1.7959\n",
      "Processing Record 2 of Set 2 | {'city': 'dikson', 'lat': 73.5083894, 'lon': 80.5123816}\n",
      "73.5084\n",
      "Processing Record 3 of Set 2 | {'city': 'georgetown', 'lat': -7.9289722, 'lon': -14.4133993}\n",
      "-7.929\n",
      "Processing Record 4 of Set 2 | {'city': 'coquimbo', 'lat': -29.9531928, 'lon': -71.3379884}\n",
      "-29.9532\n",
      "Processing Record 5 of Set 2 | {'city': 'thompson', 'lat': 55.743347, 'lon': -97.863464}\n",
      "55.7433\n",
      "Processing Record 6 of Set 2 | {'city': 'rankovce', 'lat': 42.1686201, 'lon': 22.1165518}\n",
      "42.1686\n",
      "Processing Record 7 of Set 2 | {'city': 'dunedin', 'lat': -45.8740984, 'lon': 170.5035755}\n",
      "-45.8741\n",
      "Processing Record 8 of Set 2 | {'city': 'busselton', 'lat': -33.644499, 'lon': 115.3488754}\n",
      "-33.6445\n",
      "Processing Record 9 of Set 2 | {'city': 'puerto ayora', 'lat': -0.7471674, 'lon': -90.3134198}\n",
      "-0.7472\n",
      "Processing Record 10 of Set 2 | {'city': 'muscat', 'lat': 23.61515, 'lon': 58.5912467}\n",
      "23.6152\n",
      "Processing Record 11 of Set 2 | {'city': 'cabo san lucas', 'lat': 22.8938884, 'lon': -109.9200604}\n",
      "22.8939\n",
      "Processing Record 12 of Set 2 | {'city': 'airai', 'lat': 7.3599342, 'lon': 134.5601154}\n",
      "7.3599\n",
      "Processing Record 13 of Set 2 | {'city': 'carnarvon', 'lat': -24.8826131, 'lon': 113.6576486}\n",
      "-24.8826\n",
      "Processing Record 14 of Set 2 | {'city': 'quesnel', 'lat': 52.9794279, 'lon': -122.493627}\n",
      "52.9794\n",
      "Processing Record 15 of Set 2 | {'city': 'langsa', 'lat': 4.4730892, 'lon': 97.9681841}\n",
      "4.4731\n",
      "Processing Record 16 of Set 2 | {'city': 'srednekolymsk', 'lat': 67.455497, 'lon': 153.7071456}\n",
      "67.4555\n",
      "Processing Record 17 of Set 2 | {'city': 'saint george', 'lat': 32.3763819, 'lon': -64.68926342528714}\n",
      "32.3764\n",
      "Processing Record 18 of Set 2 | {'city': 'hobart', 'lat': -42.8825088, 'lon': 147.3281233}\n",
      "-42.8825\n",
      "Processing Record 19 of Set 2 | {'city': 'codrington', 'lat': 17.640463, 'lon': -61.8255199}\n",
      "17.6405\n",
      "Processing Record 20 of Set 2 | {'city': 'ushuaia', 'lat': -54.806115899999995, 'lon': -68.3184972880496}\n",
      "-54.8061\n",
      "Processing Record 21 of Set 2 | {'city': 'ribeira grande', 'lat': 37.8225227, 'lon': -25.5194914}\n",
      "37.8225\n",
      "Processing Record 22 of Set 2 | {'city': 'rolim de moura', 'lat': -11.727071, 'lon': -61.771411}\n",
      "-11.7271\n",
      "Processing Record 23 of Set 2 | {'city': 'rosaryville', 'lat': 38.7698662, 'lon': -76.8219551245767}\n",
      "38.7699\n",
      "Processing Record 24 of Set 2 | {'city': 'lagoa', 'lat': 37.13258125, 'lon': -8.45505094811731}\n",
      "37.1326\n",
      "Processing Record 25 of Set 2 | {'city': 'hamilton', 'lat': 32.2956076, 'lon': -64.7827048}\n",
      "32.2956\n",
      "Processing Record 26 of Set 2 | {'city': 'patos', 'lat': -7.0258285, 'lon': -37.2766817}\n",
      "-7.0258\n",
      "Processing Record 27 of Set 2 | {'city': 'sao gabriel da cachoeira', 'lat': -0.1249715, 'lon': -67.0813855}\n",
      "-0.125\n",
      "Processing Record 28 of Set 2 | {'city': 'ilulissat', 'lat': 69.2197127, 'lon': -51.0986385}\n",
      "69.2197\n",
      "Processing Record 29 of Set 2 | {'city': 'pietersburg', 'lat': -23.9058333, 'lon': 29.4613889}\n"
     ]
    },
    {
     "name": "stdout",
     "output_type": "stream",
     "text": [
      "-23.9058\n",
      "Processing Record 30 of Set 2 | {'city': 'awjilah', 'lat': 29.140278, 'lon': 21.2975}\n",
      "29.1403\n",
      "Processing Record 31 of Set 2 | {'city': 'punta arenas', 'lat': -53.1625688, 'lon': -70.907822}\n",
      "-53.1626\n",
      "-----------------------------\n",
      "Data Retrieval Complete      \n",
      "-----------------------------\n"
     ]
    }
   ],
   "source": [
    "# Set the API base URL\n",
    "url = 'http://api.openweathermap.org/data/2.5/weather?'\n",
    "\n",
    "# Define an empty list to fetch the weather data for each city\n",
    "city_data = []\n",
    "\n",
    "# Print to logger\n",
    "print(\"Beginning Data Retrieval     \")\n",
    "print(\"-----------------------------\")\n",
    "\n",
    "# Create counters\n",
    "record_count = 1\n",
    "set_count = 1\n",
    "\n",
    "# Loop through all the cities in our list to fetch weather data\n",
    "for i, city in enumerate(cities):\n",
    "        \n",
    "    # Group cities in sets of 50 for logging purposes\n",
    "    if (i % 50 == 0 and i >= 50):\n",
    "        set_count += 1\n",
    "        record_count = 0\n",
    "\n",
    "    # Create endpoint URL with each city\n",
    "    #city_url = f'{url}q={str(city[\"city\"])}&appid={api_keys.weather_api_key}'\n",
    "    city_url = f'{url}lat={str(city[\"lat\"])}&lon={str(city[\"lon\"])}&appid={api_keys.weather_api_key}'\n",
    "   \n",
    "    # Log the url, record, and set numbers\n",
    "    print(\"Processing Record %s of Set %s | %s\" % (record_count, set_count, city))\n",
    "\n",
    "    # Add 1 to the record count\n",
    "    record_count += 1\n",
    "\n",
    "    # Run an API request for each of the cities\n",
    "    try:\n",
    "        # Parse the JSON and retrieve data\n",
    "        city_weather = rq.get(city_url)\n",
    "        city_weather=city_weather.json()\n",
    "        \n",
    "\n",
    "        # Parse out latitude, longitude, max temp, humidity, cloudiness, wind speed, country, and date\n",
    "        city_lat = city_weather['coord']['lat']\n",
    "        print(city_lat)\n",
    "        city_lng = city_weather['coord']['lon']\n",
    "        city_max_temp = city_weather['main']['temp_max'] \n",
    "        city_humidity = city_weather['main']['humidity']\n",
    "        city_clouds = city_weather[\"clouds\"]['all']\n",
    "        city_wind = city_weather['wind']['speed']\n",
    "        city_country = city_weather['sys']['country']\n",
    "        city_date = city_weather['dt']\n",
    "        \n",
    "        # Append the City information into city_data list\n",
    "        city_data.append({\"City\": city['city'], \n",
    "                           \"Lat\": city_lat, \n",
    "                           \"Lng\": city_lng, \n",
    "                           \"Max Temp\": city_max_temp,\n",
    "                           \"Humidity\": city_humidity,\n",
    "                           \"Cloudiness\": city_clouds,\n",
    "                           \"Wind Speed\": city_wind,\n",
    "                           \"Country\": city_country,\n",
    "                           \"Date\": city_date})\n",
    "\n",
    "    # If an error is experienced, skip the city\n",
    "    except:\n",
    "        print(\"City not found. Skipping...\")\n",
    "        pass\n",
    "              \n",
    "# Indicate that Data Loading is complete \n",
    "print(\"-----------------------------\")\n",
    "print(\"Data Retrieval Complete      \")\n",
    "print(\"-----------------------------\")"
   ]
  },
  {
   "cell_type": "code",
   "execution_count": 14,
   "metadata": {},
   "outputs": [
    {
     "name": "stdout",
     "output_type": "stream",
     "text": [
      "[{'City': 'vanimo', 'Lat': -2.6848, 'Lng': 141.3009, 'Max Temp': 298.37, 'Humidity': 88, 'Cloudiness': 100, 'Wind Speed': 1.71, 'Country': 'PG', 'Date': 1682011512}, {'City': 'albany', 'Lat': -35.0248, 'Lng': 117.8836, 'Max Temp': 287.1, 'Humidity': 56, 'Cloudiness': 5, 'Wind Speed': 3.19, 'Country': 'AU', 'Date': 1682011512}, {'City': 'mar del plata', 'Lat': -37.9977, 'Lng': -57.5483, 'Max Temp': 295.88, 'Humidity': 53, 'Cloudiness': 0, 'Wind Speed': 5.66, 'Country': 'AR', 'Date': 1682011512}, {'City': 'saint george', 'Lat': 32.3764, 'Lng': -64.6893, 'Max Temp': 295.17, 'Humidity': 69, 'Cloudiness': 40, 'Wind Speed': 5.14, 'Country': 'BM', 'Date': 1682011512}, {'City': 'jiddah', 'Lat': 21.581, 'Lng': 39.1654, 'Max Temp': 305.1, 'Humidity': 31, 'Cloudiness': 0, 'Wind Speed': 4.12, 'Country': 'SA', 'Date': 1682011338}, {'City': 'butaritari', 'Lat': 2.9205, 'Lng': 172.9189, 'Max Temp': 301.21, 'Humidity': 78, 'Cloudiness': 40, 'Wind Speed': 3.99, 'Country': 'KI', 'Date': 1682011512}, {'City': 'lebu', 'Lat': -37.61, 'Lng': -73.6559, 'Max Temp': 289.65, 'Humidity': 74, 'Cloudiness': 48, 'Wind Speed': 4.69, 'Country': 'CL', 'Date': 1682011512}, {'City': 'minas', 'Lat': -34.3774, 'Lng': -55.2382, 'Max Temp': 292.86, 'Humidity': 44, 'Cloudiness': 7, 'Wind Speed': 2.28, 'Country': 'UY', 'Date': 1682011512}, {'City': 'hilo', 'Lat': 19.7074, 'Lng': -155.0816, 'Max Temp': 299.01, 'Humidity': 78, 'Cloudiness': 0, 'Wind Speed': 2.57, 'Country': 'US', 'Date': 1682011512}, {'City': 'butaritari', 'Lat': 2.9205, 'Lng': 172.9189, 'Max Temp': 301.21, 'Humidity': 78, 'Cloudiness': 40, 'Wind Speed': 3.99, 'Country': 'KI', 'Date': 1682011512}, {'City': 'leningradskiy', 'Lat': 54.1291, 'Lng': 79.2367, 'Max Temp': 274.03, 'Humidity': 48, 'Cloudiness': 26, 'Wind Speed': 3.23, 'Country': 'RU', 'Date': 1682011513}, {'City': 'vardo', 'Lat': 70.3308, 'Lng': 30.9618, 'Max Temp': 275.53, 'Humidity': 87, 'Cloudiness': 0, 'Wind Speed': 11.32, 'Country': 'NO', 'Date': 1682011513}, {'City': 'illoqqortoormiut', 'Lat': 70.4851, 'Lng': -21.9642, 'Max Temp': 266.33, 'Humidity': 82, 'Cloudiness': 100, 'Wind Speed': 4.25, 'Country': 'GL', 'Date': 1682011513}, {'City': 'odweyne', 'Lat': 9.407, 'Lng': 45.0636, 'Max Temp': 302.84, 'Humidity': 32, 'Cloudiness': 43, 'Wind Speed': 3.8, 'Country': 'SO', 'Date': 1682011513}, {'City': 'chake chake', 'Lat': -5.244, 'Lng': 39.7685, 'Max Temp': 299, 'Humidity': 84, 'Cloudiness': 97, 'Wind Speed': 3.03, 'Country': 'TZ', 'Date': 1682011513}, {'City': 'bredasdorp', 'Lat': -34.5331, 'Lng': 20.0428, 'Max Temp': 286.71, 'Humidity': 67, 'Cloudiness': 72, 'Wind Speed': 6.61, 'Country': 'ZA', 'Date': 1682011513}, {'City': 'jamestown', 'Lat': -15.9277, 'Lng': -5.7161, 'Max Temp': 296.09, 'Humidity': 82, 'Cloudiness': 5, 'Wind Speed': 8.12, 'Country': 'SH', 'Date': 1682011513}, {'City': 'punta arenas', 'Lat': -53.1626, 'Lng': -70.9078, 'Max Temp': 281.31, 'Humidity': 87, 'Cloudiness': 100, 'Wind Speed': 5.66, 'Country': 'CL', 'Date': 1682011513}, {'City': 'rantepao', 'Lat': -2.9705, 'Lng': 119.8987, 'Max Temp': 293.01, 'Humidity': 99, 'Cloudiness': 100, 'Wind Speed': 0.86, 'Country': 'ID', 'Date': 1682011513}, {'City': 'wynyard', 'Lat': 51.7667, 'Lng': -104.1833, 'Max Temp': 270.14, 'Humidity': 86, 'Cloudiness': 100, 'Wind Speed': 5.66, 'Country': 'CA', 'Date': 1682011514}, {'City': 'esil', 'Lat': 51.9602, 'Lng': 66.4089, 'Max Temp': 276.3, 'Humidity': 63, 'Cloudiness': 57, 'Wind Speed': 4.71, 'Country': 'KZ', 'Date': 1682011514}, {'City': 'khandyga', 'Lat': 62.6478, 'Lng': 135.5751, 'Max Temp': 263.1, 'Humidity': 97, 'Cloudiness': 76, 'Wind Speed': 0.48, 'Country': 'RU', 'Date': 1682011514}, {'City': 'norman wells', 'Lat': 65.2824, 'Lng': -126.8327, 'Max Temp': 265.17, 'Humidity': 62, 'Cloudiness': 0, 'Wind Speed': 1.03, 'Country': 'CA', 'Date': 1682011514}, {'City': 'attawapiskat', 'Lat': 52.9244, 'Lng': -82.427, 'Max Temp': 270.15, 'Humidity': 59, 'Cloudiness': 0, 'Wind Speed': 4.63, 'Country': 'CA', 'Date': 1682011514}, {'City': 'matay', 'Lat': 28.4177, 'Lng': 30.7862, 'Max Temp': 296.98, 'Humidity': 21, 'Cloudiness': 0, 'Wind Speed': 5.52, 'Country': 'EG', 'Date': 1682011514}, {'City': 'novopavlovka', 'Lat': 49.1132, 'Lng': 41.0369, 'Max Temp': 284.94, 'Humidity': 65, 'Cloudiness': 100, 'Wind Speed': 4.63, 'Country': 'RU', 'Date': 1682011514}, {'City': 'nizhneyansk', 'Lat': 71.4404, 'Lng': 136.1306, 'Max Temp': 252.27, 'Humidity': 100, 'Cloudiness': 26, 'Wind Speed': 4.49, 'Country': 'RU', 'Date': 1682011514}, {'City': 'hilo', 'Lat': 19.7074, 'Lng': -155.0816, 'Max Temp': 299.01, 'Humidity': 78, 'Cloudiness': 0, 'Wind Speed': 2.57, 'Country': 'US', 'Date': 1682011512}, {'City': 'bykovo', 'Lat': 55.6312, 'Lng': 38.0762, 'Max Temp': 285.58, 'Humidity': 37, 'Cloudiness': 0, 'Wind Speed': 2, 'Country': 'RU', 'Date': 1682011514}, {'City': 'mar del plata', 'Lat': -37.9977, 'Lng': -57.5483, 'Max Temp': 295.88, 'Humidity': 53, 'Cloudiness': 0, 'Wind Speed': 5.66, 'Country': 'AR', 'Date': 1682011512}, {'City': 'illoqqortoormiut', 'Lat': 70.4851, 'Lng': -21.9642, 'Max Temp': 266.33, 'Humidity': 82, 'Cloudiness': 100, 'Wind Speed': 4.25, 'Country': 'GL', 'Date': 1682011513}, {'City': 'busselton', 'Lat': -33.6445, 'Lng': 115.3489, 'Max Temp': 287.54, 'Humidity': 58, 'Cloudiness': 6, 'Wind Speed': 2.95, 'Country': 'AU', 'Date': 1682011515}, {'City': 'hermanus', 'Lat': -34.4175, 'Lng': 19.2361, 'Max Temp': 286.95, 'Humidity': 69, 'Cloudiness': 62, 'Wind Speed': 7.4, 'Country': 'ZA', 'Date': 1682011515}, {'City': 'umm kaddadah', 'Lat': 13.6002, 'Lng': 26.6893, 'Max Temp': 305.8, 'Humidity': 8, 'Cloudiness': 0, 'Wind Speed': 5.83, 'Country': 'SD', 'Date': 1682011515}, {'City': 'qaanaaq', 'Lat': 77.4686, 'Lng': -69.2223, 'Max Temp': 261.35, 'Humidity': 76, 'Cloudiness': 98, 'Wind Speed': 2.75, 'Country': 'GL', 'Date': 1682011515}, {'City': 'ushuaia', 'Lat': -54.8061, 'Lng': -68.3185, 'Max Temp': 281.98, 'Humidity': 49, 'Cloudiness': 75, 'Wind Speed': 2.06, 'Country': 'AR', 'Date': 1682011515}, {'City': 'luwuk', 'Lat': -0.9528, 'Lng': 122.788, 'Max Temp': 298.75, 'Humidity': 90, 'Cloudiness': 96, 'Wind Speed': 0.86, 'Country': 'ID', 'Date': 1682011515}, {'City': 'illoqqortoormiut', 'Lat': 70.4851, 'Lng': -21.9642, 'Max Temp': 266.33, 'Humidity': 82, 'Cloudiness': 100, 'Wind Speed': 4.25, 'Country': 'GL', 'Date': 1682011513}, {'City': 'punta arenas', 'Lat': -53.1626, 'Lng': -70.9078, 'Max Temp': 281.31, 'Humidity': 87, 'Cloudiness': 100, 'Wind Speed': 5.66, 'Country': 'CL', 'Date': 1682011513}, {'City': 'hilo', 'Lat': 19.7074, 'Lng': -155.0816, 'Max Temp': 299.01, 'Humidity': 78, 'Cloudiness': 0, 'Wind Speed': 2.57, 'Country': 'US', 'Date': 1682011512}, {'City': 'marcona', 'Lat': -15.2155, 'Lng': -75.083, 'Max Temp': 296.52, 'Humidity': 54, 'Cloudiness': 3, 'Wind Speed': 3.14, 'Country': 'PE', 'Date': 1682011515}, {'City': 'siloam springs', 'Lat': 36.1881, 'Lng': -94.5405, 'Max Temp': 296.26, 'Humidity': 73, 'Cloudiness': 100, 'Wind Speed': 8.23, 'Country': 'US', 'Date': 1682011246}, {'City': 'tsihombe', 'Lat': -25.3185, 'Lng': 45.4841, 'Max Temp': 297.2, 'Humidity': 78, 'Cloudiness': 7, 'Wind Speed': 2.27, 'Country': 'MG', 'Date': 1682011515}, {'City': 'bambey', 'Lat': 14.6955, 'Lng': -16.4493, 'Max Temp': 311.18, 'Humidity': 22, 'Cloudiness': 44, 'Wind Speed': 9.1, 'Country': 'SN', 'Date': 1682011515}, {'City': 'hobart', 'Lat': -42.8825, 'Lng': 147.3281, 'Max Temp': 289.37, 'Humidity': 74, 'Cloudiness': 100, 'Wind Speed': 8.23, 'Country': 'AU', 'Date': 1682011337}, {'City': 'vaini', 'Lat': -21.1926, 'Lng': -175.1773, 'Max Temp': 297.31, 'Humidity': 88, 'Cloudiness': 20, 'Wind Speed': 5.14, 'Country': 'TO', 'Date': 1682011516}, {'City': 'urumqi', 'Lat': 43.4198, 'Lng': 87.3195, 'Max Temp': 271.12, 'Humidity': 40, 'Cloudiness': 12, 'Wind Speed': 0.84, 'Country': 'CN', 'Date': 1682011516}, {'City': 'port alfred', 'Lat': -33.5982, 'Lng': 26.8915, 'Max Temp': 291.51, 'Humidity': 73, 'Cloudiness': 99, 'Wind Speed': 7.15, 'Country': 'ZA', 'Date': 1682011516}, {'City': 'skagastrond', 'Lat': 65.8233, 'Lng': -20.3006, 'Max Temp': 280.85, 'Humidity': 69, 'Cloudiness': 14, 'Wind Speed': 5.36, 'Country': 'IS', 'Date': 1682011516}, {'City': 'port blair', 'Lat': 11.6645, 'Lng': 92.739, 'Max Temp': 300.17, 'Humidity': 77, 'Cloudiness': 5, 'Wind Speed': 3.31, 'Country': 'IN', 'Date': 1682011516}, {'City': 'hithadhoo', 'Lat': 1.7959, 'Lng': 73.3876, 'Max Temp': 301.17, 'Humidity': 75, 'Cloudiness': 76, 'Wind Speed': 2.11, 'Country': 'MV', 'Date': 1682011517}, {'City': 'dikson', 'Lat': 73.5084, 'Lng': 80.5124, 'Max Temp': 258.75, 'Humidity': 95, 'Cloudiness': 23, 'Wind Speed': 4.3, 'Country': 'RU', 'Date': 1682011517}, {'City': 'georgetown', 'Lat': -7.929, 'Lng': -14.4134, 'Max Temp': 300.59, 'Humidity': 75, 'Cloudiness': 79, 'Wind Speed': 6.94, 'Country': 'SH', 'Date': 1682011517}, {'City': 'coquimbo', 'Lat': -29.9532, 'Lng': -71.338, 'Max Temp': 291.08, 'Humidity': 67, 'Cloudiness': 75, 'Wind Speed': 3.6, 'Country': 'CL', 'Date': 1682011517}, {'City': 'thompson', 'Lat': 55.7433, 'Lng': -97.8635, 'Max Temp': 272.25, 'Humidity': 55, 'Cloudiness': 75, 'Wind Speed': 7.2, 'Country': 'CA', 'Date': 1682011517}, {'City': 'rankovce', 'Lat': 42.1686, 'Lng': 22.1166, 'Max Temp': 286.49, 'Humidity': 70, 'Cloudiness': 13, 'Wind Speed': 3.13, 'Country': 'MK', 'Date': 1682011517}, {'City': 'dunedin', 'Lat': -45.8741, 'Lng': 170.5036, 'Max Temp': 283.04, 'Humidity': 92, 'Cloudiness': 100, 'Wind Speed': 1.27, 'Country': 'NZ', 'Date': 1682011518}, {'City': 'busselton', 'Lat': -33.6445, 'Lng': 115.3489, 'Max Temp': 287.54, 'Humidity': 58, 'Cloudiness': 6, 'Wind Speed': 2.95, 'Country': 'AU', 'Date': 1682011515}, {'City': 'puerto ayora', 'Lat': -0.7472, 'Lng': -90.3134, 'Max Temp': 303.49, 'Humidity': 87, 'Cloudiness': 88, 'Wind Speed': 3.58, 'Country': 'EC', 'Date': 1682011518}, {'City': 'muscat', 'Lat': 23.6152, 'Lng': 58.5912, 'Max Temp': 302.17, 'Humidity': 60, 'Cloudiness': 60, 'Wind Speed': 3.28, 'Country': 'OM', 'Date': 1682011518}, {'City': 'cabo san lucas', 'Lat': 22.8939, 'Lng': -109.9201, 'Max Temp': 303.38, 'Humidity': 69, 'Cloudiness': 20, 'Wind Speed': 2.06, 'Country': 'MX', 'Date': 1682011518}, {'City': 'airai', 'Lat': 7.3599, 'Lng': 134.5601, 'Max Temp': 297.37, 'Humidity': 94, 'Cloudiness': 75, 'Wind Speed': 1.54, 'Country': 'PW', 'Date': 1682011518}, {'City': 'carnarvon', 'Lat': -24.8826, 'Lng': 113.6576, 'Max Temp': 296.72, 'Humidity': 42, 'Cloudiness': 52, 'Wind Speed': 4.48, 'Country': 'AU', 'Date': 1682011518}, {'City': 'quesnel', 'Lat': 52.9794, 'Lng': -122.4936, 'Max Temp': 278.55, 'Humidity': 52, 'Cloudiness': 0, 'Wind Speed': 2.06, 'Country': 'CA', 'Date': 1682011518}, {'City': 'langsa', 'Lat': 4.4731, 'Lng': 97.9682, 'Max Temp': 297.7, 'Humidity': 94, 'Cloudiness': 100, 'Wind Speed': 0.79, 'Country': 'ID', 'Date': 1682011519}, {'City': 'srednekolymsk', 'Lat': 67.4555, 'Lng': 153.7071, 'Max Temp': 271.94, 'Humidity': 99, 'Cloudiness': 100, 'Wind Speed': 2.88, 'Country': 'RU', 'Date': 1682011519}, {'City': 'saint george', 'Lat': 32.3764, 'Lng': -64.6893, 'Max Temp': 295.17, 'Humidity': 69, 'Cloudiness': 40, 'Wind Speed': 5.14, 'Country': 'BM', 'Date': 1682011512}, {'City': 'hobart', 'Lat': -42.8825, 'Lng': 147.3281, 'Max Temp': 289.37, 'Humidity': 74, 'Cloudiness': 100, 'Wind Speed': 8.23, 'Country': 'AU', 'Date': 1682011337}, {'City': 'codrington', 'Lat': 17.6405, 'Lng': -61.8255, 'Max Temp': 298.92, 'Humidity': 72, 'Cloudiness': 0, 'Wind Speed': 6.81, 'Country': 'AG', 'Date': 1682011519}, {'City': 'ushuaia', 'Lat': -54.8061, 'Lng': -68.3185, 'Max Temp': 281.98, 'Humidity': 49, 'Cloudiness': 75, 'Wind Speed': 2.06, 'Country': 'AR', 'Date': 1682011515}, {'City': 'ribeira grande', 'Lat': 37.8225, 'Lng': -25.5195, 'Max Temp': 289.34, 'Humidity': 67, 'Cloudiness': 20, 'Wind Speed': 11.32, 'Country': 'PT', 'Date': 1682011519}, {'City': 'rolim de moura', 'Lat': -11.7271, 'Lng': -61.7714, 'Max Temp': 297.58, 'Humidity': 92, 'Cloudiness': 99, 'Wind Speed': 1.47, 'Country': 'BR', 'Date': 1682011519}, {'City': 'rosaryville', 'Lat': 38.7699, 'Lng': -76.822, 'Max Temp': 302.83, 'Humidity': 55, 'Cloudiness': 20, 'Wind Speed': 1.54, 'Country': 'US', 'Date': 1682011519}, {'City': 'lagoa', 'Lat': 37.1326, 'Lng': -8.4551, 'Max Temp': 291.86, 'Humidity': 74, 'Cloudiness': 2, 'Wind Speed': 4.84, 'Country': 'PT', 'Date': 1682011519}, {'City': 'hamilton', 'Lat': 32.2956, 'Lng': -64.7827, 'Max Temp': 295.01, 'Humidity': 73, 'Cloudiness': 40, 'Wind Speed': 5.14, 'Country': 'BM', 'Date': 1682011520}, {'City': 'patos', 'Lat': -7.0258, 'Lng': -37.2767, 'Max Temp': 307.76, 'Humidity': 36, 'Cloudiness': 81, 'Wind Speed': 4.19, 'Country': 'BR', 'Date': 1682011520}, {'City': 'sao gabriel da cachoeira', 'Lat': -0.125, 'Lng': -67.0814, 'Max Temp': 303.91, 'Humidity': 74, 'Cloudiness': 75, 'Wind Speed': 4.12, 'Country': 'BR', 'Date': 1682011520}, {'City': 'ilulissat', 'Lat': 69.2197, 'Lng': -51.0986, 'Max Temp': 271.31, 'Humidity': 54, 'Cloudiness': 0, 'Wind Speed': 4.12, 'Country': 'GL', 'Date': 1682011520}, {'City': 'pietersburg', 'Lat': -23.9058, 'Lng': 29.4614, 'Max Temp': 291.77, 'Humidity': 34, 'Cloudiness': 0, 'Wind Speed': 0.51, 'Country': 'ZA', 'Date': 1682011520}, {'City': 'awjilah', 'Lat': 29.1403, 'Lng': 21.2975, 'Max Temp': 298.88, 'Humidity': 20, 'Cloudiness': 28, 'Wind Speed': 4.33, 'Country': 'LY', 'Date': 1682011520}, {'City': 'punta arenas', 'Lat': -53.1626, 'Lng': -70.9078, 'Max Temp': 281.31, 'Humidity': 87, 'Cloudiness': 100, 'Wind Speed': 5.66, 'Country': 'CL', 'Date': 1682011513}]\n"
     ]
    }
   ],
   "source": [
    "print (city_data)"
   ]
  },
  {
   "cell_type": "code",
   "execution_count": 15,
   "metadata": {},
   "outputs": [],
   "source": [
    "city_dict={\"City\":[city[\"City\"] for city in city_data], \n",
    "                           \"Lat\": [city['Lat'] for city in city_data],\n",
    "                           \"Lng\":  [city['Lng'] for city in city_data], \n",
    "                           \"Max Temp\":  [city['Max Temp'] for city in city_data],\n",
    "                           \"Humidity\":  [city['Humidity'] for city in city_data],\n",
    "                           \"Cloudiness\":  [city['Cloudiness'] for city in city_data],\n",
    "                           \"Wind Speed\":  [city['Wind Speed'] for city in city_data],\n",
    "                           \"Country\":  [city['Country'] for city in city_data],\n",
    "                           \"Date\":  [city['Date'] for city in city_data]}\n",
    "\n",
    "    "
   ]
  },
  {
   "cell_type": "code",
   "execution_count": 16,
   "metadata": {},
   "outputs": [
    {
     "data": {
      "text/html": [
       "<div>\n",
       "<style scoped>\n",
       "    .dataframe tbody tr th:only-of-type {\n",
       "        vertical-align: middle;\n",
       "    }\n",
       "\n",
       "    .dataframe tbody tr th {\n",
       "        vertical-align: top;\n",
       "    }\n",
       "\n",
       "    .dataframe thead th {\n",
       "        text-align: right;\n",
       "    }\n",
       "</style>\n",
       "<table border=\"1\" class=\"dataframe\">\n",
       "  <thead>\n",
       "    <tr style=\"text-align: right;\">\n",
       "      <th></th>\n",
       "      <th>City</th>\n",
       "      <th>Lat</th>\n",
       "      <th>Lng</th>\n",
       "      <th>Max Temp</th>\n",
       "      <th>Humidity</th>\n",
       "      <th>Cloudiness</th>\n",
       "      <th>Wind Speed</th>\n",
       "      <th>Country</th>\n",
       "      <th>Date</th>\n",
       "    </tr>\n",
       "  </thead>\n",
       "  <tbody>\n",
       "    <tr>\n",
       "      <th>0</th>\n",
       "      <td>vanimo</td>\n",
       "      <td>-2.6848</td>\n",
       "      <td>141.3009</td>\n",
       "      <td>298.37</td>\n",
       "      <td>88</td>\n",
       "      <td>100</td>\n",
       "      <td>1.71</td>\n",
       "      <td>PG</td>\n",
       "      <td>1682011512</td>\n",
       "    </tr>\n",
       "    <tr>\n",
       "      <th>1</th>\n",
       "      <td>albany</td>\n",
       "      <td>-35.0248</td>\n",
       "      <td>117.8836</td>\n",
       "      <td>287.10</td>\n",
       "      <td>56</td>\n",
       "      <td>5</td>\n",
       "      <td>3.19</td>\n",
       "      <td>AU</td>\n",
       "      <td>1682011512</td>\n",
       "    </tr>\n",
       "    <tr>\n",
       "      <th>2</th>\n",
       "      <td>mar del plata</td>\n",
       "      <td>-37.9977</td>\n",
       "      <td>-57.5483</td>\n",
       "      <td>295.88</td>\n",
       "      <td>53</td>\n",
       "      <td>0</td>\n",
       "      <td>5.66</td>\n",
       "      <td>AR</td>\n",
       "      <td>1682011512</td>\n",
       "    </tr>\n",
       "    <tr>\n",
       "      <th>3</th>\n",
       "      <td>saint george</td>\n",
       "      <td>32.3764</td>\n",
       "      <td>-64.6893</td>\n",
       "      <td>295.17</td>\n",
       "      <td>69</td>\n",
       "      <td>40</td>\n",
       "      <td>5.14</td>\n",
       "      <td>BM</td>\n",
       "      <td>1682011512</td>\n",
       "    </tr>\n",
       "    <tr>\n",
       "      <th>4</th>\n",
       "      <td>jiddah</td>\n",
       "      <td>21.5810</td>\n",
       "      <td>39.1654</td>\n",
       "      <td>305.10</td>\n",
       "      <td>31</td>\n",
       "      <td>0</td>\n",
       "      <td>4.12</td>\n",
       "      <td>SA</td>\n",
       "      <td>1682011338</td>\n",
       "    </tr>\n",
       "  </tbody>\n",
       "</table>\n",
       "</div>"
      ],
      "text/plain": [
       "            City      Lat       Lng  Max Temp  Humidity  Cloudiness  \\\n",
       "0         vanimo  -2.6848  141.3009    298.37        88         100   \n",
       "1         albany -35.0248  117.8836    287.10        56           5   \n",
       "2  mar del plata -37.9977  -57.5483    295.88        53           0   \n",
       "3   saint george  32.3764  -64.6893    295.17        69          40   \n",
       "4         jiddah  21.5810   39.1654    305.10        31           0   \n",
       "\n",
       "   Wind Speed Country        Date  \n",
       "0        1.71      PG  1682011512  \n",
       "1        3.19      AU  1682011512  \n",
       "2        5.66      AR  1682011512  \n",
       "3        5.14      BM  1682011512  \n",
       "4        4.12      SA  1682011338  "
      ]
     },
     "execution_count": 16,
     "metadata": {},
     "output_type": "execute_result"
    }
   ],
   "source": [
    "# Convert the cities weather data into a Pandas DataFrame\n",
    "city_data_df = pd.DataFrame(city_dict)\n",
    "\n",
    "# Show Record Count\n",
    "city_data_df.head()"
   ]
  },
  {
   "cell_type": "code",
   "execution_count": 17,
   "metadata": {},
   "outputs": [
    {
     "data": {
      "text/html": [
       "<div>\n",
       "<style scoped>\n",
       "    .dataframe tbody tr th:only-of-type {\n",
       "        vertical-align: middle;\n",
       "    }\n",
       "\n",
       "    .dataframe tbody tr th {\n",
       "        vertical-align: top;\n",
       "    }\n",
       "\n",
       "    .dataframe thead th {\n",
       "        text-align: right;\n",
       "    }\n",
       "</style>\n",
       "<table border=\"1\" class=\"dataframe\">\n",
       "  <thead>\n",
       "    <tr style=\"text-align: right;\">\n",
       "      <th></th>\n",
       "      <th>City</th>\n",
       "      <th>Lat</th>\n",
       "      <th>Lng</th>\n",
       "      <th>Max Temp</th>\n",
       "      <th>Humidity</th>\n",
       "      <th>Cloudiness</th>\n",
       "      <th>Wind Speed</th>\n",
       "      <th>Country</th>\n",
       "      <th>Date</th>\n",
       "    </tr>\n",
       "  </thead>\n",
       "  <tbody>\n",
       "    <tr>\n",
       "      <th>0</th>\n",
       "      <td>vanimo</td>\n",
       "      <td>-2.6848</td>\n",
       "      <td>141.3009</td>\n",
       "      <td>298.37</td>\n",
       "      <td>88</td>\n",
       "      <td>100</td>\n",
       "      <td>1.71</td>\n",
       "      <td>PG</td>\n",
       "      <td>1682011512</td>\n",
       "    </tr>\n",
       "    <tr>\n",
       "      <th>1</th>\n",
       "      <td>albany</td>\n",
       "      <td>-35.0248</td>\n",
       "      <td>117.8836</td>\n",
       "      <td>287.10</td>\n",
       "      <td>56</td>\n",
       "      <td>5</td>\n",
       "      <td>3.19</td>\n",
       "      <td>AU</td>\n",
       "      <td>1682011512</td>\n",
       "    </tr>\n",
       "    <tr>\n",
       "      <th>2</th>\n",
       "      <td>mar del plata</td>\n",
       "      <td>-37.9977</td>\n",
       "      <td>-57.5483</td>\n",
       "      <td>295.88</td>\n",
       "      <td>53</td>\n",
       "      <td>0</td>\n",
       "      <td>5.66</td>\n",
       "      <td>AR</td>\n",
       "      <td>1682011512</td>\n",
       "    </tr>\n",
       "    <tr>\n",
       "      <th>3</th>\n",
       "      <td>saint george</td>\n",
       "      <td>32.3764</td>\n",
       "      <td>-64.6893</td>\n",
       "      <td>295.17</td>\n",
       "      <td>69</td>\n",
       "      <td>40</td>\n",
       "      <td>5.14</td>\n",
       "      <td>BM</td>\n",
       "      <td>1682011512</td>\n",
       "    </tr>\n",
       "    <tr>\n",
       "      <th>4</th>\n",
       "      <td>jiddah</td>\n",
       "      <td>21.5810</td>\n",
       "      <td>39.1654</td>\n",
       "      <td>305.10</td>\n",
       "      <td>31</td>\n",
       "      <td>0</td>\n",
       "      <td>4.12</td>\n",
       "      <td>SA</td>\n",
       "      <td>1682011338</td>\n",
       "    </tr>\n",
       "  </tbody>\n",
       "</table>\n",
       "</div>"
      ],
      "text/plain": [
       "            City      Lat       Lng  Max Temp  Humidity  Cloudiness  \\\n",
       "0         vanimo  -2.6848  141.3009    298.37        88         100   \n",
       "1         albany -35.0248  117.8836    287.10        56           5   \n",
       "2  mar del plata -37.9977  -57.5483    295.88        53           0   \n",
       "3   saint george  32.3764  -64.6893    295.17        69          40   \n",
       "4         jiddah  21.5810   39.1654    305.10        31           0   \n",
       "\n",
       "   Wind Speed Country        Date  \n",
       "0        1.71      PG  1682011512  \n",
       "1        3.19      AU  1682011512  \n",
       "2        5.66      AR  1682011512  \n",
       "3        5.14      BM  1682011512  \n",
       "4        4.12      SA  1682011338  "
      ]
     },
     "execution_count": 17,
     "metadata": {},
     "output_type": "execute_result"
    }
   ],
   "source": [
    "# Display sample data\n",
    "city_data_df.head()"
   ]
  },
  {
   "cell_type": "code",
   "execution_count": 18,
   "metadata": {},
   "outputs": [],
   "source": [
    "# Export the City_Data into a csv\n",
    "city_data_df.to_csv(\"output_data/cities.csv\", index_label=\"City_ID\")"
   ]
  },
  {
   "cell_type": "code",
   "execution_count": 19,
   "metadata": {},
   "outputs": [
    {
     "data": {
      "text/html": [
       "<div>\n",
       "<style scoped>\n",
       "    .dataframe tbody tr th:only-of-type {\n",
       "        vertical-align: middle;\n",
       "    }\n",
       "\n",
       "    .dataframe tbody tr th {\n",
       "        vertical-align: top;\n",
       "    }\n",
       "\n",
       "    .dataframe thead th {\n",
       "        text-align: right;\n",
       "    }\n",
       "</style>\n",
       "<table border=\"1\" class=\"dataframe\">\n",
       "  <thead>\n",
       "    <tr style=\"text-align: right;\">\n",
       "      <th></th>\n",
       "      <th>City</th>\n",
       "      <th>Lat</th>\n",
       "      <th>Lng</th>\n",
       "      <th>Max Temp</th>\n",
       "      <th>Humidity</th>\n",
       "      <th>Cloudiness</th>\n",
       "      <th>Wind Speed</th>\n",
       "      <th>Country</th>\n",
       "      <th>Date</th>\n",
       "    </tr>\n",
       "    <tr>\n",
       "      <th>City_ID</th>\n",
       "      <th></th>\n",
       "      <th></th>\n",
       "      <th></th>\n",
       "      <th></th>\n",
       "      <th></th>\n",
       "      <th></th>\n",
       "      <th></th>\n",
       "      <th></th>\n",
       "      <th></th>\n",
       "    </tr>\n",
       "  </thead>\n",
       "  <tbody>\n",
       "    <tr>\n",
       "      <th>0</th>\n",
       "      <td>vanimo</td>\n",
       "      <td>-2.6848</td>\n",
       "      <td>141.3009</td>\n",
       "      <td>298.37</td>\n",
       "      <td>88</td>\n",
       "      <td>100</td>\n",
       "      <td>1.71</td>\n",
       "      <td>PG</td>\n",
       "      <td>1682011512</td>\n",
       "    </tr>\n",
       "    <tr>\n",
       "      <th>1</th>\n",
       "      <td>albany</td>\n",
       "      <td>-35.0248</td>\n",
       "      <td>117.8836</td>\n",
       "      <td>287.10</td>\n",
       "      <td>56</td>\n",
       "      <td>5</td>\n",
       "      <td>3.19</td>\n",
       "      <td>AU</td>\n",
       "      <td>1682011512</td>\n",
       "    </tr>\n",
       "    <tr>\n",
       "      <th>2</th>\n",
       "      <td>mar del plata</td>\n",
       "      <td>-37.9977</td>\n",
       "      <td>-57.5483</td>\n",
       "      <td>295.88</td>\n",
       "      <td>53</td>\n",
       "      <td>0</td>\n",
       "      <td>5.66</td>\n",
       "      <td>AR</td>\n",
       "      <td>1682011512</td>\n",
       "    </tr>\n",
       "    <tr>\n",
       "      <th>3</th>\n",
       "      <td>saint george</td>\n",
       "      <td>32.3764</td>\n",
       "      <td>-64.6893</td>\n",
       "      <td>295.17</td>\n",
       "      <td>69</td>\n",
       "      <td>40</td>\n",
       "      <td>5.14</td>\n",
       "      <td>BM</td>\n",
       "      <td>1682011512</td>\n",
       "    </tr>\n",
       "    <tr>\n",
       "      <th>4</th>\n",
       "      <td>jiddah</td>\n",
       "      <td>21.5810</td>\n",
       "      <td>39.1654</td>\n",
       "      <td>305.10</td>\n",
       "      <td>31</td>\n",
       "      <td>0</td>\n",
       "      <td>4.12</td>\n",
       "      <td>SA</td>\n",
       "      <td>1682011338</td>\n",
       "    </tr>\n",
       "  </tbody>\n",
       "</table>\n",
       "</div>"
      ],
      "text/plain": [
       "                  City      Lat       Lng  Max Temp  Humidity  Cloudiness  \\\n",
       "City_ID                                                                     \n",
       "0               vanimo  -2.6848  141.3009    298.37        88         100   \n",
       "1               albany -35.0248  117.8836    287.10        56           5   \n",
       "2        mar del plata -37.9977  -57.5483    295.88        53           0   \n",
       "3         saint george  32.3764  -64.6893    295.17        69          40   \n",
       "4               jiddah  21.5810   39.1654    305.10        31           0   \n",
       "\n",
       "         Wind Speed Country        Date  \n",
       "City_ID                                  \n",
       "0              1.71      PG  1682011512  \n",
       "1              3.19      AU  1682011512  \n",
       "2              5.66      AR  1682011512  \n",
       "3              5.14      BM  1682011512  \n",
       "4              4.12      SA  1682011338  "
      ]
     },
     "execution_count": 19,
     "metadata": {},
     "output_type": "execute_result"
    }
   ],
   "source": [
    "# Read saved data\n",
    "city_data_df = pd.read_csv(\"output_data/cities.csv\", index_col=\"City_ID\")\n",
    "\n",
    "# Display sample data\n",
    "city_data_df.head()"
   ]
  },
  {
   "cell_type": "markdown",
   "metadata": {},
   "source": [
    "### Create the Scatter Plots Requested\n",
    "\n",
    "#### Latitude Vs. Temperature"
   ]
  },
  {
   "cell_type": "code",
   "execution_count": 20,
   "metadata": {
    "tags": []
   },
   "outputs": [
    {
     "data": {
      "image/png": "[encoded data removed]",
      "text/plain": [
       "<Figure size 640x480 with 1 Axes>"
      ]
     },
     "metadata": {},
     "output_type": "display_data"
    }
   ],
   "source": [
    "# Build scatter plot for latitude vs. temperature\n",
    "plt.scatter(city_data_df['Lat'],city_data_df['Max Temp'])\n",
    "\n",
    "# Incorporate the other graph properties\n",
    "# YOUR CODE HERE\n",
    "\n",
    "# Save the figure\n",
    "plt.savefig(\"output_data/Fig1.png\")\n",
    "\n",
    "# Show plot\n",
    "plt.show()"
   ]
  },
  {
   "cell_type": "markdown",
   "metadata": {},
   "source": [
    "#### Latitude Vs. Humidity"
   ]
  },
  {
   "cell_type": "code",
   "execution_count": 21,
   "metadata": {},
   "outputs": [
    {
     "data": {
      "image/png": "[encoded data removed]",
      "text/plain": [
       "<Figure size 640x480 with 1 Axes>"
      ]
     },
     "metadata": {},
     "output_type": "display_data"
    }
   ],
   "source": [
    "# Build the scatter plots for latitude vs. humidity\n",
    "plt.scatter(city_data_df['Lat'],city_data_df['Humidity'])\n",
    "\n",
    "# Incorporate the other graph properties\n",
    "# YOUR CODE HERE\n",
    "\n",
    "# Save the figure\n",
    "plt.savefig(\"output_data/Fig2.png\")\n",
    "\n",
    "# Show plot\n",
    "plt.show()"
   ]
  },
  {
   "cell_type": "markdown",
   "metadata": {},
   "source": [
    "#### Latitude Vs. Cloudiness"
   ]
  },
  {
   "cell_type": "code",
   "execution_count": 22,
   "metadata": {},
   "outputs": [
    {
     "data": {
      "image/png": "[encoded data removed]",
      "text/plain": [
       "<Figure size 640x480 with 1 Axes>"
      ]
     },
     "metadata": {},
     "output_type": "display_data"
    }
   ],
   "source": [
    "# Build the scatter plots for latitude vs. cloudiness\n",
    "plt.scatter(city_data_df['Lat'],city_data_df['Cloudiness'])\n",
    "# Incorporate the other graph properties\n",
    "# YOUR CODE HERE\n",
    "\n",
    "# Save the figure\n",
    "plt.savefig(\"output_data/Fig3.png\")\n",
    "\n",
    "# Show plot\n",
    "plt.show()"
   ]
  },
  {
   "cell_type": "markdown",
   "metadata": {},
   "source": [
    "#### Latitude vs. Wind Speed Plot"
   ]
  },
  {
   "cell_type": "code",
   "execution_count": 23,
   "metadata": {},
   "outputs": [
    {
     "data": {
      "image/png": "[encoded data removed]",
      "text/plain": [
       "<Figure size 640x480 with 1 Axes>"
      ]
     },
     "metadata": {},
     "output_type": "display_data"
    }
   ],
   "source": [
    "# Build the scatter plots for latitude vs. wind speed\n",
    "plt.scatter(city_data_df['Lat'],city_data_df['Wind Speed'])\n",
    "# Incorporate the other graph properties\n",
    "# YOUR CODE HERE\n",
    "\n",
    "# Save the figure\n",
    "plt.savefig(\"output_data/Fig4.png\")\n",
    "\n",
    "# Show plot\n",
    "plt.show()"
   ]
  },
  {
   "cell_type": "markdown",
   "metadata": {},
   "source": [
    "---\n",
    "\n",
    "## Requirement 2: Compute Linear Regression for Each Relationship\n"
   ]
  },
  {
   "cell_type": "code",
   "execution_count": 24,
   "metadata": {},
   "outputs": [],
   "source": [
    "# Define a function to create Linear Regression plots\n",
    "lr=LinearRegression()"
   ]
  },
  {
   "cell_type": "code",
   "execution_count": 26,
   "metadata": {},
   "outputs": [
    {
     "data": {
      "text/html": [
       "<div>\n",
       "<style scoped>\n",
       "    .dataframe tbody tr th:only-of-type {\n",
       "        vertical-align: middle;\n",
       "    }\n",
       "\n",
       "    .dataframe tbody tr th {\n",
       "        vertical-align: top;\n",
       "    }\n",
       "\n",
       "    .dataframe thead th {\n",
       "        text-align: right;\n",
       "    }\n",
       "</style>\n",
       "<table border=\"1\" class=\"dataframe\">\n",
       "  <thead>\n",
       "    <tr style=\"text-align: right;\">\n",
       "      <th></th>\n",
       "      <th>City</th>\n",
       "      <th>Lat</th>\n",
       "      <th>Lng</th>\n",
       "      <th>Max Temp</th>\n",
       "      <th>Humidity</th>\n",
       "      <th>Cloudiness</th>\n",
       "      <th>Wind Speed</th>\n",
       "      <th>Country</th>\n",
       "      <th>Date</th>\n",
       "    </tr>\n",
       "    <tr>\n",
       "      <th>City_ID</th>\n",
       "      <th></th>\n",
       "      <th></th>\n",
       "      <th></th>\n",
       "      <th></th>\n",
       "      <th></th>\n",
       "      <th></th>\n",
       "      <th></th>\n",
       "      <th></th>\n",
       "      <th></th>\n",
       "    </tr>\n",
       "  </thead>\n",
       "  <tbody>\n",
       "    <tr>\n",
       "      <th>3</th>\n",
       "      <td>saint george</td>\n",
       "      <td>32.3764</td>\n",
       "      <td>-64.6893</td>\n",
       "      <td>295.17</td>\n",
       "      <td>69</td>\n",
       "      <td>40</td>\n",
       "      <td>5.14</td>\n",
       "      <td>BM</td>\n",
       "      <td>1682011512</td>\n",
       "    </tr>\n",
       "    <tr>\n",
       "      <th>4</th>\n",
       "      <td>jiddah</td>\n",
       "      <td>21.5810</td>\n",
       "      <td>39.1654</td>\n",
       "      <td>305.10</td>\n",
       "      <td>31</td>\n",
       "      <td>0</td>\n",
       "      <td>4.12</td>\n",
       "      <td>SA</td>\n",
       "      <td>1682011338</td>\n",
       "    </tr>\n",
       "    <tr>\n",
       "      <th>5</th>\n",
       "      <td>butaritari</td>\n",
       "      <td>2.9205</td>\n",
       "      <td>172.9189</td>\n",
       "      <td>301.21</td>\n",
       "      <td>78</td>\n",
       "      <td>40</td>\n",
       "      <td>3.99</td>\n",
       "      <td>KI</td>\n",
       "      <td>1682011512</td>\n",
       "    </tr>\n",
       "    <tr>\n",
       "      <th>8</th>\n",
       "      <td>hilo</td>\n",
       "      <td>19.7074</td>\n",
       "      <td>-155.0816</td>\n",
       "      <td>299.01</td>\n",
       "      <td>78</td>\n",
       "      <td>0</td>\n",
       "      <td>2.57</td>\n",
       "      <td>US</td>\n",
       "      <td>1682011512</td>\n",
       "    </tr>\n",
       "    <tr>\n",
       "      <th>9</th>\n",
       "      <td>butaritari</td>\n",
       "      <td>2.9205</td>\n",
       "      <td>172.9189</td>\n",
       "      <td>301.21</td>\n",
       "      <td>78</td>\n",
       "      <td>40</td>\n",
       "      <td>3.99</td>\n",
       "      <td>KI</td>\n",
       "      <td>1682011512</td>\n",
       "    </tr>\n",
       "  </tbody>\n",
       "</table>\n",
       "</div>"
      ],
      "text/plain": [
       "                 City      Lat       Lng  Max Temp  Humidity  Cloudiness  \\\n",
       "City_ID                                                                    \n",
       "3        saint george  32.3764  -64.6893    295.17        69          40   \n",
       "4              jiddah  21.5810   39.1654    305.10        31           0   \n",
       "5          butaritari   2.9205  172.9189    301.21        78          40   \n",
       "8                hilo  19.7074 -155.0816    299.01        78           0   \n",
       "9          butaritari   2.9205  172.9189    301.21        78          40   \n",
       "\n",
       "         Wind Speed Country        Date  \n",
       "City_ID                                  \n",
       "3              5.14      BM  1682011512  \n",
       "4              4.12      SA  1682011338  \n",
       "5              3.99      KI  1682011512  \n",
       "8              2.57      US  1682011512  \n",
       "9              3.99      KI  1682011512  "
      ]
     },
     "execution_count": 26,
     "metadata": {},
     "output_type": "execute_result"
    }
   ],
   "source": [
    "# Create a DataFrame with the Northern Hemisphere data (Latitude >= 0)\n",
    "northern_hemi_df=city_data_df[city_data_df['Lat']>=0]\n",
    "\n",
    "# Display sample data\n",
    "northern_hemi_df.head()"
   ]
  },
  {
   "cell_type": "code",
   "execution_count": 27,
   "metadata": {},
   "outputs": [
    {
     "data": {
      "text/html": [
       "<div>\n",
       "<style scoped>\n",
       "    .dataframe tbody tr th:only-of-type {\n",
       "        vertical-align: middle;\n",
       "    }\n",
       "\n",
       "    .dataframe tbody tr th {\n",
       "        vertical-align: top;\n",
       "    }\n",
       "\n",
       "    .dataframe thead th {\n",
       "        text-align: right;\n",
       "    }\n",
       "</style>\n",
       "<table border=\"1\" class=\"dataframe\">\n",
       "  <thead>\n",
       "    <tr style=\"text-align: right;\">\n",
       "      <th></th>\n",
       "      <th>City</th>\n",
       "      <th>Lat</th>\n",
       "      <th>Lng</th>\n",
       "      <th>Max Temp</th>\n",
       "      <th>Humidity</th>\n",
       "      <th>Cloudiness</th>\n",
       "      <th>Wind Speed</th>\n",
       "      <th>Country</th>\n",
       "      <th>Date</th>\n",
       "    </tr>\n",
       "    <tr>\n",
       "      <th>City_ID</th>\n",
       "      <th></th>\n",
       "      <th></th>\n",
       "      <th></th>\n",
       "      <th></th>\n",
       "      <th></th>\n",
       "      <th></th>\n",
       "      <th></th>\n",
       "      <th></th>\n",
       "      <th></th>\n",
       "    </tr>\n",
       "  </thead>\n",
       "  <tbody>\n",
       "    <tr>\n",
       "      <th>0</th>\n",
       "      <td>vanimo</td>\n",
       "      <td>-2.6848</td>\n",
       "      <td>141.3009</td>\n",
       "      <td>298.37</td>\n",
       "      <td>88</td>\n",
       "      <td>100</td>\n",
       "      <td>1.71</td>\n",
       "      <td>PG</td>\n",
       "      <td>1682011512</td>\n",
       "    </tr>\n",
       "    <tr>\n",
       "      <th>1</th>\n",
       "      <td>albany</td>\n",
       "      <td>-35.0248</td>\n",
       "      <td>117.8836</td>\n",
       "      <td>287.10</td>\n",
       "      <td>56</td>\n",
       "      <td>5</td>\n",
       "      <td>3.19</td>\n",
       "      <td>AU</td>\n",
       "      <td>1682011512</td>\n",
       "    </tr>\n",
       "    <tr>\n",
       "      <th>2</th>\n",
       "      <td>mar del plata</td>\n",
       "      <td>-37.9977</td>\n",
       "      <td>-57.5483</td>\n",
       "      <td>295.88</td>\n",
       "      <td>53</td>\n",
       "      <td>0</td>\n",
       "      <td>5.66</td>\n",
       "      <td>AR</td>\n",
       "      <td>1682011512</td>\n",
       "    </tr>\n",
       "    <tr>\n",
       "      <th>6</th>\n",
       "      <td>lebu</td>\n",
       "      <td>-37.6100</td>\n",
       "      <td>-73.6559</td>\n",
       "      <td>289.65</td>\n",
       "      <td>74</td>\n",
       "      <td>48</td>\n",
       "      <td>4.69</td>\n",
       "      <td>CL</td>\n",
       "      <td>1682011512</td>\n",
       "    </tr>\n",
       "    <tr>\n",
       "      <th>7</th>\n",
       "      <td>minas</td>\n",
       "      <td>-34.3774</td>\n",
       "      <td>-55.2382</td>\n",
       "      <td>292.86</td>\n",
       "      <td>44</td>\n",
       "      <td>7</td>\n",
       "      <td>2.28</td>\n",
       "      <td>UY</td>\n",
       "      <td>1682011512</td>\n",
       "    </tr>\n",
       "  </tbody>\n",
       "</table>\n",
       "</div>"
      ],
      "text/plain": [
       "                  City      Lat       Lng  Max Temp  Humidity  Cloudiness  \\\n",
       "City_ID                                                                     \n",
       "0               vanimo  -2.6848  141.3009    298.37        88         100   \n",
       "1               albany -35.0248  117.8836    287.10        56           5   \n",
       "2        mar del plata -37.9977  -57.5483    295.88        53           0   \n",
       "6                 lebu -37.6100  -73.6559    289.65        74          48   \n",
       "7                minas -34.3774  -55.2382    292.86        44           7   \n",
       "\n",
       "         Wind Speed Country        Date  \n",
       "City_ID                                  \n",
       "0              1.71      PG  1682011512  \n",
       "1              3.19      AU  1682011512  \n",
       "2              5.66      AR  1682011512  \n",
       "6              4.69      CL  1682011512  \n",
       "7              2.28      UY  1682011512  "
      ]
     },
     "execution_count": 27,
     "metadata": {},
     "output_type": "execute_result"
    }
   ],
   "source": [
    "# Create a DataFrame with the Southern Hemisphere data (Latitude < 0)\n",
    "southern_hemi_df=city_data_df[city_data_df['Lat']<0]\n",
    "# Display sample data\n",
    "southern_hemi_df.head()"
   ]
  },
  {
   "cell_type": "markdown",
   "metadata": {},
   "source": [
    "###  Temperature vs. Latitude Linear Regression Plot"
   ]
  },
  {
   "cell_type": "code",
   "execution_count": 31,
   "metadata": {},
   "outputs": [
    {
     "data": {
      "text/plain": [
       "array([-0.61332399])"
      ]
     },
     "execution_count": 31,
     "metadata": {},
     "output_type": "execute_result"
    }
   ],
   "source": [
    "# Linear regression on Northern Hemisphere\n",
    "lr.fit(np.array(northern_hemi_df.Lat).reshape(-1,1),northern_hemi_df['Max Temp'])\n",
    "lr.coef_"
   ]
  },
  {
   "cell_type": "code",
   "execution_count": 32,
   "metadata": {},
   "outputs": [
    {
     "data": {
      "text/plain": [
       "array([0.35458583])"
      ]
     },
     "execution_count": 32,
     "metadata": {},
     "output_type": "execute_result"
    }
   ],
   "source": [
    "# Linear regression on Southern Hemisphere\n",
    "lr.fit(np.array(southern_hemi_df.Lat).reshape(-1,1),southern_hemi_df['Max Temp'])\n",
    "lr.coef_"
   ]
  },
  {
   "cell_type": "markdown",
   "metadata": {},
   "source": [
    "**Discussion about the linear relationship:** #\n",
    "In the southern hemisphere the tempertaure increases the farther north you go as examplified by the array presented, when you start at the Antarctica. In the northern hemisphere the temperature decreases the farther north you go when starting at the equator. "
   ]
  },
  {
   "cell_type": "markdown",
   "metadata": {},
   "source": [
    "### Humidity vs. Latitude Linear Regression Plot"
   ]
  },
  {
   "cell_type": "code",
   "execution_count": 36,
   "metadata": {},
   "outputs": [
    {
     "data": {
      "text/plain": [
       "array([0.22814123])"
      ]
     },
     "execution_count": 36,
     "metadata": {},
     "output_type": "execute_result"
    }
   ],
   "source": [
    "# Northern Hemisphere\n",
    "lr.fit(np.array(northern_hemi_df.Lat).reshape(-1,1),northern_hemi_df['Humidity'])\n",
    "lr.coef_"
   ]
  },
  {
   "cell_type": "code",
   "execution_count": 35,
   "metadata": {},
   "outputs": [
    {
     "data": {
      "text/plain": [
       "array([0.22140006])"
      ]
     },
     "execution_count": 35,
     "metadata": {},
     "output_type": "execute_result"
    }
   ],
   "source": [
    "# Southern Hemisphere\n",
    "lr.fit(np.array(southern_hemi_df.Lat).reshape(-1,1),southern_hemi_df['Humidity'])\n",
    "lr.coef_"
   ]
  },
  {
   "cell_type": "markdown",
   "metadata": {},
   "source": [
    "**Discussion about the linear relationship:** \n",
    "From starting at the equator in the northern hempishere it is evident that humidity inreases the farther you go north. The same could be said for the southern hemisphere starting at Antartica. the father you go Noth, the more humid it will be. "
   ]
  },
  {
   "cell_type": "markdown",
   "metadata": {},
   "source": [
    "### Cloudiness vs. Latitude Linear Regression Plot"
   ]
  },
  {
   "cell_type": "code",
   "execution_count": 37,
   "metadata": {},
   "outputs": [
    {
     "data": {
      "text/plain": [
       "array([0.2765123])"
      ]
     },
     "execution_count": 37,
     "metadata": {},
     "output_type": "execute_result"
    }
   ],
   "source": [
    "# Northern Hemisphere\n",
    "lr.fit(np.array(northern_hemi_df.Lat).reshape(-1,1),northern_hemi_df['Cloudiness'])\n",
    "lr.coef_"
   ]
  },
  {
   "cell_type": "code",
   "execution_count": 38,
   "metadata": {},
   "outputs": [
    {
     "data": {
      "text/plain": [
       "array([0.09521581])"
      ]
     },
     "execution_count": 38,
     "metadata": {},
     "output_type": "execute_result"
    }
   ],
   "source": [
    "# Southern Hemisphere\n",
    "lr.fit(np.array(southern_hemi_df.Lat).reshape(-1,1),southern_hemi_df['Cloudiness'])\n",
    "lr.coef_"
   ]
  },
  {
   "cell_type": "markdown",
   "metadata": {},
   "source": [
    "**Discussion about the linear relationship:** YOUR RESPONSE HERE\n",
    "Starting at the equator for the northern hemishere,  it is evident that cloudiness increases the farther you go north. The same could be said satraing at Antartica however the relation isn't as strong than the Northern hemisphere. The southern hemishere seems the be less cloudy in general. "
   ]
  },
  {
   "cell_type": "markdown",
   "metadata": {},
   "source": [
    "### Wind Speed vs. Latitude Linear Regression Plot"
   ]
  },
  {
   "cell_type": "code",
   "execution_count": 39,
   "metadata": {},
   "outputs": [
    {
     "data": {
      "text/plain": [
       "array([0.00791808])"
      ]
     },
     "execution_count": 39,
     "metadata": {},
     "output_type": "execute_result"
    }
   ],
   "source": [
    "# Northern Hemisphere\n",
    "lr.fit(np.array(northern_hemi_df.Lat).reshape(-1,1),northern_hemi_df['Wind Speed'])\n",
    "lr.coef_"
   ]
  },
  {
   "cell_type": "code",
   "execution_count": 41,
   "metadata": {},
   "outputs": [
    {
     "data": {
      "text/plain": [
       "array([-0.03595454])"
      ]
     },
     "execution_count": 41,
     "metadata": {},
     "output_type": "execute_result"
    }
   ],
   "source": [
    "# Southern Hemisphere\n",
    "lr.fit(np.array(southern_hemi_df.Lat).reshape(-1,1),southern_hemi_df['Wind Speed'])\n",
    "lr.coef_"
   ]
  },
  {
   "cell_type": "markdown",
   "metadata": {},
   "source": [
    "**Discussion about the linear relationship:** YOUR RESPONSE HERE\n",
    "Staring at the equator there seems to be a slight increase in wind speeds the farther north you go. However for the Southern hemisphere there seems to be a slight decrease in wind speeds starting in Antarctica the more noth you go.  "
   ]
  },
  {
   "cell_type": "code",
   "execution_count": null,
   "metadata": {},
   "outputs": [],
   "source": []
  }
 ],
 "metadata": {
  "anaconda-cloud": {},
  "kernel_info": {
   "name": "python3"
  },
  "kernelspec": {
   "display_name": "Python 3 (ipykernel)",
   "language": "python",
   "name": "python3"
  },
  "language_info": {
   "codemirror_mode": {
    "name": "ipython",
    "version": 3
   },
   "file_extension": ".py",
   "mimetype": "text/x-python",
   "name": "python",
   "nbconvert_exporter": "python",
   "pygments_lexer": "ipython3",
   "version": "3.10.9"
  },
  "latex_envs": {
   "LaTeX_envs_menu_present": true,
   "autoclose": false,
   "autocomplete": true,
   "bibliofile": "biblio.bib",
   "cite_by": "apalike",
   "current_citInitial": 1,
   "eqLabelWithNumbers": true,
   "eqNumInitial": 1,
   "hotkeys": {
    "equation": "Ctrl-E",
    "itemize": "Ctrl-I"
   },
   "labels_anchors": false,
   "latex_user_defs": false,
   "report_style_numbering": false,
   "user_envs_cfg": false
  },
  "nteract": {
   "version": "0.12.3"
  }
 },
 "nbformat": 4,
 "nbformat_minor": 4
}
